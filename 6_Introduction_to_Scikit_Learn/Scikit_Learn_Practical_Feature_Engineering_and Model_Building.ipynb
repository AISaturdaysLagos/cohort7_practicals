{
 "cells": [
  {
   "cell_type": "code",
   "execution_count": null,
   "metadata": {},
   "outputs": [],
   "source": [
    "import pandas as pd\n",
    "import seaborn as sns"
   ]
  },
  {
   "cell_type": "markdown",
   "metadata": {
    "ExecuteTime": {
     "end_time": "2021-11-05T18:56:30.570889Z",
     "start_time": "2021-11-05T18:56:30.554880Z"
    }
   },
   "source": [
    "# Importing the cleaned version of our data"
   ]
  },
  {
   "cell_type": "code",
   "execution_count": null,
   "metadata": {},
   "outputs": [],
   "source": [
    "data = pd.read_csv('cleaned_dataset.csv')"
   ]
  },
  {
   "cell_type": "markdown",
   "metadata": {
    "ExecuteTime": {
     "end_time": "2021-11-05T18:34:33.792304Z",
     "start_time": "2021-11-05T18:34:33.768254Z"
    }
   },
   "source": [
    "# Feature Engineering"
   ]
  },
  {
   "cell_type": "code",
   "execution_count": 24,
   "metadata": {
    "ExecuteTime": {
     "end_time": "2021-10-12T19:51:06.397560Z",
     "start_time": "2021-10-12T19:51:06.376574Z"
    }
   },
   "outputs": [],
   "source": [
    "# drop useless features\n",
    "\n",
    "#data['bound sulfur dioxide'] = data['total sulfur dioxide'] - data['free sulfur dioxide']\n",
    "#data['other acid'] = data['fixed acidity'] - data['citric acid']\n",
    "#data['new1'] = data['alcohol'] * data['pH']\n",
    "#data['new2'] = data['alcohol'] * data['density']\n",
    "#data['new3'] = data['alcohol'] * data['free sulfur dioxide']\n",
    "\n",
    "# drop some features\n",
    "#data.drop(['pH', 'citric acid', 'density', 'free sulfur dioxide'], axis=1, inplace=True)"
   ]
  },
  {
   "cell_type": "markdown",
   "metadata": {
    "ExecuteTime": {
     "end_time": "2020-11-26T22:30:23.109861Z",
     "start_time": "2020-11-26T22:30:23.097859Z"
    }
   },
   "source": [
    "# Spliting our dataset"
   ]
  },
  {
   "cell_type": "code",
   "execution_count": 29,
   "metadata": {
    "ExecuteTime": {
     "end_time": "2021-10-12T19:52:01.903473Z",
     "start_time": "2021-10-12T19:52:01.866482Z"
    },
    "scrolled": true
   },
   "outputs": [
    {
     "name": "stdout",
     "output_type": "stream",
     "text": [
      "(1359, 11) (1359,) (1359,)\n"
     ]
    }
   ],
   "source": [
    "X = data.drop(['quality', 'quality2'], axis=1).copy()\n",
    "X2 = data.drop(['quality', 'quality2'], axis=1).copy()\n",
    "\n",
    "y = data['quality'].copy()\n",
    "y2 = data['quality2'].copy()\n",
    "\n",
    "print(X.shape, y.shape, y2.shape)"
   ]
  },
  {
   "cell_type": "markdown",
   "metadata": {},
   "source": [
    "## Scaling our data"
   ]
  },
  {
   "cell_type": "code",
   "execution_count": 30,
   "metadata": {
    "ExecuteTime": {
     "end_time": "2021-10-12T19:52:05.250964Z",
     "start_time": "2021-10-12T19:52:05.183922Z"
    }
   },
   "outputs": [],
   "source": [
    "from sklearn.preprocessing import StandardScaler, MinMaxScaler\n",
    "\n",
    "# Standard Scaler gave better results\n",
    "\n",
    "X = StandardScaler().fit_transform(X)\n",
    "X2 = StandardScaler().fit_transform(X2)"
   ]
  },
  {
   "cell_type": "markdown",
   "metadata": {
    "ExecuteTime": {
     "end_time": "2020-11-26T23:36:51.676590Z",
     "start_time": "2020-11-26T23:36:51.665589Z"
    }
   },
   "source": [
    "## Carrying out Smote over sampling to battle the imbalanced nature of our data"
   ]
  },
  {
   "cell_type": "code",
   "execution_count": 32,
   "metadata": {
    "ExecuteTime": {
     "end_time": "2021-10-12T19:52:54.682192Z",
     "start_time": "2021-10-12T19:52:54.658198Z"
    }
   },
   "outputs": [
    {
     "name": "stdout",
     "output_type": "stream",
     "text": [
      "(3462, 11) (3462,)\n",
      "(2350, 11) (2350,)\n"
     ]
    }
   ],
   "source": [
    "# SMOTE Technique\n",
    "from imblearn.over_sampling import SMOTE\n",
    "\n",
    "smote = SMOTE(random_state=10)\n",
    "smote2 = SMOTE(random_state=10)\n",
    "\n",
    "X, y = smote.fit_sample(X, y)\n",
    "X2, y2 = smote2.fit_sample(X2, y2)\n",
    "\n",
    "print(X.shape, y.shape)\n",
    "print(X2.shape, y2.shape)"
   ]
  },
  {
   "cell_type": "markdown",
   "metadata": {},
   "source": [
    "## Splitting with Stratified shuffle split"
   ]
  },
  {
   "cell_type": "code",
   "execution_count": 33,
   "metadata": {
    "ExecuteTime": {
     "end_time": "2021-10-12T19:53:07.214831Z",
     "start_time": "2021-10-12T19:53:07.113835Z"
    }
   },
   "outputs": [],
   "source": [
    "from sklearn.model_selection import StratifiedShuffleSplit, train_test_split\n",
    "# for dataset1 \n",
    "X_train, X_test, y_train, y_test = train_test_split(X, y, random_state=10, test_size=0.25, stratify=y)\n",
    "\n",
    "# for dataset2\n",
    "X_train2, X_test2, y_train2, y_test2 = train_test_split(X2, y2, random_state=10, test_size=0.25, stratify=y2)\n"
   ]
  },
  {
   "cell_type": "code",
   "execution_count": null,
   "metadata": {},
   "outputs": [],
   "source": []
  },
  {
   "cell_type": "markdown",
   "metadata": {},
   "source": [
    "# ML Application\n",
    "\n",
    "- Define models.\n",
    "- Fit models.\n",
    "- Evaluate models for both train and test dataset.\n",
    "- Generate Confusion Matrix and scores of Accuracy, Recall, Precision and F1-Score.\n",
    "- Analyse occurrence of overfitting and underfitting. If there is any of them, try to overcome it within a different section."
   ]
  },
  {
   "cell_type": "code",
   "execution_count": 34,
   "metadata": {
    "ExecuteTime": {
     "end_time": "2021-10-12T19:53:19.142097Z",
     "start_time": "2021-10-12T19:53:18.591686Z"
    }
   },
   "outputs": [],
   "source": [
    "# importing our models and metrics\n",
    "\n",
    "from sklearn.ensemble import RandomForestClassifier\n",
    "from sklearn.linear_model import SGDClassifier, LogisticRegression\n",
    "from sklearn.svm import SVC\n",
    "from xgboost import XGBClassifier\n",
    "\n",
    "from sklearn.metrics import accuracy_score, precision_score, recall_score, f1_score, confusion_matrix, classification_report"
   ]
  },
  {
   "cell_type": "markdown",
   "metadata": {},
   "source": [
    "## We would focus on the precision score and F1 score for choosing the best model due to the business model."
   ]
  },
  {
   "cell_type": "markdown",
   "metadata": {},
   "source": [
    "### Random Forest classifier"
   ]
  },
  {
   "cell_type": "code",
   "execution_count": 52,
   "metadata": {
    "ExecuteTime": {
     "end_time": "2021-10-12T20:00:34.918421Z",
     "start_time": "2021-10-12T20:00:27.256181Z"
    },
    "scrolled": false
   },
   "outputs": [
    {
     "name": "stdout",
     "output_type": "stream",
     "text": [
      "              precision    recall  f1-score   support\n",
      "\n",
      "           3       0.99      0.99      0.99       145\n",
      "           4       0.95      0.90      0.92       154\n",
      "           5       0.64      0.73      0.68       126\n",
      "           6       0.59      0.63      0.61       134\n",
      "           7       0.92      0.84      0.88       159\n",
      "           8       1.00      0.97      0.99       148\n",
      "\n",
      "    accuracy                           0.85       866\n",
      "   macro avg       0.85      0.84      0.84       866\n",
      "weighted avg       0.86      0.85      0.85       866\n",
      " \n",
      "\n",
      "AxesSubplot(0.125,0.125;0.62x0.755) \n",
      "\n",
      "Train Precision:  1.0\n",
      "Test Precision:  0.8485312899106002\n",
      "Accuracy:  0.848729792147806\n",
      "Recall:  0.8427081402362769\n",
      "Train F1 Score:  1.0\n",
      "Test F1 Score:  0.844498323825159\n"
     ]
    },
    {
     "data": {
      "image/png": "[encoded data removed]",
      "text/plain": [
       "<Figure size 432x288 with 2 Axes>"
      ]
     },
     "metadata": {
      "needs_background": "light"
     },
     "output_type": "display_data"
    }
   ],
   "source": [
    "rf = RandomForestClassifier(n_estimators = 1000, min_samples_split= 2, random_state=10)\n",
    "rf.fit(X_train, y_train)\n",
    "pred3 = rf.predict(X_test)\n",
    "pred3t = rf.predict(X_train)\n",
    "\n",
    "print(classification_report(pred3, y_test), '\\n')\n",
    "print(sns.heatmap(confusion_matrix(pred3, y_test), annot=True, cmap='coolwarm'), '\\n')\n",
    "print('Train Precision: ', precision_score(pred3t, y_train, average='macro'))\n",
    "print('Test Precision: ', precision_score(pred3, y_test, average='macro'))\n",
    "print('Accuracy: ', accuracy_score(pred3, y_test))\n",
    "print('Recall: ', recall_score(pred3, y_test, average= 'macro'))\n",
    "print('Train F1 Score: ', f1_score(pred3t, y_train, average= 'macro'))\n",
    "print('Test F1 Score: ', f1_score(pred3, y_test, average= 'macro'))"
   ]
  },
  {
   "cell_type": "code",
   "execution_count": 37,
   "metadata": {
    "ExecuteTime": {
     "end_time": "2021-10-12T19:54:11.550022Z",
     "start_time": "2021-10-12T19:54:11.529984Z"
    }
   },
   "outputs": [
    {
     "data": {
      "text/plain": [
       "{'bootstrap': True,\n",
       " 'ccp_alpha': 0.0,\n",
       " 'class_weight': None,\n",
       " 'criterion': 'gini',\n",
       " 'max_depth': None,\n",
       " 'max_features': 'auto',\n",
       " 'max_leaf_nodes': None,\n",
       " 'max_samples': None,\n",
       " 'min_impurity_decrease': 0.0,\n",
       " 'min_impurity_split': None,\n",
       " 'min_samples_leaf': 1,\n",
       " 'min_samples_split': 2,\n",
       " 'min_weight_fraction_leaf': 0.0,\n",
       " 'n_estimators': 100,\n",
       " 'n_jobs': None,\n",
       " 'oob_score': False,\n",
       " 'random_state': 10,\n",
       " 'verbose': 0,\n",
       " 'warm_start': False}"
      ]
     },
     "execution_count": 37,
     "metadata": {},
     "output_type": "execute_result"
    }
   ],
   "source": [
    "rf.get_params()"
   ]
  },
  {
   "cell_type": "code",
   "execution_count": 38,
   "metadata": {
    "ExecuteTime": {
     "end_time": "2021-10-12T19:54:13.431275Z",
     "start_time": "2021-10-12T19:54:13.264276Z"
    }
   },
   "outputs": [
    {
     "data": {
      "text/html": [
       "<div>\n",
       "<style scoped>\n",
       "    .dataframe tbody tr th:only-of-type {\n",
       "        vertical-align: middle;\n",
       "    }\n",
       "\n",
       "    .dataframe tbody tr th {\n",
       "        vertical-align: top;\n",
       "    }\n",
       "\n",
       "    .dataframe thead th {\n",
       "        text-align: right;\n",
       "    }\n",
       "</style>\n",
       "<table border=\"1\" class=\"dataframe\">\n",
       "  <thead>\n",
       "    <tr style=\"text-align: right;\">\n",
       "      <th></th>\n",
       "      <th>0</th>\n",
       "      <th>1</th>\n",
       "      <th>2</th>\n",
       "      <th>3</th>\n",
       "      <th>4</th>\n",
       "      <th>5</th>\n",
       "      <th>6</th>\n",
       "      <th>7</th>\n",
       "      <th>8</th>\n",
       "      <th>9</th>\n",
       "      <th>10</th>\n",
       "      <th>11</th>\n",
       "      <th>12</th>\n",
       "    </tr>\n",
       "  </thead>\n",
       "  <tbody>\n",
       "    <tr>\n",
       "      <th>0</th>\n",
       "      <td>fixed acidity</td>\n",
       "      <td>volatile acidity</td>\n",
       "      <td>citric acid</td>\n",
       "      <td>residual sugar</td>\n",
       "      <td>chlorides</td>\n",
       "      <td>free sulfur dioxide</td>\n",
       "      <td>total sulfur dioxide</td>\n",
       "      <td>density</td>\n",
       "      <td>pH</td>\n",
       "      <td>sulphates</td>\n",
       "      <td>alcohol</td>\n",
       "      <td>quality</td>\n",
       "      <td>quality2</td>\n",
       "    </tr>\n",
       "    <tr>\n",
       "      <th>1</th>\n",
       "      <td>0.062677</td>\n",
       "      <td>0.127637</td>\n",
       "      <td>0.078545</td>\n",
       "      <td>0.069764</td>\n",
       "      <td>0.097645</td>\n",
       "      <td>0.064901</td>\n",
       "      <td>0.089333</td>\n",
       "      <td>0.06521</td>\n",
       "      <td>0.076852</td>\n",
       "      <td>0.12163</td>\n",
       "      <td>0.145806</td>\n",
       "      <td>None</td>\n",
       "      <td>None</td>\n",
       "    </tr>\n",
       "  </tbody>\n",
       "</table>\n",
       "</div>"
      ],
      "text/plain": [
       "              0                 1            2               3          4   \\\n",
       "0  fixed acidity  volatile acidity  citric acid  residual sugar  chlorides   \n",
       "1       0.062677          0.127637     0.078545        0.069764   0.097645   \n",
       "\n",
       "                    5                     6        7         8          9   \\\n",
       "0  free sulfur dioxide  total sulfur dioxide  density        pH  sulphates   \n",
       "1             0.064901              0.089333  0.06521  0.076852    0.12163   \n",
       "\n",
       "         10       11        12  \n",
       "0   alcohol  quality  quality2  \n",
       "1  0.145806     None      None  "
      ]
     },
     "execution_count": 38,
     "metadata": {},
     "output_type": "execute_result"
    }
   ],
   "source": [
    "# Checking the importance of features\n",
    "\n",
    "pd.DataFrame([data.columns, rf.feature_importances_])"
   ]
  },
  {
   "cell_type": "code",
   "execution_count": 53,
   "metadata": {
    "ExecuteTime": {
     "end_time": "2021-10-12T20:01:14.058072Z",
     "start_time": "2021-10-12T20:01:09.117164Z"
    }
   },
   "outputs": [
    {
     "name": "stdout",
     "output_type": "stream",
     "text": [
      "              precision    recall  f1-score   support\n",
      "\n",
      "           0       0.87      0.95      0.91       268\n",
      "           1       0.96      0.88      0.92       320\n",
      "\n",
      "    accuracy                           0.91       588\n",
      "   macro avg       0.91      0.91      0.91       588\n",
      "weighted avg       0.92      0.91      0.91       588\n",
      " \n",
      "\n",
      "AxesSubplot(0.125,0.125;0.62x0.755) \n",
      "\n",
      "Train Precision:  1.0\n",
      "Test Precision:  0.95578231292517\n",
      "Accuracy:  0.9115646258503401\n",
      "Recall:  0.878125\n",
      "Train F1 Score:  1.0\n",
      "F1 Score:  0.9153094462540716\n"
     ]
    },
    {
     "data": {
      "image/png": "[encoded data removed]",
      "text/plain": [
       "<Figure size 432x288 with 2 Axes>"
      ]
     },
     "metadata": {
      "needs_background": "light"
     },
     "output_type": "display_data"
    }
   ],
   "source": [
    "# Quality2\n",
    "\n",
    "rf2 = RandomForestClassifier(n_estimators = 1000, min_samples_split= 2, random_state=10)\n",
    "rf2.fit(X_train2, y_train2)\n",
    "pred32 = rf2.predict(X_test2)\n",
    "pred3t2 = rf2.predict(X_train2)\n",
    "\n",
    "print(classification_report(pred32, y_test2), '\\n')\n",
    "print(sns.heatmap(confusion_matrix(pred32, y_test2), annot=True, cmap='coolwarm'), '\\n')\n",
    "print('Train Precision: ', precision_score(pred3t2, y_train2))\n",
    "print('Test Precision: ', precision_score(pred32, y_test2))\n",
    "print('Accuracy: ', accuracy_score(pred32, y_test2))\n",
    "print('Recall: ', recall_score(pred32, y_test2))\n",
    "print('Train F1 Score: ', f1_score(pred3t2, y_train2))\n",
    "print('F1 Score: ', f1_score(pred32, y_test2))"
   ]
  },
  {
   "cell_type": "markdown",
   "metadata": {},
   "source": [
    "### SVC Classifier"
   ]
  },
  {
   "cell_type": "code",
   "execution_count": 40,
   "metadata": {
    "ExecuteTime": {
     "end_time": "2021-10-12T19:55:13.830691Z",
     "start_time": "2021-10-12T19:55:12.441251Z"
    }
   },
   "outputs": [
    {
     "name": "stdout",
     "output_type": "stream",
     "text": [
      "              precision    recall  f1-score   support\n",
      "\n",
      "           3       1.00      1.00      1.00       144\n",
      "           4       0.97      0.96      0.96       146\n",
      "           5       0.70      0.66      0.68       153\n",
      "           6       0.60      0.66      0.63       131\n",
      "           7       0.90      0.89      0.90       147\n",
      "           8       1.00      0.99      1.00       145\n",
      "\n",
      "    accuracy                           0.86       866\n",
      "   macro avg       0.86      0.86      0.86       866\n",
      "weighted avg       0.86      0.86      0.86       866\n",
      " \n",
      "\n",
      "AxesSubplot(0.125,0.125;0.62x0.755) \n",
      "\n",
      "Precision:  0.8612627713920817\n",
      "Accuracy:  0.8614318706697459\n",
      "Recall:  0.859963881503751\n",
      "F1 Score:  0.8602647674440247\n"
     ]
    },
    {
     "data": {
      "image/png": "[encoded data removed]",
      "text/plain": [
       "<Figure size 432x288 with 2 Axes>"
      ]
     },
     "metadata": {
      "needs_background": "light"
     },
     "output_type": "display_data"
    }
   ],
   "source": [
    "svc = SVC(C=1.2, class_weight=None, gamma=0.9, kernel='rbf')\n",
    "svc.fit(X_train, y_train)\n",
    "pred4 = svc.predict(X_test)\n",
    "\n",
    "print(classification_report(pred4, y_test), '\\n')\n",
    "print(sns.heatmap(confusion_matrix(pred4, y_test), annot=True, cmap='coolwarm'), '\\n')\n",
    "print('Precision: ', precision_score(pred4, y_test, average='macro'))\n",
    "print('Accuracy: ', accuracy_score(pred4, y_test))\n",
    "print('Recall: ', recall_score(pred4, y_test, average= 'macro'))\n",
    "print('F1 Score: ', f1_score(pred4, y_test, average= 'macro'))"
   ]
  },
  {
   "cell_type": "code",
   "execution_count": 41,
   "metadata": {
    "ExecuteTime": {
     "end_time": "2021-10-12T19:55:26.066843Z",
     "start_time": "2021-10-12T19:55:25.521141Z"
    }
   },
   "outputs": [
    {
     "name": "stdout",
     "output_type": "stream",
     "text": [
      "              precision    recall  f1-score   support\n",
      "\n",
      "           0       0.94      0.97      0.95       286\n",
      "           1       0.97      0.94      0.95       302\n",
      "\n",
      "    accuracy                           0.95       588\n",
      "   macro avg       0.95      0.95      0.95       588\n",
      "weighted avg       0.95      0.95      0.95       588\n",
      " \n",
      "\n",
      "AxesSubplot(0.125,0.125;0.62x0.755) \n",
      "\n",
      "Precision:  0.9659863945578231\n",
      "Accuracy:  0.9523809523809523\n",
      "Recall:  0.9403973509933775\n",
      "F1 Score:  0.9530201342281879\n"
     ]
    },
    {
     "data": {
      "image/png": "[encoded data removed]",
      "text/plain": [
       "<Figure size 432x288 with 2 Axes>"
      ]
     },
     "metadata": {
      "needs_background": "light"
     },
     "output_type": "display_data"
    }
   ],
   "source": [
    "# Quality2\n",
    "\n",
    "svc2 = SVC(C=1.2, class_weight=None, gamma=0.9, kernel='rbf')\n",
    "svc2.fit(X_train2, y_train2)\n",
    "pred42 = svc2.predict(X_test2)\n",
    "\n",
    "print(classification_report(pred42, y_test2), '\\n')\n",
    "print(sns.heatmap(confusion_matrix(pred42, y_test2), annot=True, cmap='coolwarm'), '\\n')\n",
    "print('Precision: ', precision_score(pred42, y_test2))\n",
    "print('Accuracy: ', accuracy_score(pred42, y_test2))\n",
    "print('Recall: ', recall_score(pred42, y_test2))\n",
    "print('F1 Score: ', f1_score(pred42, y_test2))"
   ]
  },
  {
   "cell_type": "markdown",
   "metadata": {},
   "source": [
    "### SGD classifier"
   ]
  },
  {
   "cell_type": "code",
   "execution_count": 42,
   "metadata": {
    "ExecuteTime": {
     "end_time": "2021-10-12T19:55:35.974705Z",
     "start_time": "2021-10-12T19:55:35.412868Z"
    }
   },
   "outputs": [
    {
     "name": "stdout",
     "output_type": "stream",
     "text": [
      "              precision    recall  f1-score   support\n",
      "\n",
      "           3       0.93      0.77      0.84       175\n",
      "           4       0.35      0.48      0.41       106\n",
      "           5       0.62      0.48      0.55       186\n",
      "           6       0.22      0.29      0.25       106\n",
      "           7       0.34      0.47      0.40       107\n",
      "           8       0.80      0.62      0.70       186\n",
      "\n",
      "    accuracy                           0.54       866\n",
      "   macro avg       0.54      0.52      0.52       866\n",
      "weighted avg       0.61      0.54      0.57       866\n",
      " \n",
      "\n",
      "AxesSubplot(0.125,0.125;0.62x0.755) \n",
      "\n",
      "Precision:  0.5443326947637293\n",
      "Accuracy:  0.5438799076212472\n",
      "Recall:  0.5181232414392066\n",
      "F1 Score:  0.5222915888485334\n"
     ]
    },
    {
     "data": {
      "image/png": "[encoded data removed]",
      "text/plain": [
       "<Figure size 432x288 with 2 Axes>"
      ]
     },
     "metadata": {
      "needs_background": "light"
     },
     "output_type": "display_data"
    }
   ],
   "source": [
    "sgd = SGDClassifier(random_state=10)\n",
    "sgd.fit(X_train, y_train)\n",
    "pred5 = sgd.predict(X_test)\n",
    "\n",
    "print(classification_report(pred5, y_test), '\\n')\n",
    "print(sns.heatmap(confusion_matrix(pred5, y_test), annot=True, cmap='coolwarm'), '\\n')\n",
    "print('Precision: ', precision_score(pred5, y_test, average='macro'))\n",
    "print('Accuracy: ', accuracy_score(pred5, y_test))\n",
    "print('Recall: ', recall_score(pred5, y_test, average= 'macro'))\n",
    "print('F1 Score: ', f1_score(pred5, y_test, average= 'macro'))"
   ]
  },
  {
   "cell_type": "code",
   "execution_count": 43,
   "metadata": {
    "ExecuteTime": {
     "end_time": "2021-10-12T19:55:40.279602Z",
     "start_time": "2021-10-12T19:55:39.969819Z"
    }
   },
   "outputs": [
    {
     "name": "stdout",
     "output_type": "stream",
     "text": [
      "              precision    recall  f1-score   support\n",
      "\n",
      "           0       0.75      0.81      0.78       274\n",
      "           1       0.82      0.77      0.79       314\n",
      "\n",
      "    accuracy                           0.79       588\n",
      "   macro avg       0.79      0.79      0.79       588\n",
      "weighted avg       0.79      0.79      0.79       588\n",
      " \n",
      "\n",
      "AxesSubplot(0.125,0.125;0.62x0.755) \n",
      "\n",
      "Precision:  0.8197278911564626\n",
      "Accuracy:  0.7857142857142857\n",
      "Recall:  0.767515923566879\n",
      "F1 Score:  0.792763157894737\n"
     ]
    },
    {
     "data": {
      "image/png": "[encoded data removed]",
      "text/plain": [
       "<Figure size 432x288 with 2 Axes>"
      ]
     },
     "metadata": {
      "needs_background": "light"
     },
     "output_type": "display_data"
    }
   ],
   "source": [
    "# Quality 2\n",
    "\n",
    "sgd2 = SGDClassifier(random_state=10)\n",
    "sgd2.fit(X_train2, y_train2)\n",
    "pred52 = sgd2.predict(X_test2)\n",
    "\n",
    "print(classification_report(pred52, y_test2), '\\n')\n",
    "print(sns.heatmap(confusion_matrix(pred52, y_test2), annot=True, cmap='coolwarm'), '\\n')\n",
    "print('Precision: ', precision_score(pred52, y_test2))\n",
    "print('Accuracy: ', accuracy_score(pred52, y_test2))\n",
    "print('Recall: ', recall_score(pred52, y_test2))\n",
    "print('F1 Score: ', f1_score(pred52, y_test2))"
   ]
  },
  {
   "cell_type": "markdown",
   "metadata": {},
   "source": [
    "### Logistic Regresson Classifier"
   ]
  },
  {
   "cell_type": "code",
   "execution_count": 44,
   "metadata": {
    "ExecuteTime": {
     "end_time": "2021-10-12T19:55:44.074768Z",
     "start_time": "2021-10-12T19:55:43.463889Z"
    }
   },
   "outputs": [
    {
     "name": "stdout",
     "output_type": "stream",
     "text": [
      "              precision    recall  f1-score   support\n",
      "\n",
      "           3       0.90      0.77      0.83       167\n",
      "           4       0.61      0.60      0.61       148\n",
      "           5       0.57      0.60      0.58       137\n",
      "           6       0.34      0.52      0.41        94\n",
      "           7       0.50      0.53      0.51       136\n",
      "           8       0.83      0.65      0.73       184\n",
      "\n",
      "    accuracy                           0.62       866\n",
      "   macro avg       0.62      0.61      0.61       866\n",
      "weighted avg       0.66      0.62      0.64       866\n",
      " \n",
      "\n",
      "AxesSubplot(0.125,0.125;0.62x0.755) \n",
      "\n",
      "Precision:  0.6248722860791827\n",
      "Accuracy:  0.6247113163972287\n",
      "Recall:  0.6125348101085256\n",
      "F1 Score:  0.6127746597000888\n"
     ]
    },
    {
     "data": {
      "image/png": "[encoded data removed]",
      "text/plain": [
       "<Figure size 432x288 with 2 Axes>"
      ]
     },
     "metadata": {
      "needs_background": "light"
     },
     "output_type": "display_data"
    }
   ],
   "source": [
    "lg = LogisticRegression(random_state=10)\n",
    "lg.fit(X_train, y_train)\n",
    "pred6 = lg.predict(X_test)\n",
    "\n",
    "print(classification_report(pred6, y_test), '\\n')\n",
    "print(sns.heatmap(confusion_matrix(pred6, y_test), annot=True, cmap='coolwarm'), '\\n')\n",
    "print('Precision: ', precision_score(pred6, y_test, average='macro'))\n",
    "print('Accuracy: ', accuracy_score(pred6, y_test))\n",
    "print('Recall: ', recall_score(pred6, y_test, average= 'macro'))\n",
    "print('F1 Score: ', f1_score(pred6, y_test, average= 'macro'))"
   ]
  },
  {
   "cell_type": "code",
   "execution_count": 45,
   "metadata": {
    "ExecuteTime": {
     "end_time": "2021-10-12T19:55:47.837294Z",
     "start_time": "2021-10-12T19:55:47.496666Z"
    }
   },
   "outputs": [
    {
     "name": "stdout",
     "output_type": "stream",
     "text": [
      "              precision    recall  f1-score   support\n",
      "\n",
      "           0       0.77      0.86      0.81       265\n",
      "           1       0.87      0.79      0.83       323\n",
      "\n",
      "    accuracy                           0.82       588\n",
      "   macro avg       0.82      0.82      0.82       588\n",
      "weighted avg       0.83      0.82      0.82       588\n",
      " \n",
      "\n",
      "AxesSubplot(0.125,0.125;0.62x0.755) \n",
      "\n",
      "Precision:  0.8707482993197279\n",
      "Accuracy:  0.8214285714285714\n",
      "Recall:  0.7925696594427245\n",
      "F1 Score:  0.8298217179902756\n"
     ]
    },
    {
     "data": {
      "image/png": "[encoded data removed]",
      "text/plain": [
       "<Figure size 432x288 with 2 Axes>"
      ]
     },
     "metadata": {
      "needs_background": "light"
     },
     "output_type": "display_data"
    }
   ],
   "source": [
    "# Quality2\n",
    "\n",
    "lg2 = LogisticRegression(random_state=10)\n",
    "lg2.fit(X_train2, y_train2)\n",
    "pred62 = lg2.predict(X_test2)\n",
    "\n",
    "print(classification_report(pred62, y_test2), '\\n')\n",
    "print(sns.heatmap(confusion_matrix(pred62, y_test2), annot=True, cmap='coolwarm'), '\\n')\n",
    "print('Precision: ', precision_score(pred62, y_test2))\n",
    "print('Accuracy: ', accuracy_score(pred62, y_test2))\n",
    "print('Recall: ', recall_score(pred62, y_test2))\n",
    "print('F1 Score: ', f1_score(pred62, y_test2))"
   ]
  },
  {
   "cell_type": "markdown",
   "metadata": {},
   "source": [
    "### XGBoost"
   ]
  },
  {
   "cell_type": "code",
   "execution_count": 46,
   "metadata": {
    "ExecuteTime": {
     "end_time": "2021-10-12T19:55:53.957448Z",
     "start_time": "2021-10-12T19:55:52.213684Z"
    }
   },
   "outputs": [
    {
     "name": "stdout",
     "output_type": "stream",
     "text": [
      "              precision    recall  f1-score   support\n",
      "\n",
      "           3       0.97      0.97      0.97       143\n",
      "           4       0.86      0.78      0.82       161\n",
      "           5       0.60      0.65      0.63       133\n",
      "           6       0.44      0.55      0.49       117\n",
      "           7       0.79      0.74      0.77       155\n",
      "           8       0.98      0.90      0.94       157\n",
      "\n",
      "    accuracy                           0.77       866\n",
      "   macro avg       0.77      0.76      0.77       866\n",
      "weighted avg       0.79      0.77      0.78       866\n",
      " \n",
      "\n",
      "AxesSubplot(0.125,0.125;0.62x0.755) \n",
      "\n",
      "Precision:  0.7747046615581099\n",
      "Accuracy:  0.7748267898383372\n",
      "Recall:  0.7649323381259707\n",
      "F1 Score:  0.7679597704695889\n"
     ]
    },
    {
     "data": {
      "image/png": "[encoded data removed]",
      "text/plain": [
       "<Figure size 432x288 with 2 Axes>"
      ]
     },
     "metadata": {
      "needs_background": "light"
     },
     "output_type": "display_data"
    }
   ],
   "source": [
    "xgb = XGBClassifier(random_state=10)\n",
    "xgb.fit(X_train, y_train)\n",
    "pred7 = xgb.predict(X_test)\n",
    "\n",
    "print(classification_report(pred7, y_test), '\\n')\n",
    "print(sns.heatmap(confusion_matrix(pred7, y_test), annot=True, cmap='coolwarm'), '\\n')\n",
    "print('Precision: ', precision_score(pred7, y_test, average='macro'))\n",
    "print('Accuracy: ', accuracy_score(pred7, y_test))\n",
    "print('Recall: ', recall_score(pred7, y_test, average= 'macro'))\n",
    "print('F1 Score: ', f1_score(pred7, y_test, average= 'macro'))"
   ]
  },
  {
   "cell_type": "code",
   "execution_count": 47,
   "metadata": {
    "ExecuteTime": {
     "end_time": "2021-10-12T19:55:59.614392Z",
     "start_time": "2021-10-12T19:55:59.178115Z"
    }
   },
   "outputs": [
    {
     "name": "stdout",
     "output_type": "stream",
     "text": [
      "              precision    recall  f1-score   support\n",
      "\n",
      "           0       0.83      0.93      0.88       261\n",
      "           1       0.94      0.85      0.89       327\n",
      "\n",
      "    accuracy                           0.89       588\n",
      "   macro avg       0.89      0.89      0.89       588\n",
      "weighted avg       0.89      0.89      0.89       588\n",
      " \n",
      "\n",
      "AxesSubplot(0.125,0.125;0.62x0.755) \n",
      "\n",
      "Precision:  0.9421768707482994\n",
      "Accuracy:  0.8860544217687075\n",
      "Recall:  0.8470948012232415\n",
      "F1 Score:  0.8921095008051529\n"
     ]
    },
    {
     "data": {
      "image/png": "[encoded data removed]",
      "text/plain": [
       "<Figure size 432x288 with 2 Axes>"
      ]
     },
     "metadata": {
      "needs_background": "light"
     },
     "output_type": "display_data"
    }
   ],
   "source": [
    "xgb2 = XGBClassifier(random_state=10)\n",
    "xgb2.fit(X_train2, y_train2)\n",
    "pred72 = xgb2.predict(X_test2)\n",
    "\n",
    "print(classification_report(pred72, y_test2), '\\n')\n",
    "print(sns.heatmap(confusion_matrix(pred72, y_test2), annot=True, cmap='coolwarm'), '\\n')\n",
    "print('Precision: ', precision_score(pred72, y_test2))\n",
    "print('Accuracy: ', accuracy_score(pred72, y_test2))\n",
    "print('Recall: ', recall_score(pred72, y_test2))\n",
    "print('F1 Score: ', f1_score(pred72, y_test2))"
   ]
  },
  {
   "cell_type": "markdown",
   "metadata": {},
   "source": [
    "## Hyper Parameter Tuning our Best Performing model - Random Forest Classifier"
   ]
  },
  {
   "cell_type": "code",
   "execution_count": 48,
   "metadata": {
    "ExecuteTime": {
     "end_time": "2021-10-12T19:56:06.984348Z",
     "start_time": "2021-10-12T19:56:06.966343Z"
    }
   },
   "outputs": [],
   "source": [
    "from sklearn.model_selection import cross_val_score, GridSearchCV, RandomizedSearchCV"
   ]
  },
  {
   "cell_type": "code",
   "execution_count": 57,
   "metadata": {
    "ExecuteTime": {
     "end_time": "2021-10-12T20:10:34.885623Z",
     "start_time": "2021-10-12T20:10:34.853892Z"
    }
   },
   "outputs": [],
   "source": [
    "param = {'n_estimators': [100, 200, 500, 1000], 'min_samples_split': list(range(2,6))}\n",
    "\n",
    "model = RandomForestClassifier(random_state=10, verbose=5)\n",
    "\n",
    "grid = RandomizedSearchCV(estimator=model, param_distributions=param, n_jobs=-1, verbose=5, cv=5, n_iter=20, scoring='precision')"
   ]
  },
  {
   "cell_type": "code",
   "execution_count": 58,
   "metadata": {
    "ExecuteTime": {
     "end_time": "2021-10-12T20:12:00.914905Z",
     "start_time": "2021-10-12T20:10:36.687164Z"
    }
   },
   "outputs": [
    {
     "name": "stdout",
     "output_type": "stream",
     "text": [
      "Fitting 5 folds for each of 20 candidates, totalling 100 fits\n"
     ]
    },
    {
     "name": "stderr",
     "output_type": "stream",
     "text": [
      "[Parallel(n_jobs=1)]: Using backend SequentialBackend with 1 concurrent workers.\n",
      "[Parallel(n_jobs=1)]: Done   1 out of   1 | elapsed:    0.0s remaining:    0.0s\n",
      "[Parallel(n_jobs=1)]: Done   2 out of   2 | elapsed:    0.0s remaining:    0.0s\n",
      "[Parallel(n_jobs=1)]: Done   3 out of   3 | elapsed:    0.0s remaining:    0.0s\n",
      "[Parallel(n_jobs=1)]: Done   4 out of   4 | elapsed:    0.0s remaining:    0.0s\n"
     ]
    },
    {
     "name": "stdout",
     "output_type": "stream",
     "text": [
      "building tree 1 of 100\n",
      "building tree 2 of 100\n",
      "building tree 3 of 100\n",
      "building tree 4 of 100\n",
      "building tree 5 of 100\n",
      "building tree 6 of 100\n",
      "building tree 7 of 100\n",
      "building tree 8 of 100\n",
      "building tree 9 of 100\n",
      "building tree 10 of 100\n",
      "building tree 11 of 100\n",
      "building tree 12 of 100\n",
      "building tree 13 of 100\n",
      "building tree 14 of 100\n",
      "building tree 15 of 100\n",
      "building tree 16 of 100\n",
      "building tree 17 of 100\n",
      "building tree 18 of 100\n",
      "building tree 19 of 100\n",
      "building tree 20 of 100\n",
      "building tree 21 of 100\n",
      "building tree 22 of 100\n",
      "building tree 23 of 100\n",
      "building tree 24 of 100\n",
      "building tree 25 of 100\n",
      "building tree 26 of 100\n",
      "building tree 27 of 100\n",
      "building tree 28 of 100\n",
      "building tree 29 of 100\n",
      "building tree 30 of 100\n",
      "building tree 31 of 100\n",
      "building tree 32 of 100\n",
      "building tree 33 of 100\n",
      "building tree 34 of 100\n",
      "building tree 35 of 100\n",
      "building tree 36 of 100\n",
      "building tree 37 of 100\n",
      "building tree 38 of 100\n",
      "building tree 39 of 100\n",
      "building tree 40 of 100\n",
      "building tree 41 of 100\n",
      "building tree 42 of 100\n",
      "building tree 43 of 100\n",
      "building tree 44 of 100\n",
      "building tree 45 of 100\n",
      "building tree 46 of 100\n",
      "building tree 47 of 100\n",
      "building tree 48 of 100\n",
      "building tree 49 of 100\n",
      "building tree 50 of 100\n",
      "building tree 51 of 100\n",
      "building tree 52 of 100\n",
      "building tree 53 of 100\n",
      "building tree 54 of 100\n",
      "building tree 55 of 100\n",
      "building tree 56 of 100\n",
      "building tree 57 of 100\n",
      "building tree 58 of 100\n",
      "building tree 59 of 100\n",
      "building tree 60 of 100\n",
      "building tree 61 of 100\n",
      "building tree 62 of 100\n",
      "building tree 63 of 100\n",
      "building tree 64 of 100\n",
      "building tree 65 of 100\n",
      "building tree 66 of 100\n",
      "building tree 67 of 100\n",
      "building tree 68 of 100\n",
      "building tree 69 of 100\n",
      "building tree 70 of 100\n",
      "building tree 71 of 100\n",
      "building tree 72 of 100\n",
      "building tree 73 of 100\n",
      "building tree 74 of 100\n",
      "building tree 75 of 100\n",
      "building tree 76 of 100\n",
      "building tree 77 of 100\n",
      "building tree 78 of 100\n",
      "building tree 79 of 100\n",
      "building tree 80 of 100\n",
      "building tree 81 of 100\n",
      "building tree 82 of 100\n",
      "building tree 83 of 100\n",
      "building tree 84 of 100\n",
      "building tree 85 of 100\n",
      "building tree 86 of 100\n",
      "building tree 87 of 100\n",
      "building tree 88 of 100\n",
      "building tree 89 of 100\n",
      "building tree 90 of 100\n",
      "building tree 91 of 100\n",
      "building tree 92 of 100\n",
      "building tree 93 of 100\n",
      "building tree 94 of 100\n",
      "building tree 95 of 100\n",
      "building tree 96 of 100\n",
      "building tree 97 of 100\n",
      "building tree 98 of 100\n",
      "building tree 99 of 100\n",
      "building tree 100 of 100\n"
     ]
    },
    {
     "name": "stderr",
     "output_type": "stream",
     "text": [
      "[Parallel(n_jobs=1)]: Done 100 out of 100 | elapsed:    0.3s finished\n"
     ]
    },
    {
     "data": {
      "text/plain": [
       "RandomizedSearchCV(cv=5,\n",
       "                   estimator=RandomForestClassifier(random_state=10, verbose=5),\n",
       "                   n_iter=20, n_jobs=-1,\n",
       "                   param_distributions={'max_depth': [2, 3, 4, 5, 6, 7, 8, 9,\n",
       "                                                      10],\n",
       "                                        'min_samples_split': [2, 3, 4, 5],\n",
       "                                        'n_estimators': [100, 200, 500, 1000]},\n",
       "                   scoring='precision', verbose=5)"
      ]
     },
     "execution_count": 58,
     "metadata": {},
     "output_type": "execute_result"
    }
   ],
   "source": [
    "grid.fit(X_train2, y_train2)"
   ]
  },
  {
   "cell_type": "code",
   "execution_count": 59,
   "metadata": {
    "ExecuteTime": {
     "end_time": "2021-10-12T20:12:01.151901Z",
     "start_time": "2021-10-12T20:12:01.139900Z"
    }
   },
   "outputs": [
    {
     "name": "stdout",
     "output_type": "stream",
     "text": [
      "{'n_estimators': 100, 'min_samples_split': 2, 'max_depth': 9}\n",
      "0.8701516036522137\n"
     ]
    }
   ],
   "source": [
    "# print the best parameters and score\n",
    "\n",
    "print(grid.best_params_)\n",
    "print(grid.best_score_)"
   ]
  },
  {
   "cell_type": "markdown",
   "metadata": {},
   "source": [
    "# Choosing the best Model"
   ]
  },
  {
   "cell_type": "markdown",
   "metadata": {},
   "source": [
    "## Cross Validation"
   ]
  },
  {
   "cell_type": "code",
   "execution_count": 60,
   "metadata": {
    "ExecuteTime": {
     "end_time": "2021-10-12T20:13:24.931075Z",
     "start_time": "2021-10-12T20:12:01.365916Z"
    },
    "scrolled": false
   },
   "outputs": [
    {
     "name": "stdout",
     "output_type": "stream",
     "text": [
      "Random Forest\n",
      "nan\n",
      "0.8907301919803465\n",
      "\n",
      "SVC\n",
      "nan\n",
      "0.9456685239303575\n"
     ]
    }
   ],
   "source": [
    "cv_score = cross_val_score(RandomForestClassifier(n_estimators=1000, random_state=10), X, y, cv=10, n_jobs=-1, scoring='precision')\n",
    "cv_score2 = cross_val_score(RandomForestClassifier(n_estimators=1000, random_state=10), X2, y2, cv=10, n_jobs=-1, scoring='precision')\n",
    "\n",
    "cv_scorex = cross_val_score(SVC(C=1.2, class_weight=None, gamma=0.9, kernel='rbf'), X, y, cv=10, n_jobs=-1, scoring='precision')\n",
    "cv_score2x = cross_val_score(SVC(C=1.2, class_weight=None, gamma=0.9, kernel='rbf'), X2, y2, cv=10, n_jobs=-1, scoring='precision')\n",
    "\n",
    "print('Random Forest')\n",
    "print(cv_score.mean())\n",
    "print(cv_score2.mean())\n",
    "\n",
    "\n",
    "print('')\n",
    "print('SVC')\n",
    "\n",
    "print(cv_scorex.mean())\n",
    "print(cv_score2x.mean())"
   ]
  },
  {
   "cell_type": "markdown",
   "metadata": {},
   "source": [
    "## Feature Selection With RFECV Model Selector"
   ]
  },
  {
   "cell_type": "code",
   "execution_count": 66,
   "metadata": {
    "ExecuteTime": {
     "end_time": "2021-10-12T20:32:09.876083Z",
     "start_time": "2021-10-12T20:28:44.233814Z"
    }
   },
   "outputs": [
    {
     "name": "stdout",
     "output_type": "stream",
     "text": [
      "Fitting estimator with 11 features.\n",
      "Fitting estimator with 10 features.\n",
      "Fitting estimator with 9 features.\n",
      "Fitting estimator with 8 features.\n",
      "Fitting estimator with 7 features.\n",
      "Fitting estimator with 6 features.\n",
      "Fitting estimator with 5 features.\n",
      "Fitting estimator with 4 features.\n",
      "Fitting estimator with 3 features.\n",
      "Fitting estimator with 2 features.\n",
      "Precision:  0.8231292517006803\n"
     ]
    }
   ],
   "source": [
    "from sklearn.feature_selection import RFECV\n",
    "\n",
    "est = RandomForestClassifier(n_estimators = 1000, min_samples_split= 2, random_state=10)\n",
    "\n",
    "rcv = RFECV(estimator=est, cv=10, verbose=5, n_jobs=-1, scoring='precision')\n",
    "rcv.fit(X_train2, y_train2)\n",
    "predx = rcv.predict(X_test2)\n",
    "\n",
    "print('Precision: ', precision_score(predx, y_test2))"
   ]
  },
  {
   "cell_type": "code",
   "execution_count": 74,
   "metadata": {
    "ExecuteTime": {
     "end_time": "2021-10-12T20:37:24.124091Z",
     "start_time": "2021-10-12T20:37:24.045053Z"
    }
   },
   "outputs": [
    {
     "data": {
      "text/html": [
       "<div>\n",
       "<style scoped>\n",
       "    .dataframe tbody tr th:only-of-type {\n",
       "        vertical-align: middle;\n",
       "    }\n",
       "\n",
       "    .dataframe tbody tr th {\n",
       "        vertical-align: top;\n",
       "    }\n",
       "\n",
       "    .dataframe thead th {\n",
       "        text-align: right;\n",
       "    }\n",
       "</style>\n",
       "<table border=\"1\" class=\"dataframe\">\n",
       "  <thead>\n",
       "    <tr style=\"text-align: right;\">\n",
       "      <th></th>\n",
       "      <th>0</th>\n",
       "      <th>1</th>\n",
       "      <th>2</th>\n",
       "      <th>3</th>\n",
       "      <th>4</th>\n",
       "      <th>5</th>\n",
       "      <th>6</th>\n",
       "      <th>7</th>\n",
       "      <th>8</th>\n",
       "      <th>9</th>\n",
       "      <th>10</th>\n",
       "      <th>11</th>\n",
       "      <th>12</th>\n",
       "    </tr>\n",
       "  </thead>\n",
       "  <tbody>\n",
       "    <tr>\n",
       "      <th>0</th>\n",
       "      <td>False</td>\n",
       "      <td>False</td>\n",
       "      <td>False</td>\n",
       "      <td>False</td>\n",
       "      <td>False</td>\n",
       "      <td>False</td>\n",
       "      <td>False</td>\n",
       "      <td>False</td>\n",
       "      <td>False</td>\n",
       "      <td>False</td>\n",
       "      <td>True</td>\n",
       "      <td>None</td>\n",
       "      <td>None</td>\n",
       "    </tr>\n",
       "    <tr>\n",
       "      <th>1</th>\n",
       "      <td>fixed acidity</td>\n",
       "      <td>volatile acidity</td>\n",
       "      <td>citric acid</td>\n",
       "      <td>residual sugar</td>\n",
       "      <td>chlorides</td>\n",
       "      <td>free sulfur dioxide</td>\n",
       "      <td>total sulfur dioxide</td>\n",
       "      <td>density</td>\n",
       "      <td>pH</td>\n",
       "      <td>sulphates</td>\n",
       "      <td>alcohol</td>\n",
       "      <td>quality</td>\n",
       "      <td>quality2</td>\n",
       "    </tr>\n",
       "    <tr>\n",
       "      <th>2</th>\n",
       "      <td>7</td>\n",
       "      <td>2</td>\n",
       "      <td>4</td>\n",
       "      <td>11</td>\n",
       "      <td>9</td>\n",
       "      <td>8</td>\n",
       "      <td>5</td>\n",
       "      <td>6</td>\n",
       "      <td>10</td>\n",
       "      <td>3</td>\n",
       "      <td>1</td>\n",
       "      <td>None</td>\n",
       "      <td>None</td>\n",
       "    </tr>\n",
       "  </tbody>\n",
       "</table>\n",
       "</div>"
      ],
      "text/plain": [
       "              0                 1            2               3          4   \\\n",
       "0          False             False        False           False      False   \n",
       "1  fixed acidity  volatile acidity  citric acid  residual sugar  chlorides   \n",
       "2              7                 2            4              11          9   \n",
       "\n",
       "                    5                     6        7      8          9   \\\n",
       "0                False                 False    False  False      False   \n",
       "1  free sulfur dioxide  total sulfur dioxide  density     pH  sulphates   \n",
       "2                    8                     5        6     10          3   \n",
       "\n",
       "        10       11        12  \n",
       "0     True     None      None  \n",
       "1  alcohol  quality  quality2  \n",
       "2        1     None      None  "
      ]
     },
     "execution_count": 74,
     "metadata": {},
     "output_type": "execute_result"
    }
   ],
   "source": [
    "pd.DataFrame([rcv.support_, data.columns, rcv.ranking_])"
   ]
  },
  {
   "cell_type": "code",
   "execution_count": 73,
   "metadata": {
    "ExecuteTime": {
     "end_time": "2021-10-12T20:36:55.240501Z",
     "start_time": "2021-10-12T20:36:55.220501Z"
    }
   },
   "outputs": [
    {
     "data": {
      "text/plain": [
       "array([ 7,  2,  4, 11,  9,  8,  5,  6, 10,  3,  1])"
      ]
     },
     "execution_count": 73,
     "metadata": {},
     "output_type": "execute_result"
    }
   ],
   "source": [
    "rcv.ranking_"
   ]
  },
  {
   "cell_type": "markdown",
   "metadata": {},
   "source": [
    "# Evaluation\n",
    "\n",
    "- Select the best performing model and write your comments about why choose this model.\n",
    "- Analyse results and make comment about how you can improve model."
   ]
  },
  {
   "cell_type": "markdown",
   "metadata": {
    "ExecuteTime": {
     "end_time": "2020-11-27T00:40:31.595431Z",
     "start_time": "2020-11-27T00:40:31.573446Z"
    }
   },
   "source": [
    "# The best performing models are the SVC and Random Forest Classifier"
   ]
  },
  {
   "cell_type": "markdown",
   "metadata": {},
   "source": [
    "The reason i choose Support Vector Machine - SVC Classifier was because\n",
    "- Precision and F1 scores were a priority expecially for wines rated 7, 8\n",
    "- From a business perspective, it was imperative that our model was accuratly able to identify good quality wine (above 7 quality)\n",
    "- We therefore needed to have as low a number of False positives as possible\n",
    "- Both models had the highest accuracy, f1, precision and recall scores accross board so it was obviously the best choice."
   ]
  },
  {
   "cell_type": "markdown",
   "metadata": {
    "ExecuteTime": {
     "end_time": "2020-11-27T00:50:26.487726Z",
     "start_time": "2020-11-27T00:50:26.454675Z"
    }
   },
   "source": [
    "Also\n",
    "- Our model was overfitting the data and generalizing poorly, the smote oversampling helped to improve the generalization on the test set\n",
    "- Scaling the features helped to improve the performance of our model slightly by reducing the effect of outliers\n",
    "- binning the alcohol feature helped to increase accuracy and precision slightly by one point\n",
    "- feature engineering did not help to improve performance and also introduced multicolinearity\n",
    "- feature selection helped us to get rid of the useless columns and multi colinearity in the dataset but slightly degraded performance by one point\n",
    "- feature extration with PCA also reduced the performance of our model by one point\n",
    "- Random forest has the capability to cope with noise and outliers in our dataset and it didnt need manual feature selection and extraction in this dataset\n",
    "- Smote oversampling was a good contributor to performance, by counterating the imbalanced nature of our dataset it helped to increase performance on all the metrics by over 20 points"
   ]
  },
  {
   "cell_type": "markdown",
   "metadata": {
    "ExecuteTime": {
     "end_time": "2020-11-27T01:13:38.973246Z",
     "start_time": "2020-11-27T01:13:38.953296Z"
    }
   },
   "source": [
    "# We can improve our model by \n",
    "- Getting more effective and diverse data\n",
    "- Getting a higher sample quantity"
   ]
  },
  {
   "cell_type": "markdown",
   "metadata": {},
   "source": [
    "# Summary"
   ]
  },
  {
   "cell_type": "markdown",
   "metadata": {},
   "source": [
    "After careful evaluation of the dataset, visual plots and machine learning models, the six most influential physiochemical features that makes red wine good fall within:\n",
    "\n",
    "    - Alcohol Percentage     (9.2 - 14.9)\n",
    "    - Volatile Acidity       (0.12 - 0.915)\n",
    "    - Sulphates              (0.39 - 2.00)\n",
    "    - Citric Acid            (0.0 - 1.00)\n",
    "    - Total Sulfur dioxide   (6.0- 289.0)\n",
    "    - Density\n",
    "\n",
    "PH, Residual Sugars and Fixed Acidity all have a large range across board so they won't really be helpful in pinpointing whether a wine is good or not.\n",
    "\n",
    "\n",
    "Free Sulphur Dioxide is a subset of total sulphur dioxide.\n",
    "    "
   ]
  },
  {
   "cell_type": "code",
   "execution_count": null,
   "metadata": {},
   "outputs": [],
   "source": []
  },
  {
   "cell_type": "code",
   "execution_count": null,
   "metadata": {},
   "outputs": [],
   "source": []
  }
 ],
 "metadata": {
  "kernelspec": {
   "display_name": "Python [conda env:tf_gpu]",
   "language": "python",
   "name": "conda-env-tf_gpu-py"
  },
  "language_info": {
   "codemirror_mode": {
    "name": "ipython",
    "version": 3
   },
   "file_extension": ".py",
   "mimetype": "text/x-python",
   "name": "python",
   "nbconvert_exporter": "python",
   "pygments_lexer": "ipython3",
   "version": "3.7.9"
  },
  "toc": {
   "base_numbering": 1,
   "nav_menu": {},
   "number_sections": true,
   "sideBar": true,
   "skip_h1_title": false,
   "title_cell": "Table of Contents",
   "title_sidebar": "Contents",
   "toc_cell": false,
   "toc_position": {},
   "toc_section_display": true,
   "toc_window_display": false
  },
  "varInspector": {
   "cols": {
    "lenName": 16,
    "lenType": 16,
    "lenVar": 40
   },
   "kernels_config": {
    "python": {
     "delete_cmd_postfix": "",
     "delete_cmd_prefix": "del ",
     "library": "var_list.py",
     "varRefreshCmd": "print(var_dic_list())"
    },
    "r": {
     "delete_cmd_postfix": ") ",
     "delete_cmd_prefix": "rm(",
     "library": "var_list.r",
     "varRefreshCmd": "cat(var_dic_list()) "
    }
   },
   "types_to_exclude": [
    "module",
    "function",
    "builtin_function_or_method",
    "instance",
    "_Feature"
   ],
   "window_display": false
  }
 },
 "nbformat": 4,
 "nbformat_minor": 4
}
