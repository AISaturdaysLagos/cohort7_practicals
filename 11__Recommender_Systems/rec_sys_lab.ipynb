{
  "cells": [
    {
      "cell_type": "markdown",
      "metadata": {
        "id": "view-in-github",
        "colab_type": "text"
      },
      "source": [
        "<a href=\"https://colab.research.google.com/github/AISaturdaysLagos/cohort7_practicals/blob/main/11__Recommender_Systems/rec_sys_lab.ipynb\" target=\"_parent\"><img src=\"https://colab.research.google.com/assets/colab-badge.svg\" alt=\"Open In Colab\"/></a>"
      ]
    },
    {
      "cell_type": "markdown",
      "id": "b948d285-eafc-4d08-8de6-5677608d028e",
      "metadata": {
        "id": "b948d285-eafc-4d08-8de6-5677608d028e"
      },
      "source": [
        "## Introduction to Recommender System\n",
        "This is a practical introduction to Recommender System and our focus will be building a Matrix Factorization model."
      ]
    },
    {
      "cell_type": "code",
      "execution_count": null,
      "id": "d99e27d7-77f0-4163-ad89-c83b5beb77ae",
      "metadata": {
        "id": "d99e27d7-77f0-4163-ad89-c83b5beb77ae"
      },
      "outputs": [],
      "source": [
        "import pandas as pd\n",
        "import numpy as np\n",
        "from collections import Counter\n",
        "from scipy.sparse.linalg import svds\n",
        "from sklearn.model_selection import train_test_split"
      ]
    },
    {
      "cell_type": "markdown",
      "id": "8de88907-e5be-4a5e-937e-3f88b4452206",
      "metadata": {
        "id": "8de88907-e5be-4a5e-937e-3f88b4452206"
      },
      "source": [
        "### Data\n",
        "Movielens dataset"
      ]
    },
    {
      "cell_type": "code",
      "execution_count": null,
      "id": "bfb8cc2b-4cf3-4ccd-aa67-27547f927076",
      "metadata": {
        "id": "bfb8cc2b-4cf3-4ccd-aa67-27547f927076"
      },
      "outputs": [],
      "source": [
        "ratings = pd.read_csv(\"https://s3-us-west-2.amazonaws.com/recommender-tutorial/ratings.csv\")\n",
        "movies = pd.read_csv(\"https://s3-us-west-2.amazonaws.com/recommender-tutorial/movies.csv\")"
      ]
    },
    {
      "cell_type": "code",
      "execution_count": null,
      "id": "fbf8d57b-8f63-482b-9369-7b639f839935",
      "metadata": {
        "id": "fbf8d57b-8f63-482b-9369-7b639f839935",
        "outputId": "5554a480-9056-4094-9d06-3944b54a3024"
      },
      "outputs": [
        {
          "data": {
            "text/plain": [
              "((100836, 4), (9742, 3))"
            ]
          },
          "execution_count": 36,
          "metadata": {},
          "output_type": "execute_result"
        }
      ],
      "source": [
        "ratings.shape, movies.shape"
      ]
    },
    {
      "cell_type": "code",
      "execution_count": null,
      "id": "bc2feeef-2656-49bc-b998-20d253e644de",
      "metadata": {
        "id": "bc2feeef-2656-49bc-b998-20d253e644de",
        "outputId": "042952a8-5988-42c7-cecd-60331c3b092f"
      },
      "outputs": [
        {
          "data": {
            "text/html": [
              "<div>\n",
              "<style scoped>\n",
              "    .dataframe tbody tr th:only-of-type {\n",
              "        vertical-align: middle;\n",
              "    }\n",
              "\n",
              "    .dataframe tbody tr th {\n",
              "        vertical-align: top;\n",
              "    }\n",
              "\n",
              "    .dataframe thead th {\n",
              "        text-align: right;\n",
              "    }\n",
              "</style>\n",
              "<table border=\"1\" class=\"dataframe\">\n",
              "  <thead>\n",
              "    <tr style=\"text-align: right;\">\n",
              "      <th></th>\n",
              "      <th>userId</th>\n",
              "      <th>movieId</th>\n",
              "      <th>rating</th>\n",
              "      <th>timestamp</th>\n",
              "    </tr>\n",
              "  </thead>\n",
              "  <tbody>\n",
              "    <tr>\n",
              "      <th>0</th>\n",
              "      <td>1</td>\n",
              "      <td>1</td>\n",
              "      <td>4.0</td>\n",
              "      <td>964982703</td>\n",
              "    </tr>\n",
              "    <tr>\n",
              "      <th>1</th>\n",
              "      <td>1</td>\n",
              "      <td>3</td>\n",
              "      <td>4.0</td>\n",
              "      <td>964981247</td>\n",
              "    </tr>\n",
              "    <tr>\n",
              "      <th>2</th>\n",
              "      <td>1</td>\n",
              "      <td>6</td>\n",
              "      <td>4.0</td>\n",
              "      <td>964982224</td>\n",
              "    </tr>\n",
              "    <tr>\n",
              "      <th>3</th>\n",
              "      <td>1</td>\n",
              "      <td>47</td>\n",
              "      <td>5.0</td>\n",
              "      <td>964983815</td>\n",
              "    </tr>\n",
              "    <tr>\n",
              "      <th>4</th>\n",
              "      <td>1</td>\n",
              "      <td>50</td>\n",
              "      <td>5.0</td>\n",
              "      <td>964982931</td>\n",
              "    </tr>\n",
              "  </tbody>\n",
              "</table>\n",
              "</div>"
            ],
            "text/plain": [
              "   userId  movieId  rating  timestamp\n",
              "0       1        1     4.0  964982703\n",
              "1       1        3     4.0  964981247\n",
              "2       1        6     4.0  964982224\n",
              "3       1       47     5.0  964983815\n",
              "4       1       50     5.0  964982931"
            ]
          },
          "execution_count": 37,
          "metadata": {},
          "output_type": "execute_result"
        }
      ],
      "source": [
        "ratings.head()"
      ]
    },
    {
      "cell_type": "code",
      "execution_count": null,
      "id": "abe071fa-abe3-4354-b6a5-4553217c49eb",
      "metadata": {
        "id": "abe071fa-abe3-4354-b6a5-4553217c49eb",
        "outputId": "f1068dc6-745e-4107-e5e8-e3dc218a8261"
      },
      "outputs": [
        {
          "data": {
            "text/html": [
              "<div>\n",
              "<style scoped>\n",
              "    .dataframe tbody tr th:only-of-type {\n",
              "        vertical-align: middle;\n",
              "    }\n",
              "\n",
              "    .dataframe tbody tr th {\n",
              "        vertical-align: top;\n",
              "    }\n",
              "\n",
              "    .dataframe thead th {\n",
              "        text-align: right;\n",
              "    }\n",
              "</style>\n",
              "<table border=\"1\" class=\"dataframe\">\n",
              "  <thead>\n",
              "    <tr style=\"text-align: right;\">\n",
              "      <th></th>\n",
              "      <th>movieId</th>\n",
              "      <th>title</th>\n",
              "      <th>genres</th>\n",
              "    </tr>\n",
              "  </thead>\n",
              "  <tbody>\n",
              "    <tr>\n",
              "      <th>0</th>\n",
              "      <td>1</td>\n",
              "      <td>Toy Story (1995)</td>\n",
              "      <td>Adventure|Animation|Children|Comedy|Fantasy</td>\n",
              "    </tr>\n",
              "    <tr>\n",
              "      <th>1</th>\n",
              "      <td>2</td>\n",
              "      <td>Jumanji (1995)</td>\n",
              "      <td>Adventure|Children|Fantasy</td>\n",
              "    </tr>\n",
              "    <tr>\n",
              "      <th>2</th>\n",
              "      <td>3</td>\n",
              "      <td>Grumpier Old Men (1995)</td>\n",
              "      <td>Comedy|Romance</td>\n",
              "    </tr>\n",
              "    <tr>\n",
              "      <th>3</th>\n",
              "      <td>4</td>\n",
              "      <td>Waiting to Exhale (1995)</td>\n",
              "      <td>Comedy|Drama|Romance</td>\n",
              "    </tr>\n",
              "    <tr>\n",
              "      <th>4</th>\n",
              "      <td>5</td>\n",
              "      <td>Father of the Bride Part II (1995)</td>\n",
              "      <td>Comedy</td>\n",
              "    </tr>\n",
              "  </tbody>\n",
              "</table>\n",
              "</div>"
            ],
            "text/plain": [
              "   movieId                               title  \\\n",
              "0        1                    Toy Story (1995)   \n",
              "1        2                      Jumanji (1995)   \n",
              "2        3             Grumpier Old Men (1995)   \n",
              "3        4            Waiting to Exhale (1995)   \n",
              "4        5  Father of the Bride Part II (1995)   \n",
              "\n",
              "                                        genres  \n",
              "0  Adventure|Animation|Children|Comedy|Fantasy  \n",
              "1                   Adventure|Children|Fantasy  \n",
              "2                               Comedy|Romance  \n",
              "3                         Comedy|Drama|Romance  \n",
              "4                                       Comedy  "
            ]
          },
          "execution_count": 38,
          "metadata": {},
          "output_type": "execute_result"
        }
      ],
      "source": [
        "movies.head()"
      ]
    },
    {
      "cell_type": "code",
      "execution_count": null,
      "id": "31a26426-60e9-4272-bdc4-22daac97c378",
      "metadata": {
        "id": "31a26426-60e9-4272-bdc4-22daac97c378"
      },
      "outputs": [],
      "source": [
        "user_one = ratings.loc[ratings['userId'] == 1]"
      ]
    },
    {
      "cell_type": "code",
      "execution_count": null,
      "id": "8d64664b-9d21-4fe7-8f94-7c77ce803070",
      "metadata": {
        "id": "8d64664b-9d21-4fe7-8f94-7c77ce803070",
        "outputId": "d401de59-4c37-4630-d4a8-8e6062f37ddf"
      },
      "outputs": [
        {
          "data": {
            "text/html": [
              "<div>\n",
              "<style scoped>\n",
              "    .dataframe tbody tr th:only-of-type {\n",
              "        vertical-align: middle;\n",
              "    }\n",
              "\n",
              "    .dataframe tbody tr th {\n",
              "        vertical-align: top;\n",
              "    }\n",
              "\n",
              "    .dataframe thead th {\n",
              "        text-align: right;\n",
              "    }\n",
              "</style>\n",
              "<table border=\"1\" class=\"dataframe\">\n",
              "  <thead>\n",
              "    <tr style=\"text-align: right;\">\n",
              "      <th></th>\n",
              "      <th>userId</th>\n",
              "      <th>movieId</th>\n",
              "      <th>rating</th>\n",
              "      <th>timestamp</th>\n",
              "    </tr>\n",
              "  </thead>\n",
              "  <tbody>\n",
              "    <tr>\n",
              "      <th>0</th>\n",
              "      <td>1</td>\n",
              "      <td>1</td>\n",
              "      <td>4.0</td>\n",
              "      <td>964982703</td>\n",
              "    </tr>\n",
              "    <tr>\n",
              "      <th>1</th>\n",
              "      <td>1</td>\n",
              "      <td>3</td>\n",
              "      <td>4.0</td>\n",
              "      <td>964981247</td>\n",
              "    </tr>\n",
              "    <tr>\n",
              "      <th>2</th>\n",
              "      <td>1</td>\n",
              "      <td>6</td>\n",
              "      <td>4.0</td>\n",
              "      <td>964982224</td>\n",
              "    </tr>\n",
              "    <tr>\n",
              "      <th>3</th>\n",
              "      <td>1</td>\n",
              "      <td>47</td>\n",
              "      <td>5.0</td>\n",
              "      <td>964983815</td>\n",
              "    </tr>\n",
              "    <tr>\n",
              "      <th>4</th>\n",
              "      <td>1</td>\n",
              "      <td>50</td>\n",
              "      <td>5.0</td>\n",
              "      <td>964982931</td>\n",
              "    </tr>\n",
              "  </tbody>\n",
              "</table>\n",
              "</div>"
            ],
            "text/plain": [
              "   userId  movieId  rating  timestamp\n",
              "0       1        1     4.0  964982703\n",
              "1       1        3     4.0  964981247\n",
              "2       1        6     4.0  964982224\n",
              "3       1       47     5.0  964983815\n",
              "4       1       50     5.0  964982931"
            ]
          },
          "execution_count": 40,
          "metadata": {},
          "output_type": "execute_result"
        }
      ],
      "source": [
        "user_one.head()"
      ]
    },
    {
      "cell_type": "code",
      "execution_count": null,
      "id": "acd5919d-a4df-4149-9c4d-65c197c9965b",
      "metadata": {
        "id": "acd5919d-a4df-4149-9c4d-65c197c9965b",
        "outputId": "bf9ca186-3a6f-468d-81e6-6784c5eb51cb"
      },
      "outputs": [
        {
          "data": {
            "text/plain": [
              "(232, 4)"
            ]
          },
          "execution_count": 41,
          "metadata": {},
          "output_type": "execute_result"
        }
      ],
      "source": [
        "user_one.shape"
      ]
    },
    {
      "cell_type": "code",
      "execution_count": null,
      "id": "8510bddc-45cb-4761-9451-64ae94db91ff",
      "metadata": {
        "id": "8510bddc-45cb-4761-9451-64ae94db91ff"
      },
      "outputs": [],
      "source": [
        "def get_user_genres(ratings, movies, user_id):\n",
        "    '''\n",
        "        Returns a Counter object showing genres user has watched\n",
        "    '''\n",
        "    user_ratings = ratings[ratings['userId'] == user_id]\n",
        "    genres = []\n",
        "    for _, row in user_ratings.iterrows():\n",
        "        movie = movies.loc[movies['movieId'] == row['movieId']]\n",
        "        for genre in movie.iloc[0]['genres'].split('|'):\n",
        "            genres.append(genre)\n",
        "    return Counter(genres)"
      ]
    },
    {
      "cell_type": "code",
      "execution_count": null,
      "id": "a19039ba-ab08-4169-86c1-5ecd5c9eb1a8",
      "metadata": {
        "id": "a19039ba-ab08-4169-86c1-5ecd5c9eb1a8",
        "outputId": "f0c44c05-d71c-4460-8ce3-3035b9520f83"
      },
      "outputs": [
        {
          "data": {
            "text/plain": [
              "[('Action', 90),\n",
              " ('Adventure', 85),\n",
              " ('Comedy', 83),\n",
              " ('Drama', 68),\n",
              " ('Thriller', 55),\n",
              " ('Fantasy', 47),\n",
              " ('Crime', 45),\n",
              " ('Children', 42),\n",
              " ('Sci-Fi', 40),\n",
              " ('Animation', 29),\n",
              " ('Romance', 26),\n",
              " ('War', 22),\n",
              " ('Musical', 22),\n",
              " ('Mystery', 18),\n",
              " ('Horror', 17),\n",
              " ('Western', 7),\n",
              " ('Film-Noir', 1)]"
            ]
          },
          "execution_count": 124,
          "metadata": {},
          "output_type": "execute_result"
        }
      ],
      "source": [
        "get_user_genres(ratings, movies, 1).most_common()"
      ]
    },
    {
      "cell_type": "code",
      "execution_count": null,
      "id": "3afb4b78-d402-4225-bdbf-e3f2f4d1b18d",
      "metadata": {
        "id": "3afb4b78-d402-4225-bdbf-e3f2f4d1b18d",
        "outputId": "20a066b9-4a9e-466b-9f02-45c3d677c033"
      },
      "outputs": [
        {
          "data": {
            "text/plain": [
              "[('Drama', 25),\n",
              " ('Comedy', 15),\n",
              " ('Crime', 12),\n",
              " ('Romance', 11),\n",
              " ('Children', 9),\n",
              " ('Thriller', 9),\n",
              " ('Action', 9),\n",
              " ('Adventure', 8),\n",
              " ('Fantasy', 7),\n",
              " ('Animation', 6),\n",
              " ('Musical', 5),\n",
              " ('War', 3),\n",
              " ('IMAX', 3),\n",
              " ('Western', 2),\n",
              " ('Sci-Fi', 2),\n",
              " ('Mystery', 1),\n",
              " ('Horror', 1)]"
            ]
          },
          "execution_count": 44,
          "metadata": {},
          "output_type": "execute_result"
        }
      ],
      "source": [
        "get_user_genres(ratings, movies, 5).most_common()"
      ]
    },
    {
      "cell_type": "markdown",
      "id": "b4de73dc-5c06-4359-ba73-b5f13e162a9c",
      "metadata": {
        "id": "b4de73dc-5c06-4359-ba73-b5f13e162a9c"
      },
      "source": [
        "## Matrix Factorization\n",
        "<img src=\"https://developers.google.com/machine-learning/recommendation/images/Matrixfactor.svg\">"
      ]
    },
    {
      "cell_type": "code",
      "execution_count": null,
      "id": "4d5156c6-bbe3-4da6-8e91-67e31efc6db3",
      "metadata": {
        "id": "4d5156c6-bbe3-4da6-8e91-67e31efc6db3",
        "outputId": "ae7ebba6-219a-4a38-a89b-5b3320a2505a"
      },
      "outputs": [
        {
          "data": {
            "text/html": [
              "<div>\n",
              "<style scoped>\n",
              "    .dataframe tbody tr th:only-of-type {\n",
              "        vertical-align: middle;\n",
              "    }\n",
              "\n",
              "    .dataframe tbody tr th {\n",
              "        vertical-align: top;\n",
              "    }\n",
              "\n",
              "    .dataframe thead th {\n",
              "        text-align: right;\n",
              "    }\n",
              "</style>\n",
              "<table border=\"1\" class=\"dataframe\">\n",
              "  <thead>\n",
              "    <tr style=\"text-align: right;\">\n",
              "      <th>movieId</th>\n",
              "      <th>1</th>\n",
              "      <th>2</th>\n",
              "      <th>3</th>\n",
              "      <th>4</th>\n",
              "      <th>5</th>\n",
              "      <th>6</th>\n",
              "      <th>7</th>\n",
              "      <th>8</th>\n",
              "      <th>9</th>\n",
              "      <th>10</th>\n",
              "      <th>...</th>\n",
              "      <th>193565</th>\n",
              "      <th>193567</th>\n",
              "      <th>193571</th>\n",
              "      <th>193573</th>\n",
              "      <th>193579</th>\n",
              "      <th>193581</th>\n",
              "      <th>193583</th>\n",
              "      <th>193585</th>\n",
              "      <th>193587</th>\n",
              "      <th>193609</th>\n",
              "    </tr>\n",
              "    <tr>\n",
              "      <th>userId</th>\n",
              "      <th></th>\n",
              "      <th></th>\n",
              "      <th></th>\n",
              "      <th></th>\n",
              "      <th></th>\n",
              "      <th></th>\n",
              "      <th></th>\n",
              "      <th></th>\n",
              "      <th></th>\n",
              "      <th></th>\n",
              "      <th></th>\n",
              "      <th></th>\n",
              "      <th></th>\n",
              "      <th></th>\n",
              "      <th></th>\n",
              "      <th></th>\n",
              "      <th></th>\n",
              "      <th></th>\n",
              "      <th></th>\n",
              "      <th></th>\n",
              "      <th></th>\n",
              "    </tr>\n",
              "  </thead>\n",
              "  <tbody>\n",
              "    <tr>\n",
              "      <th>1</th>\n",
              "      <td>4.0</td>\n",
              "      <td>0.0</td>\n",
              "      <td>4.0</td>\n",
              "      <td>0.0</td>\n",
              "      <td>0.0</td>\n",
              "      <td>4.0</td>\n",
              "      <td>0.0</td>\n",
              "      <td>0.0</td>\n",
              "      <td>0.0</td>\n",
              "      <td>0.0</td>\n",
              "      <td>...</td>\n",
              "      <td>0.0</td>\n",
              "      <td>0.0</td>\n",
              "      <td>0.0</td>\n",
              "      <td>0.0</td>\n",
              "      <td>0.0</td>\n",
              "      <td>0.0</td>\n",
              "      <td>0.0</td>\n",
              "      <td>0.0</td>\n",
              "      <td>0.0</td>\n",
              "      <td>0.0</td>\n",
              "    </tr>\n",
              "    <tr>\n",
              "      <th>2</th>\n",
              "      <td>0.0</td>\n",
              "      <td>0.0</td>\n",
              "      <td>0.0</td>\n",
              "      <td>0.0</td>\n",
              "      <td>0.0</td>\n",
              "      <td>0.0</td>\n",
              "      <td>0.0</td>\n",
              "      <td>0.0</td>\n",
              "      <td>0.0</td>\n",
              "      <td>0.0</td>\n",
              "      <td>...</td>\n",
              "      <td>0.0</td>\n",
              "      <td>0.0</td>\n",
              "      <td>0.0</td>\n",
              "      <td>0.0</td>\n",
              "      <td>0.0</td>\n",
              "      <td>0.0</td>\n",
              "      <td>0.0</td>\n",
              "      <td>0.0</td>\n",
              "      <td>0.0</td>\n",
              "      <td>0.0</td>\n",
              "    </tr>\n",
              "    <tr>\n",
              "      <th>3</th>\n",
              "      <td>0.0</td>\n",
              "      <td>0.0</td>\n",
              "      <td>0.0</td>\n",
              "      <td>0.0</td>\n",
              "      <td>0.0</td>\n",
              "      <td>0.0</td>\n",
              "      <td>0.0</td>\n",
              "      <td>0.0</td>\n",
              "      <td>0.0</td>\n",
              "      <td>0.0</td>\n",
              "      <td>...</td>\n",
              "      <td>0.0</td>\n",
              "      <td>0.0</td>\n",
              "      <td>0.0</td>\n",
              "      <td>0.0</td>\n",
              "      <td>0.0</td>\n",
              "      <td>0.0</td>\n",
              "      <td>0.0</td>\n",
              "      <td>0.0</td>\n",
              "      <td>0.0</td>\n",
              "      <td>0.0</td>\n",
              "    </tr>\n",
              "    <tr>\n",
              "      <th>4</th>\n",
              "      <td>0.0</td>\n",
              "      <td>0.0</td>\n",
              "      <td>0.0</td>\n",
              "      <td>0.0</td>\n",
              "      <td>0.0</td>\n",
              "      <td>0.0</td>\n",
              "      <td>0.0</td>\n",
              "      <td>0.0</td>\n",
              "      <td>0.0</td>\n",
              "      <td>0.0</td>\n",
              "      <td>...</td>\n",
              "      <td>0.0</td>\n",
              "      <td>0.0</td>\n",
              "      <td>0.0</td>\n",
              "      <td>0.0</td>\n",
              "      <td>0.0</td>\n",
              "      <td>0.0</td>\n",
              "      <td>0.0</td>\n",
              "      <td>0.0</td>\n",
              "      <td>0.0</td>\n",
              "      <td>0.0</td>\n",
              "    </tr>\n",
              "    <tr>\n",
              "      <th>5</th>\n",
              "      <td>4.0</td>\n",
              "      <td>0.0</td>\n",
              "      <td>0.0</td>\n",
              "      <td>0.0</td>\n",
              "      <td>0.0</td>\n",
              "      <td>0.0</td>\n",
              "      <td>0.0</td>\n",
              "      <td>0.0</td>\n",
              "      <td>0.0</td>\n",
              "      <td>0.0</td>\n",
              "      <td>...</td>\n",
              "      <td>0.0</td>\n",
              "      <td>0.0</td>\n",
              "      <td>0.0</td>\n",
              "      <td>0.0</td>\n",
              "      <td>0.0</td>\n",
              "      <td>0.0</td>\n",
              "      <td>0.0</td>\n",
              "      <td>0.0</td>\n",
              "      <td>0.0</td>\n",
              "      <td>0.0</td>\n",
              "    </tr>\n",
              "  </tbody>\n",
              "</table>\n",
              "<p>5 rows × 9724 columns</p>\n",
              "</div>"
            ],
            "text/plain": [
              "movieId  1       2       3       4       5       6       7       8       \\\n",
              "userId                                                                    \n",
              "1           4.0     0.0     4.0     0.0     0.0     4.0     0.0     0.0   \n",
              "2           0.0     0.0     0.0     0.0     0.0     0.0     0.0     0.0   \n",
              "3           0.0     0.0     0.0     0.0     0.0     0.0     0.0     0.0   \n",
              "4           0.0     0.0     0.0     0.0     0.0     0.0     0.0     0.0   \n",
              "5           4.0     0.0     0.0     0.0     0.0     0.0     0.0     0.0   \n",
              "\n",
              "movieId  9       10      ...  193565  193567  193571  193573  193579  193581  \\\n",
              "userId                   ...                                                   \n",
              "1           0.0     0.0  ...     0.0     0.0     0.0     0.0     0.0     0.0   \n",
              "2           0.0     0.0  ...     0.0     0.0     0.0     0.0     0.0     0.0   \n",
              "3           0.0     0.0  ...     0.0     0.0     0.0     0.0     0.0     0.0   \n",
              "4           0.0     0.0  ...     0.0     0.0     0.0     0.0     0.0     0.0   \n",
              "5           0.0     0.0  ...     0.0     0.0     0.0     0.0     0.0     0.0   \n",
              "\n",
              "movieId  193583  193585  193587  193609  \n",
              "userId                                   \n",
              "1           0.0     0.0     0.0     0.0  \n",
              "2           0.0     0.0     0.0     0.0  \n",
              "3           0.0     0.0     0.0     0.0  \n",
              "4           0.0     0.0     0.0     0.0  \n",
              "5           0.0     0.0     0.0     0.0  \n",
              "\n",
              "[5 rows x 9724 columns]"
            ]
          },
          "execution_count": 126,
          "metadata": {},
          "output_type": "execute_result"
        }
      ],
      "source": [
        "user_rating_matrix = ratings.pivot(index = 'userId', columns ='movieId', values = 'rating').fillna(0)\n",
        "user_rating_matrix.head()"
      ]
    },
    {
      "cell_type": "markdown",
      "id": "c078bc42-bf4d-4155-87b3-5efc1e424f1e",
      "metadata": {
        "id": "c078bc42-bf4d-4155-87b3-5efc1e424f1e"
      },
      "source": [
        "### Singular Value Decomposition"
      ]
    },
    {
      "cell_type": "code",
      "execution_count": null,
      "id": "57969adb-527e-4337-b3b5-7dc0fe15ada7",
      "metadata": {
        "id": "57969adb-527e-4337-b3b5-7dc0fe15ada7",
        "outputId": "0bfab5bf-a982-41e0-9aed-56fb3b177472"
      },
      "outputs": [
        {
          "name": "stdout",
          "output_type": "stream",
          "text": [
            "# interactions on Test set: 1009\n"
          ]
        }
      ],
      "source": [
        "_, ratings_test = train_test_split(ratings, stratify=ratings['userId'], test_size=0.01, random_state=42)\n",
        "\n",
        "print('# interactions on Test set: %d' % len(ratings_test))"
      ]
    },
    {
      "cell_type": "code",
      "execution_count": null,
      "id": "ced171a5-4ca7-4d6f-b4e6-2954e6f7f2eb",
      "metadata": {
        "id": "ced171a5-4ca7-4d6f-b4e6-2954e6f7f2eb"
      },
      "outputs": [],
      "source": [
        "#remove ratings where index is in the test set because we want to predict these ratings\n",
        "ratings.loc[ratings_test.index, 'rating'] = 0"
      ]
    },
    {
      "cell_type": "code",
      "execution_count": null,
      "id": "0255e3c5-2f7a-4c75-9861-ad8a9162cfde",
      "metadata": {
        "id": "0255e3c5-2f7a-4c75-9861-ad8a9162cfde",
        "outputId": "16ca79fb-62bd-422c-a8f3-cedb24be4052"
      },
      "outputs": [
        {
          "data": {
            "text/html": [
              "<div>\n",
              "<style scoped>\n",
              "    .dataframe tbody tr th:only-of-type {\n",
              "        vertical-align: middle;\n",
              "    }\n",
              "\n",
              "    .dataframe tbody tr th {\n",
              "        vertical-align: top;\n",
              "    }\n",
              "\n",
              "    .dataframe thead th {\n",
              "        text-align: right;\n",
              "    }\n",
              "</style>\n",
              "<table border=\"1\" class=\"dataframe\">\n",
              "  <thead>\n",
              "    <tr style=\"text-align: right;\">\n",
              "      <th></th>\n",
              "      <th>userId</th>\n",
              "      <th>movieId</th>\n",
              "      <th>rating</th>\n",
              "      <th>timestamp</th>\n",
              "    </tr>\n",
              "  </thead>\n",
              "  <tbody>\n",
              "    <tr>\n",
              "      <th>94026</th>\n",
              "      <td>599</td>\n",
              "      <td>5361</td>\n",
              "      <td>0.0</td>\n",
              "      <td>1519345226</td>\n",
              "    </tr>\n",
              "    <tr>\n",
              "      <th>16905</th>\n",
              "      <td>105</td>\n",
              "      <td>163925</td>\n",
              "      <td>0.0</td>\n",
              "      <td>1526208027</td>\n",
              "    </tr>\n",
              "    <tr>\n",
              "      <th>62778</th>\n",
              "      <td>414</td>\n",
              "      <td>1290</td>\n",
              "      <td>0.0</td>\n",
              "      <td>961514069</td>\n",
              "    </tr>\n",
              "    <tr>\n",
              "      <th>82391</th>\n",
              "      <td>522</td>\n",
              "      <td>89745</td>\n",
              "      <td>0.0</td>\n",
              "      <td>1388124779</td>\n",
              "    </tr>\n",
              "    <tr>\n",
              "      <th>55931</th>\n",
              "      <td>369</td>\n",
              "      <td>2539</td>\n",
              "      <td>0.0</td>\n",
              "      <td>1237082050</td>\n",
              "    </tr>\n",
              "    <tr>\n",
              "      <th>...</th>\n",
              "      <td>...</td>\n",
              "      <td>...</td>\n",
              "      <td>...</td>\n",
              "      <td>...</td>\n",
              "    </tr>\n",
              "    <tr>\n",
              "      <th>23948</th>\n",
              "      <td>166</td>\n",
              "      <td>2947</td>\n",
              "      <td>0.0</td>\n",
              "      <td>1189038129</td>\n",
              "    </tr>\n",
              "    <tr>\n",
              "      <th>17100</th>\n",
              "      <td>109</td>\n",
              "      <td>122</td>\n",
              "      <td>0.0</td>\n",
              "      <td>841109220</td>\n",
              "    </tr>\n",
              "    <tr>\n",
              "      <th>10079</th>\n",
              "      <td>66</td>\n",
              "      <td>1247</td>\n",
              "      <td>0.0</td>\n",
              "      <td>1093143995</td>\n",
              "    </tr>\n",
              "    <tr>\n",
              "      <th>10743</th>\n",
              "      <td>68</td>\n",
              "      <td>2338</td>\n",
              "      <td>0.0</td>\n",
              "      <td>1269122622</td>\n",
              "    </tr>\n",
              "    <tr>\n",
              "      <th>16207</th>\n",
              "      <td>104</td>\n",
              "      <td>91500</td>\n",
              "      <td>0.0</td>\n",
              "      <td>1347613115</td>\n",
              "    </tr>\n",
              "  </tbody>\n",
              "</table>\n",
              "<p>1009 rows × 4 columns</p>\n",
              "</div>"
            ],
            "text/plain": [
              "       userId  movieId  rating   timestamp\n",
              "94026     599     5361     0.0  1519345226\n",
              "16905     105   163925     0.0  1526208027\n",
              "62778     414     1290     0.0   961514069\n",
              "82391     522    89745     0.0  1388124779\n",
              "55931     369     2539     0.0  1237082050\n",
              "...       ...      ...     ...         ...\n",
              "23948     166     2947     0.0  1189038129\n",
              "17100     109      122     0.0   841109220\n",
              "10079      66     1247     0.0  1093143995\n",
              "10743      68     2338     0.0  1269122622\n",
              "16207     104    91500     0.0  1347613115\n",
              "\n",
              "[1009 rows x 4 columns]"
            ]
          },
          "execution_count": 299,
          "metadata": {},
          "output_type": "execute_result"
        }
      ],
      "source": [
        "ratings.iloc[ratings_test.index]"
      ]
    },
    {
      "cell_type": "code",
      "execution_count": null,
      "id": "9291db31-c910-4127-950f-4715e7a63997",
      "metadata": {
        "id": "9291db31-c910-4127-950f-4715e7a63997"
      },
      "outputs": [],
      "source": [
        "ratings_train_pivot = ratings.pivot(index = 'userId', columns ='movieId', values = 'rating').fillna(0)"
      ]
    },
    {
      "cell_type": "code",
      "execution_count": null,
      "id": "218d794b-44f1-4a58-8ac2-915186180d0d",
      "metadata": {
        "id": "218d794b-44f1-4a58-8ac2-915186180d0d",
        "outputId": "0246a2ae-0474-40b2-ef14-db9d1b2d7362"
      },
      "outputs": [
        {
          "data": {
            "text/html": [
              "<div>\n",
              "<style scoped>\n",
              "    .dataframe tbody tr th:only-of-type {\n",
              "        vertical-align: middle;\n",
              "    }\n",
              "\n",
              "    .dataframe tbody tr th {\n",
              "        vertical-align: top;\n",
              "    }\n",
              "\n",
              "    .dataframe thead th {\n",
              "        text-align: right;\n",
              "    }\n",
              "</style>\n",
              "<table border=\"1\" class=\"dataframe\">\n",
              "  <thead>\n",
              "    <tr style=\"text-align: right;\">\n",
              "      <th>movieId</th>\n",
              "      <th>1</th>\n",
              "      <th>2</th>\n",
              "      <th>3</th>\n",
              "      <th>4</th>\n",
              "      <th>5</th>\n",
              "      <th>6</th>\n",
              "      <th>7</th>\n",
              "      <th>8</th>\n",
              "      <th>9</th>\n",
              "      <th>10</th>\n",
              "      <th>...</th>\n",
              "      <th>193565</th>\n",
              "      <th>193567</th>\n",
              "      <th>193571</th>\n",
              "      <th>193573</th>\n",
              "      <th>193579</th>\n",
              "      <th>193581</th>\n",
              "      <th>193583</th>\n",
              "      <th>193585</th>\n",
              "      <th>193587</th>\n",
              "      <th>193609</th>\n",
              "    </tr>\n",
              "    <tr>\n",
              "      <th>userId</th>\n",
              "      <th></th>\n",
              "      <th></th>\n",
              "      <th></th>\n",
              "      <th></th>\n",
              "      <th></th>\n",
              "      <th></th>\n",
              "      <th></th>\n",
              "      <th></th>\n",
              "      <th></th>\n",
              "      <th></th>\n",
              "      <th></th>\n",
              "      <th></th>\n",
              "      <th></th>\n",
              "      <th></th>\n",
              "      <th></th>\n",
              "      <th></th>\n",
              "      <th></th>\n",
              "      <th></th>\n",
              "      <th></th>\n",
              "      <th></th>\n",
              "      <th></th>\n",
              "    </tr>\n",
              "  </thead>\n",
              "  <tbody>\n",
              "    <tr>\n",
              "      <th>1</th>\n",
              "      <td>4.0</td>\n",
              "      <td>0.0</td>\n",
              "      <td>4.0</td>\n",
              "      <td>0.0</td>\n",
              "      <td>0.0</td>\n",
              "      <td>0.0</td>\n",
              "      <td>0.0</td>\n",
              "      <td>0.0</td>\n",
              "      <td>0.0</td>\n",
              "      <td>0.0</td>\n",
              "      <td>...</td>\n",
              "      <td>0.0</td>\n",
              "      <td>0.0</td>\n",
              "      <td>0.0</td>\n",
              "      <td>0.0</td>\n",
              "      <td>0.0</td>\n",
              "      <td>0.0</td>\n",
              "      <td>0.0</td>\n",
              "      <td>0.0</td>\n",
              "      <td>0.0</td>\n",
              "      <td>0.0</td>\n",
              "    </tr>\n",
              "    <tr>\n",
              "      <th>2</th>\n",
              "      <td>0.0</td>\n",
              "      <td>0.0</td>\n",
              "      <td>0.0</td>\n",
              "      <td>0.0</td>\n",
              "      <td>0.0</td>\n",
              "      <td>0.0</td>\n",
              "      <td>0.0</td>\n",
              "      <td>0.0</td>\n",
              "      <td>0.0</td>\n",
              "      <td>0.0</td>\n",
              "      <td>...</td>\n",
              "      <td>0.0</td>\n",
              "      <td>0.0</td>\n",
              "      <td>0.0</td>\n",
              "      <td>0.0</td>\n",
              "      <td>0.0</td>\n",
              "      <td>0.0</td>\n",
              "      <td>0.0</td>\n",
              "      <td>0.0</td>\n",
              "      <td>0.0</td>\n",
              "      <td>0.0</td>\n",
              "    </tr>\n",
              "    <tr>\n",
              "      <th>3</th>\n",
              "      <td>0.0</td>\n",
              "      <td>0.0</td>\n",
              "      <td>0.0</td>\n",
              "      <td>0.0</td>\n",
              "      <td>0.0</td>\n",
              "      <td>0.0</td>\n",
              "      <td>0.0</td>\n",
              "      <td>0.0</td>\n",
              "      <td>0.0</td>\n",
              "      <td>0.0</td>\n",
              "      <td>...</td>\n",
              "      <td>0.0</td>\n",
              "      <td>0.0</td>\n",
              "      <td>0.0</td>\n",
              "      <td>0.0</td>\n",
              "      <td>0.0</td>\n",
              "      <td>0.0</td>\n",
              "      <td>0.0</td>\n",
              "      <td>0.0</td>\n",
              "      <td>0.0</td>\n",
              "      <td>0.0</td>\n",
              "    </tr>\n",
              "    <tr>\n",
              "      <th>4</th>\n",
              "      <td>0.0</td>\n",
              "      <td>0.0</td>\n",
              "      <td>0.0</td>\n",
              "      <td>0.0</td>\n",
              "      <td>0.0</td>\n",
              "      <td>0.0</td>\n",
              "      <td>0.0</td>\n",
              "      <td>0.0</td>\n",
              "      <td>0.0</td>\n",
              "      <td>0.0</td>\n",
              "      <td>...</td>\n",
              "      <td>0.0</td>\n",
              "      <td>0.0</td>\n",
              "      <td>0.0</td>\n",
              "      <td>0.0</td>\n",
              "      <td>0.0</td>\n",
              "      <td>0.0</td>\n",
              "      <td>0.0</td>\n",
              "      <td>0.0</td>\n",
              "      <td>0.0</td>\n",
              "      <td>0.0</td>\n",
              "    </tr>\n",
              "    <tr>\n",
              "      <th>5</th>\n",
              "      <td>0.0</td>\n",
              "      <td>0.0</td>\n",
              "      <td>0.0</td>\n",
              "      <td>0.0</td>\n",
              "      <td>0.0</td>\n",
              "      <td>0.0</td>\n",
              "      <td>0.0</td>\n",
              "      <td>0.0</td>\n",
              "      <td>0.0</td>\n",
              "      <td>0.0</td>\n",
              "      <td>...</td>\n",
              "      <td>0.0</td>\n",
              "      <td>0.0</td>\n",
              "      <td>0.0</td>\n",
              "      <td>0.0</td>\n",
              "      <td>0.0</td>\n",
              "      <td>0.0</td>\n",
              "      <td>0.0</td>\n",
              "      <td>0.0</td>\n",
              "      <td>0.0</td>\n",
              "      <td>0.0</td>\n",
              "    </tr>\n",
              "  </tbody>\n",
              "</table>\n",
              "<p>5 rows × 9724 columns</p>\n",
              "</div>"
            ],
            "text/plain": [
              "movieId  1       2       3       4       5       6       7       8       \\\n",
              "userId                                                                    \n",
              "1           4.0     0.0     4.0     0.0     0.0     0.0     0.0     0.0   \n",
              "2           0.0     0.0     0.0     0.0     0.0     0.0     0.0     0.0   \n",
              "3           0.0     0.0     0.0     0.0     0.0     0.0     0.0     0.0   \n",
              "4           0.0     0.0     0.0     0.0     0.0     0.0     0.0     0.0   \n",
              "5           0.0     0.0     0.0     0.0     0.0     0.0     0.0     0.0   \n",
              "\n",
              "movieId  9       10      ...  193565  193567  193571  193573  193579  193581  \\\n",
              "userId                   ...                                                   \n",
              "1           0.0     0.0  ...     0.0     0.0     0.0     0.0     0.0     0.0   \n",
              "2           0.0     0.0  ...     0.0     0.0     0.0     0.0     0.0     0.0   \n",
              "3           0.0     0.0  ...     0.0     0.0     0.0     0.0     0.0     0.0   \n",
              "4           0.0     0.0  ...     0.0     0.0     0.0     0.0     0.0     0.0   \n",
              "5           0.0     0.0  ...     0.0     0.0     0.0     0.0     0.0     0.0   \n",
              "\n",
              "movieId  193583  193585  193587  193609  \n",
              "userId                                   \n",
              "1           0.0     0.0     0.0     0.0  \n",
              "2           0.0     0.0     0.0     0.0  \n",
              "3           0.0     0.0     0.0     0.0  \n",
              "4           0.0     0.0     0.0     0.0  \n",
              "5           0.0     0.0     0.0     0.0  \n",
              "\n",
              "[5 rows x 9724 columns]"
            ]
          },
          "execution_count": 301,
          "metadata": {},
          "output_type": "execute_result"
        }
      ],
      "source": [
        "ratings_train_pivot.head()"
      ]
    },
    {
      "cell_type": "code",
      "execution_count": null,
      "id": "b8a472db-cad7-43c5-bed1-3f68e14966c4",
      "metadata": {
        "id": "b8a472db-cad7-43c5-bed1-3f68e14966c4"
      },
      "outputs": [],
      "source": [
        "user_ratings_mean = np.mean(ratings_train_pivot.values, axis = 1)\n",
        "ratings_train_matrix = ratings_train_pivot.values - user_ratings_mean.reshape(-1, 1)\n",
        "\n",
        "\n",
        "U, sigma, Vt = svds(ratings_train_matrix, k = 15)"
      ]
    },
    {
      "cell_type": "code",
      "execution_count": null,
      "id": "a5765561-8c88-4cc2-ab1b-df239adec629",
      "metadata": {
        "id": "a5765561-8c88-4cc2-ab1b-df239adec629",
        "outputId": "44f4105e-ed0f-45b5-c325-93aec937fd80"
      },
      "outputs": [
        {
          "data": {
            "text/plain": [
              "((610, 15), (15, 9724))"
            ]
          },
          "execution_count": 303,
          "metadata": {},
          "output_type": "execute_result"
        }
      ],
      "source": [
        "U.shape, Vt.shape"
      ]
    },
    {
      "cell_type": "code",
      "execution_count": null,
      "id": "ea52a30d-cb17-41b4-80bf-8f8a29129de3",
      "metadata": {
        "id": "ea52a30d-cb17-41b4-80bf-8f8a29129de3"
      },
      "outputs": [],
      "source": [
        "predicted_ratings = np.dot(np.dot(U, np.diag(sigma)), Vt) + user_ratings_mean.reshape(-1, 1)"
      ]
    },
    {
      "cell_type": "code",
      "execution_count": null,
      "id": "e8ae926b-3ca5-4f9f-8e36-548446ad0b32",
      "metadata": {
        "id": "e8ae926b-3ca5-4f9f-8e36-548446ad0b32",
        "outputId": "6fc6e4c7-bb47-4947-f45e-3c0fa2ddf21f"
      },
      "outputs": [
        {
          "data": {
            "text/html": [
              "<div>\n",
              "<style scoped>\n",
              "    .dataframe tbody tr th:only-of-type {\n",
              "        vertical-align: middle;\n",
              "    }\n",
              "\n",
              "    .dataframe tbody tr th {\n",
              "        vertical-align: top;\n",
              "    }\n",
              "\n",
              "    .dataframe thead th {\n",
              "        text-align: right;\n",
              "    }\n",
              "</style>\n",
              "<table border=\"1\" class=\"dataframe\">\n",
              "  <thead>\n",
              "    <tr style=\"text-align: right;\">\n",
              "      <th>movieId</th>\n",
              "      <th>1</th>\n",
              "      <th>2</th>\n",
              "      <th>3</th>\n",
              "      <th>4</th>\n",
              "      <th>5</th>\n",
              "      <th>6</th>\n",
              "      <th>7</th>\n",
              "      <th>8</th>\n",
              "      <th>9</th>\n",
              "      <th>10</th>\n",
              "      <th>...</th>\n",
              "      <th>193565</th>\n",
              "      <th>193567</th>\n",
              "      <th>193571</th>\n",
              "      <th>193573</th>\n",
              "      <th>193579</th>\n",
              "      <th>193581</th>\n",
              "      <th>193583</th>\n",
              "      <th>193585</th>\n",
              "      <th>193587</th>\n",
              "      <th>193609</th>\n",
              "    </tr>\n",
              "    <tr>\n",
              "      <th>userId</th>\n",
              "      <th></th>\n",
              "      <th></th>\n",
              "      <th></th>\n",
              "      <th></th>\n",
              "      <th></th>\n",
              "      <th></th>\n",
              "      <th></th>\n",
              "      <th></th>\n",
              "      <th></th>\n",
              "      <th></th>\n",
              "      <th></th>\n",
              "      <th></th>\n",
              "      <th></th>\n",
              "      <th></th>\n",
              "      <th></th>\n",
              "      <th></th>\n",
              "      <th></th>\n",
              "      <th></th>\n",
              "      <th></th>\n",
              "      <th></th>\n",
              "      <th></th>\n",
              "    </tr>\n",
              "  </thead>\n",
              "  <tbody>\n",
              "    <tr>\n",
              "      <th>1</th>\n",
              "      <td>3.104480</td>\n",
              "      <td>0.961633</td>\n",
              "      <td>0.907879</td>\n",
              "      <td>0.010339</td>\n",
              "      <td>0.225166</td>\n",
              "      <td>1.112192</td>\n",
              "      <td>0.231570</td>\n",
              "      <td>0.028891</td>\n",
              "      <td>0.147899</td>\n",
              "      <td>1.571824</td>\n",
              "      <td>...</td>\n",
              "      <td>-0.002799</td>\n",
              "      <td>-0.001709</td>\n",
              "      <td>-0.003889</td>\n",
              "      <td>-0.003889</td>\n",
              "      <td>-0.002799</td>\n",
              "      <td>-0.003889</td>\n",
              "      <td>-0.002799</td>\n",
              "      <td>-0.002799</td>\n",
              "      <td>-0.002799</td>\n",
              "      <td>0.004830</td>\n",
              "    </tr>\n",
              "    <tr>\n",
              "      <th>2</th>\n",
              "      <td>0.217966</td>\n",
              "      <td>-0.032570</td>\n",
              "      <td>-0.011916</td>\n",
              "      <td>0.004660</td>\n",
              "      <td>0.023943</td>\n",
              "      <td>0.040740</td>\n",
              "      <td>0.012383</td>\n",
              "      <td>-0.013506</td>\n",
              "      <td>0.034726</td>\n",
              "      <td>-0.046487</td>\n",
              "      <td>...</td>\n",
              "      <td>0.013271</td>\n",
              "      <td>0.011961</td>\n",
              "      <td>0.014581</td>\n",
              "      <td>0.014581</td>\n",
              "      <td>0.013271</td>\n",
              "      <td>0.014581</td>\n",
              "      <td>0.013271</td>\n",
              "      <td>0.013271</td>\n",
              "      <td>0.013271</td>\n",
              "      <td>0.004103</td>\n",
              "    </tr>\n",
              "    <tr>\n",
              "      <th>3</th>\n",
              "      <td>0.054041</td>\n",
              "      <td>0.007930</td>\n",
              "      <td>0.017894</td>\n",
              "      <td>0.007109</td>\n",
              "      <td>-0.005888</td>\n",
              "      <td>0.034701</td>\n",
              "      <td>0.006563</td>\n",
              "      <td>0.011759</td>\n",
              "      <td>0.013164</td>\n",
              "      <td>0.022063</td>\n",
              "      <td>...</td>\n",
              "      <td>0.007966</td>\n",
              "      <td>0.007948</td>\n",
              "      <td>0.007984</td>\n",
              "      <td>0.007984</td>\n",
              "      <td>0.007966</td>\n",
              "      <td>0.007984</td>\n",
              "      <td>0.007966</td>\n",
              "      <td>0.007966</td>\n",
              "      <td>0.007966</td>\n",
              "      <td>0.007840</td>\n",
              "    </tr>\n",
              "    <tr>\n",
              "      <th>4</th>\n",
              "      <td>1.823606</td>\n",
              "      <td>0.191886</td>\n",
              "      <td>0.090925</td>\n",
              "      <td>0.046798</td>\n",
              "      <td>0.141628</td>\n",
              "      <td>0.518515</td>\n",
              "      <td>0.239999</td>\n",
              "      <td>-0.053092</td>\n",
              "      <td>-0.035893</td>\n",
              "      <td>-0.195736</td>\n",
              "      <td>...</td>\n",
              "      <td>-0.000913</td>\n",
              "      <td>-0.000568</td>\n",
              "      <td>-0.001258</td>\n",
              "      <td>-0.001258</td>\n",
              "      <td>-0.000913</td>\n",
              "      <td>-0.001258</td>\n",
              "      <td>-0.000913</td>\n",
              "      <td>-0.000913</td>\n",
              "      <td>-0.000913</td>\n",
              "      <td>0.001500</td>\n",
              "    </tr>\n",
              "    <tr>\n",
              "      <th>5</th>\n",
              "      <td>1.033936</td>\n",
              "      <td>0.768794</td>\n",
              "      <td>0.318519</td>\n",
              "      <td>0.112752</td>\n",
              "      <td>0.495340</td>\n",
              "      <td>0.641021</td>\n",
              "      <td>0.513965</td>\n",
              "      <td>0.128655</td>\n",
              "      <td>0.050766</td>\n",
              "      <td>0.945401</td>\n",
              "      <td>...</td>\n",
              "      <td>-0.003556</td>\n",
              "      <td>-0.003523</td>\n",
              "      <td>-0.003590</td>\n",
              "      <td>-0.003590</td>\n",
              "      <td>-0.003556</td>\n",
              "      <td>-0.003590</td>\n",
              "      <td>-0.003556</td>\n",
              "      <td>-0.003556</td>\n",
              "      <td>-0.003556</td>\n",
              "      <td>-0.003321</td>\n",
              "    </tr>\n",
              "    <tr>\n",
              "      <th>6</th>\n",
              "      <td>2.687415</td>\n",
              "      <td>2.740912</td>\n",
              "      <td>1.473960</td>\n",
              "      <td>0.413415</td>\n",
              "      <td>1.824009</td>\n",
              "      <td>1.741707</td>\n",
              "      <td>2.019106</td>\n",
              "      <td>0.513771</td>\n",
              "      <td>0.348225</td>\n",
              "      <td>3.552369</td>\n",
              "      <td>...</td>\n",
              "      <td>0.042435</td>\n",
              "      <td>0.042040</td>\n",
              "      <td>0.042830</td>\n",
              "      <td>0.042830</td>\n",
              "      <td>0.042435</td>\n",
              "      <td>0.042830</td>\n",
              "      <td>0.042435</td>\n",
              "      <td>0.042435</td>\n",
              "      <td>0.042435</td>\n",
              "      <td>0.039672</td>\n",
              "    </tr>\n",
              "    <tr>\n",
              "      <th>7</th>\n",
              "      <td>1.447702</td>\n",
              "      <td>0.678672</td>\n",
              "      <td>0.027718</td>\n",
              "      <td>-0.042532</td>\n",
              "      <td>0.050973</td>\n",
              "      <td>0.762468</td>\n",
              "      <td>0.012826</td>\n",
              "      <td>-0.033807</td>\n",
              "      <td>-0.001919</td>\n",
              "      <td>0.830505</td>\n",
              "      <td>...</td>\n",
              "      <td>-0.009722</td>\n",
              "      <td>-0.009141</td>\n",
              "      <td>-0.010303</td>\n",
              "      <td>-0.010303</td>\n",
              "      <td>-0.009722</td>\n",
              "      <td>-0.010303</td>\n",
              "      <td>-0.009722</td>\n",
              "      <td>-0.009722</td>\n",
              "      <td>-0.009722</td>\n",
              "      <td>-0.005653</td>\n",
              "    </tr>\n",
              "    <tr>\n",
              "      <th>8</th>\n",
              "      <td>1.434177</td>\n",
              "      <td>0.973836</td>\n",
              "      <td>0.443296</td>\n",
              "      <td>0.147661</td>\n",
              "      <td>0.663750</td>\n",
              "      <td>0.829220</td>\n",
              "      <td>0.675803</td>\n",
              "      <td>0.169180</td>\n",
              "      <td>0.077602</td>\n",
              "      <td>1.299896</td>\n",
              "      <td>...</td>\n",
              "      <td>-0.000054</td>\n",
              "      <td>0.000002</td>\n",
              "      <td>-0.000111</td>\n",
              "      <td>-0.000111</td>\n",
              "      <td>-0.000054</td>\n",
              "      <td>-0.000111</td>\n",
              "      <td>-0.000054</td>\n",
              "      <td>-0.000054</td>\n",
              "      <td>-0.000054</td>\n",
              "      <td>0.000342</td>\n",
              "    </tr>\n",
              "    <tr>\n",
              "      <th>9</th>\n",
              "      <td>0.207377</td>\n",
              "      <td>0.089351</td>\n",
              "      <td>-0.006241</td>\n",
              "      <td>-0.011827</td>\n",
              "      <td>-0.033083</td>\n",
              "      <td>0.032706</td>\n",
              "      <td>-0.048200</td>\n",
              "      <td>-0.023001</td>\n",
              "      <td>-0.007347</td>\n",
              "      <td>0.034445</td>\n",
              "      <td>...</td>\n",
              "      <td>0.002268</td>\n",
              "      <td>0.002297</td>\n",
              "      <td>0.002240</td>\n",
              "      <td>0.002240</td>\n",
              "      <td>0.002268</td>\n",
              "      <td>0.002240</td>\n",
              "      <td>0.002268</td>\n",
              "      <td>0.002268</td>\n",
              "      <td>0.002268</td>\n",
              "      <td>0.002467</td>\n",
              "    </tr>\n",
              "    <tr>\n",
              "      <th>10</th>\n",
              "      <td>0.892218</td>\n",
              "      <td>0.377996</td>\n",
              "      <td>-0.044727</td>\n",
              "      <td>0.021633</td>\n",
              "      <td>0.202763</td>\n",
              "      <td>-0.238078</td>\n",
              "      <td>0.178290</td>\n",
              "      <td>-0.034571</td>\n",
              "      <td>-0.014196</td>\n",
              "      <td>-0.081438</td>\n",
              "      <td>...</td>\n",
              "      <td>0.025996</td>\n",
              "      <td>0.024599</td>\n",
              "      <td>0.027392</td>\n",
              "      <td>0.027392</td>\n",
              "      <td>0.025996</td>\n",
              "      <td>0.027392</td>\n",
              "      <td>0.025996</td>\n",
              "      <td>0.025996</td>\n",
              "      <td>0.025996</td>\n",
              "      <td>0.016219</td>\n",
              "    </tr>\n",
              "  </tbody>\n",
              "</table>\n",
              "<p>10 rows × 9724 columns</p>\n",
              "</div>"
            ],
            "text/plain": [
              "movieId    1         2         3         4         5         6         7       \\\n",
              "userId                                                                          \n",
              "1        3.104480  0.961633  0.907879  0.010339  0.225166  1.112192  0.231570   \n",
              "2        0.217966 -0.032570 -0.011916  0.004660  0.023943  0.040740  0.012383   \n",
              "3        0.054041  0.007930  0.017894  0.007109 -0.005888  0.034701  0.006563   \n",
              "4        1.823606  0.191886  0.090925  0.046798  0.141628  0.518515  0.239999   \n",
              "5        1.033936  0.768794  0.318519  0.112752  0.495340  0.641021  0.513965   \n",
              "6        2.687415  2.740912  1.473960  0.413415  1.824009  1.741707  2.019106   \n",
              "7        1.447702  0.678672  0.027718 -0.042532  0.050973  0.762468  0.012826   \n",
              "8        1.434177  0.973836  0.443296  0.147661  0.663750  0.829220  0.675803   \n",
              "9        0.207377  0.089351 -0.006241 -0.011827 -0.033083  0.032706 -0.048200   \n",
              "10       0.892218  0.377996 -0.044727  0.021633  0.202763 -0.238078  0.178290   \n",
              "\n",
              "movieId    8         9         10      ...    193565    193567    193571  \\\n",
              "userId                                 ...                                 \n",
              "1        0.028891  0.147899  1.571824  ... -0.002799 -0.001709 -0.003889   \n",
              "2       -0.013506  0.034726 -0.046487  ...  0.013271  0.011961  0.014581   \n",
              "3        0.011759  0.013164  0.022063  ...  0.007966  0.007948  0.007984   \n",
              "4       -0.053092 -0.035893 -0.195736  ... -0.000913 -0.000568 -0.001258   \n",
              "5        0.128655  0.050766  0.945401  ... -0.003556 -0.003523 -0.003590   \n",
              "6        0.513771  0.348225  3.552369  ...  0.042435  0.042040  0.042830   \n",
              "7       -0.033807 -0.001919  0.830505  ... -0.009722 -0.009141 -0.010303   \n",
              "8        0.169180  0.077602  1.299896  ... -0.000054  0.000002 -0.000111   \n",
              "9       -0.023001 -0.007347  0.034445  ...  0.002268  0.002297  0.002240   \n",
              "10      -0.034571 -0.014196 -0.081438  ...  0.025996  0.024599  0.027392   \n",
              "\n",
              "movieId    193573    193579    193581    193583    193585    193587    193609  \n",
              "userId                                                                         \n",
              "1       -0.003889 -0.002799 -0.003889 -0.002799 -0.002799 -0.002799  0.004830  \n",
              "2        0.014581  0.013271  0.014581  0.013271  0.013271  0.013271  0.004103  \n",
              "3        0.007984  0.007966  0.007984  0.007966  0.007966  0.007966  0.007840  \n",
              "4       -0.001258 -0.000913 -0.001258 -0.000913 -0.000913 -0.000913  0.001500  \n",
              "5       -0.003590 -0.003556 -0.003590 -0.003556 -0.003556 -0.003556 -0.003321  \n",
              "6        0.042830  0.042435  0.042830  0.042435  0.042435  0.042435  0.039672  \n",
              "7       -0.010303 -0.009722 -0.010303 -0.009722 -0.009722 -0.009722 -0.005653  \n",
              "8       -0.000111 -0.000054 -0.000111 -0.000054 -0.000054 -0.000054  0.000342  \n",
              "9        0.002240  0.002268  0.002240  0.002268  0.002268  0.002268  0.002467  \n",
              "10       0.027392  0.025996  0.027392  0.025996  0.025996  0.025996  0.016219  \n",
              "\n",
              "[10 rows x 9724 columns]"
            ]
          },
          "execution_count": 305,
          "metadata": {},
          "output_type": "execute_result"
        }
      ],
      "source": [
        "predicted_ratings = pd.DataFrame(predicted_ratings, columns = ratings_train_pivot.columns, index=ratings_train_pivot.index)\n",
        "predicted_ratings.head(10)"
      ]
    },
    {
      "cell_type": "code",
      "execution_count": null,
      "id": "a4b50495-4b9f-45ba-a394-0fd6c20155a0",
      "metadata": {
        "id": "a4b50495-4b9f-45ba-a394-0fd6c20155a0"
      },
      "outputs": [],
      "source": [
        "def get_movies_seen_by_user(user_id):\n",
        "    return ratings_train[ratings_train['userId'] == user_id]['movieId']"
      ]
    },
    {
      "cell_type": "code",
      "execution_count": null,
      "id": "ca5e1616-f1f2-443d-93c4-11098c690321",
      "metadata": {
        "id": "ca5e1616-f1f2-443d-93c4-11098c690321"
      },
      "outputs": [],
      "source": [
        "def get_top_recommendations(model, user_id, cutoff_rating):\n",
        "    user_ratings = model.loc[user_id, model.loc[user_id] >= cutoff_rating]\n",
        "    index = set(user_ratings.index) - set(get_movies_seen_by_user(user_id))\n",
        "    index = user_ratings[index].sort_values(ascending=False).index\n",
        "    \n",
        "    recommendations = []\n",
        "    \n",
        "    for i in index:\n",
        "        movie = movies.loc[movies['movieId'] == i]\n",
        "        recommendations.append([movie.iloc[0]['title'], movie.iloc[0]['genres']])\n",
        "    return recommendations[:10]"
      ]
    },
    {
      "cell_type": "code",
      "execution_count": null,
      "id": "301ed137-b21c-4d45-ae9c-af0b5ba5f6f1",
      "metadata": {
        "id": "301ed137-b21c-4d45-ae9c-af0b5ba5f6f1",
        "outputId": "7798b87b-4a67-403a-9fb2-58edb10d0a18"
      },
      "outputs": [
        {
          "data": {
            "text/plain": [
              "[['Terminator 2: Judgment Day (1991)', 'Action|Sci-Fi'],\n",
              " ['Sixth Sense, The (1999)', 'Drama|Horror|Mystery'],\n",
              " ['Die Hard (1988)', 'Action|Crime|Thriller'],\n",
              " ['Aliens (1986)', 'Action|Adventure|Horror|Sci-Fi'],\n",
              " ['Godfather, The (1972)', 'Crime|Drama'],\n",
              " ['Shawshank Redemption, The (1994)', 'Crime|Drama'],\n",
              " ['Twelve Monkeys (a.k.a. 12 Monkeys) (1995)', 'Mystery|Sci-Fi|Thriller'],\n",
              " ['Blade Runner (1982)', 'Action|Sci-Fi|Thriller'],\n",
              " ['Jaws (1975)', 'Action|Horror'],\n",
              " ['Star Trek: First Contact (1996)', 'Action|Adventure|Sci-Fi|Thriller']]"
            ]
          },
          "execution_count": 309,
          "metadata": {},
          "output_type": "execute_result"
        }
      ],
      "source": [
        "get_top_recommendations(predicted_ratings, 1, 2)"
      ]
    },
    {
      "cell_type": "markdown",
      "id": "2fbfe648-6439-490e-910c-9302d980fc19",
      "metadata": {
        "id": "2fbfe648-6439-490e-910c-9302d980fc19"
      },
      "source": [
        "## Metric\n",
        "Average Precision @ k"
      ]
    },
    {
      "cell_type": "code",
      "execution_count": null,
      "id": "b37613dd-a70b-4d76-992e-a7cc9b74b0c8",
      "metadata": {
        "id": "b37613dd-a70b-4d76-992e-a7cc9b74b0c8"
      },
      "outputs": [],
      "source": [
        "def apk(actual, predicted, k=10):\n",
        "    if len(predicted)>k:\n",
        "        predicted = predicted[:k]\n",
        "\n",
        "    min_k = min(len(actual), k)\n",
        "    \n",
        "    score = 0\n",
        "    hits = 0\n",
        "    for i in range(min_k):\n",
        "        if actual[i] == predicted[i]:\n",
        "            hits += 1\n",
        "            score += hits / (i + 1)\n",
        "    \n",
        "    if hits == 0:\n",
        "        return 0\n",
        "    return score / hits"
      ]
    },
    {
      "cell_type": "markdown",
      "id": "55d92bef-68af-441f-9e6a-ab85b9929f4b",
      "metadata": {
        "id": "55d92bef-68af-441f-9e6a-ab85b9929f4b"
      },
      "source": [
        "##### NOTE: ap@k only penalises the recommendation if a bad recommendation appears *BEFORE* a good recommendation"
      ]
    },
    {
      "cell_type": "code",
      "execution_count": null,
      "id": "41553b3a-19fb-4215-9a8a-0c013590590b",
      "metadata": {
        "id": "41553b3a-19fb-4215-9a8a-0c013590590b",
        "outputId": "776652e0-c569-4292-c138-942a967f5b29"
      },
      "outputs": [
        {
          "data": {
            "text/plain": [
              "1.0"
            ]
          },
          "execution_count": 263,
          "metadata": {},
          "output_type": "execute_result"
        }
      ],
      "source": [
        "y_true = [10, 21, 33, 41, 5]\n",
        "y_scores = [10, 21, 33, 41, 5]\n",
        "apk(y_true, y_scores, 5)"
      ]
    },
    {
      "cell_type": "code",
      "execution_count": null,
      "id": "6b9b04eb-76c5-4441-a9a5-0be7e5a0531d",
      "metadata": {
        "id": "6b9b04eb-76c5-4441-a9a5-0be7e5a0531d",
        "outputId": "08c6b989-60a4-4da6-b9ce-4a344e99335f"
      },
      "outputs": [
        {
          "data": {
            "text/plain": [
              "0.8666666666666667"
            ]
          },
          "execution_count": 264,
          "metadata": {},
          "output_type": "execute_result"
        }
      ],
      "source": [
        "y_true = [10, 21, 33, 41, 5]\n",
        "y_scores = [10, 21, 22, 32, 5]\n",
        "apk(y_true, y_scores, 5)"
      ]
    },
    {
      "cell_type": "code",
      "execution_count": null,
      "id": "c29d13d8-d5ef-4128-8acf-9606315cd8bd",
      "metadata": {
        "id": "c29d13d8-d5ef-4128-8acf-9606315cd8bd",
        "outputId": "562dad07-8f4b-4864-a285-17e7c196f78c"
      },
      "outputs": [
        {
          "data": {
            "text/plain": [
              "1.0"
            ]
          },
          "execution_count": 265,
          "metadata": {},
          "output_type": "execute_result"
        }
      ],
      "source": [
        "y_true = [10, 21, 33, 41, 5]\n",
        "y_scores = [10, 21, 33, 25, 65]\n",
        "apk(y_true, y_scores, 5)"
      ]
    },
    {
      "cell_type": "markdown",
      "id": "c9c7025d-083e-4557-a37c-283095188216",
      "metadata": {
        "id": "c9c7025d-083e-4557-a37c-283095188216"
      },
      "source": [
        "See the second recommendation scored 0.87 because 22 and 32 appeared in the list before 5. Meanwhile the subsequent recommendation scored 1.0 because all of its good recommendations [10, 21, 33] appeared before the bad recommendations [25, 65]"
      ]
    },
    {
      "cell_type": "code",
      "execution_count": null,
      "id": "88643355-78ef-4803-a3a6-89681f7dd4d2",
      "metadata": {
        "id": "88643355-78ef-4803-a3a6-89681f7dd4d2"
      },
      "outputs": [],
      "source": [
        ""
      ]
    }
  ],
  "metadata": {
    "kernelspec": {
      "display_name": "Python 3 (ipykernel)",
      "language": "python",
      "name": "python3"
    },
    "language_info": {
      "codemirror_mode": {
        "name": "ipython",
        "version": 3
      },
      "file_extension": ".py",
      "mimetype": "text/x-python",
      "name": "python",
      "nbconvert_exporter": "python",
      "pygments_lexer": "ipython3",
      "version": "3.9.7"
    },
    "colab": {
      "name": "rec sys lab.ipynb",
      "provenance": [],
      "include_colab_link": true
    }
  },
  "nbformat": 4,
  "nbformat_minor": 5
}