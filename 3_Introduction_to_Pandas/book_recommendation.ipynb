{
 "cells": [
  {
   "cell_type": "markdown",
   "metadata": {},
   "source": [
    "# Book Recommendations Dataset"
   ]
  },
  {
   "cell_type": "markdown",
   "metadata": {},
   "source": [
    "This notebook uses the [Book Recommendations](https://www.kaggle.com/arashnic/book-recommendation-dataset) dataset available on Kaggle. "
   ]
  },
  {
   "cell_type": "markdown",
   "metadata": {},
   "source": [
    "## Imports"
   ]
  },
  {
   "cell_type": "code",
   "execution_count": 1,
   "metadata": {},
   "outputs": [],
   "source": [
    "# TODO: Import any other modules you need\n",
    "import pandas as pd"
   ]
  },
  {
   "cell_type": "code",
   "execution_count": null,
   "metadata": {},
   "outputs": [],
   "source": [
    "# TODO: Read Books.csv, Ratings.csv and Users.csv into similary named dataframes"
   ]
  },
  {
   "cell_type": "markdown",
   "metadata": {},
   "source": [
    "## Exploratory Data Analysis (EDA)"
   ]
  },
  {
   "cell_type": "markdown",
   "metadata": {},
   "source": [
    "### TODO: \n",
    "* Use the `describe` and `info` methods on each of your dataframes. \n",
    "* Check the `dtypes` for the columns in each dataframe.\n",
    "* Check for missing values in each dataframe\n",
    "* Check for any other operations commonly used during EDA and perform it here"
   ]
  },
  {
   "cell_type": "markdown",
   "metadata": {},
   "source": [
    "## Fact-Finding"
   ]
  },
  {
   "cell_type": "markdown",
   "metadata": {},
   "source": [
    "You may need to apply the `groupby` method here. Here's a great introduction: [Pandas GroupBy: Your Guide to Grouping Data in Python](https://realpython.com/pandas-groupby/).\n",
    "### TODO: \n",
    "* Group the `ratings` dataframe by `User-ID` and check the `average` rating by user.\n",
    "* Group the `ratings` dataframe by `ISBN` and check the `average` rating each book has gotten.\n",
    "* Create a `Series` containing the number of books each user has read\n",
    "* Who are the top 10 most rated authors?\n",
    "* Who are the top 10 highest rated authors?"
   ]
  },
  {
   "cell_type": "markdown",
   "metadata": {},
   "source": [
    "## Engineering"
   ]
  },
  {
   "cell_type": "markdown",
   "metadata": {},
   "source": [
    "### TODO: \n",
    "* Apply the `to_datetime` method to the `Year-of-Publication` `inplace`. \n",
    "* Use the `drop` method to drop all the `Image` columns in the `books` dataframe.\n",
    "* Read this article - [How to Split String Column in Pandas into Multiple Columns](https://www.statology.org/pandas-split-column/) then apply the method to split the `location` column into three columns `city`, `state`, `country`.\n",
    "* Which other `str` methods are available in pandas? Try out one or two others. \n",
    "* Merge the `ratings` and `books` dataframe into one dataframe named `books_and_ratings`\n",
    "* Merge the `books_and_ratings` dataset and the `users` dataframe into a dataframe named `user_preferences`"
   ]
  },
  {
   "cell_type": "markdown",
   "metadata": {},
   "source": [
    "## Querying and Indexing "
   ]
  },
  {
   "cell_type": "markdown",
   "metadata": {},
   "source": [
    "Here's a useful article:\n",
    "* [The Unreasonable Effectiveness of Method Chaining in Pandas](https://towardsdatascience.com/the-unreasonable-effectiveness-of-method-chaining-in-pandas-15c2109e3c69)"
   ]
  },
  {
   "cell_type": "markdown",
   "metadata": {},
   "source": [
    "### TODO:\n",
    "* Use the `query` method to return rows from the `user_preferences` dataframe where `User-ID` is equal to `276822`\n",
    "* Repeat the same operation as before but this time return rows where `ISBN` is equal to `0345260317`\n",
    "* Return rows where the `ISBN` is equal to `0345260317` and `Book-Rating` is greater than 0.\n",
    "* Repeat all the operations performed above using the `loc` method rather than `query`\n",
    "* Time the operation of both methods (See [Profiling and Timing Code](https://jakevdp.github.io/PythonDataScienceHandbook/01.07-timing-and-profiling.html)). Which is faster?\n",
    "* Use the `to_dict` method to convert the output of query to dictionary. \n",
    "* Write a function that takes in a `dataframe` and a `user_id` and returns a dictionary of rows with matching user ids. Test your function using the `user_preferences` dataframe and any user id in the data."
   ]
  },
  {
   "cell_type": "markdown",
   "metadata": {},
   "source": [
    "### Hierarchical Indexing"
   ]
  },
  {
   "cell_type": "markdown",
   "metadata": {},
   "source": [
    "Study the [Hierarchical Indexing](https://jakevdp.github.io/PythonDataScienceHandbook/03.05-hierarchical-indexing.html) chapter from Python Data Science Handbook."
   ]
  },
  {
   "cell_type": "markdown",
   "metadata": {},
   "source": [
    "### TODO\n",
    "* Include 3 or 4 of your observations in the `Comments` below after exploring the dataset"
   ]
  },
  {
   "cell_type": "markdown",
   "metadata": {},
   "source": [
    "### Comments\n",
    "* "
   ]
  }
 ],
 "metadata": {
  "interpreter": {
   "hash": "a2c5780acc6a1a7032bf798dbdf9a65349f4477246c6308bb1f6d7b31934368c"
  },
  "kernelspec": {
   "display_name": "Python 3.8.8 64-bit ('article': conda)",
   "name": "python3"
  },
  "language_info": {
   "codemirror_mode": {
    "name": "ipython",
    "version": 3
   },
   "file_extension": ".py",
   "mimetype": "text/x-python",
   "name": "python",
   "nbconvert_exporter": "python",
   "pygments_lexer": "ipython3",
   "version": "3.8.8"
  },
  "orig_nbformat": 4
 },
 "nbformat": 4,
 "nbformat_minor": 2
}
