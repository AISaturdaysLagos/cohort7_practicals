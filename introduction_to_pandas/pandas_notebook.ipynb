{
  "cells": [
    {
      "cell_type": "markdown",
      "metadata": {
        "id": "ISAOEWDiF86m"
      },
      "source": [
        "# `Intro to Pandas`"
      ]
    },
    {
      "cell_type": "markdown",
      "metadata": {
        "id": "L32sXN-bF86q"
      },
      "source": [
        "Pandas is a Python package for data analysis and exposes two new\n",
        "data structures: Dataframes and Series.\n",
        "\n",
        "- [Dataframes](http://pandas.pydata.org/pandas-docs/stable/generated/pandas.DataFrame.html) store tabular data consisting of rows and columns.\n",
        "- [Series](https://pandas.pydata.org/pandas-docs/stable/generated/pandas.Series.html) are similar to Python's built-in list or set data types.\n",
        "\n",
        "In this notebook, we will explore the dataframe that Pandas\n",
        "provides, and learn how to interact with them."
      ]
    },
    {
      "cell_type": "markdown",
      "metadata": {
        "id": "DJaufBYRF86s"
      },
      "source": [
        "## `1. Importing Pandas`\n",
        "\n",
        "To import an external Python library such as Pandas, use Python's\n",
        "import function. To save yourself some typing later on, you can\n",
        "give the library you import an alias. Here, we are importing Pandas\n",
        "and giving it an alias of `pd`."
      ]
    },
    {
      "cell_type": "code",
      "execution_count": 2,
      "metadata": {
        "id": "lFV71c9KF86u"
      },
      "outputs": [],
      "source": [
        "import pandas as pd\n",
        "import numpy as np"
      ]
    },
    {
      "cell_type": "code",
      "execution_count": 5,
      "metadata": {},
      "outputs": [
        {
          "data": {
            "text/plain": [
              "'1.3.3'"
            ]
          },
          "execution_count": 5,
          "metadata": {},
          "output_type": "execute_result"
        }
      ],
      "source": [
        "pd.__version__"
      ]
    },
    {
      "cell_type": "markdown",
      "metadata": {
        "id": "21IwHnCUABXK"
      },
      "source": [
        "## `2. Creating Pandas Series`"
      ]
    },
    {
      "cell_type": "code",
      "execution_count": 42,
      "metadata": {
        "colab": {
          "base_uri": "https://localhost:8080/"
        },
        "id": "FiE8NAih_3JC",
        "outputId": "19d420c8-601f-4b0b-af7a-fa5ffd5ea3a0"
      },
      "outputs": [
        {
          "data": {
            "text/plain": [
              "0     Lagos\n",
              "1    Kaduna\n",
              "2      Kano\n",
              "3       Imo\n",
              "4      Abia\n",
              "dtype: object"
            ]
          },
          "execution_count": 42,
          "metadata": {},
          "output_type": "execute_result"
        }
      ],
      "source": [
        "#Creating a pandas series on list of strings values\n",
        "ser1 = pd.Series(['Lagos', 'Kaduna', 'Kano', 'Imo', 'Abia'])\n",
        "ser1"
      ]
    },
    {
      "cell_type": "code",
      "execution_count": 43,
      "metadata": {
        "colab": {
          "base_uri": "https://localhost:8080/"
        },
        "id": "NrF1DqcVAT0F",
        "outputId": "e50d84e6-6e70-42fd-b5b7-7787dd4d610a"
      },
      "outputs": [
        {
          "data": {
            "text/plain": [
              "0    12\n",
              "1    10\n",
              "2     8\n",
              "3    30\n",
              "4     6\n",
              "5    35\n",
              "6    40\n",
              "dtype: int64"
            ]
          },
          "execution_count": 43,
          "metadata": {},
          "output_type": "execute_result"
        }
      ],
      "source": [
        "#Create a pandas series on list of interger values\n",
        "ser2 = pd.Series([12, 10, 8, 30, 6, 35, 40])\n",
        "ser2"
      ]
    },
    {
      "cell_type": "code",
      "execution_count": 44,
      "metadata": {
        "colab": {
          "base_uri": "https://localhost:8080/"
        },
        "id": "tVtFOTGJAc2s",
        "outputId": "f5199ac3-e915-4dd2-be4a-b2a282be3ea8"
      },
      "outputs": [
        {
          "data": {
            "text/plain": [
              "Ikeja       Lagos\n",
              "Kaduna     Kaduna\n",
              "Kano         Kano\n",
              "Owerri        Imo\n",
              "Umuahia      Abia\n",
              "dtype: object"
            ]
          },
          "execution_count": 44,
          "metadata": {},
          "output_type": "execute_result"
        }
      ],
      "source": [
        "#Let's use the pd.Series parameters\n",
        "state = ['Lagos', 'Kaduna', 'Kano', 'Imo', 'Abia']\n",
        "capital = ['Ikeja', 'Kaduna', 'Kano', 'Owerri', 'Umuahia']\n",
        "\n",
        "ser3 = pd.Series(data = state, index = capital)\n",
        "ser3"
      ]
    },
    {
      "cell_type": "code",
      "execution_count": 45,
      "metadata": {
        "colab": {
          "base_uri": "https://localhost:8080/"
        },
        "id": "rL9f3J_-ArtS",
        "outputId": "ea08ae0c-9ca0-46aa-a847-7c0525893ef5"
      },
      "outputs": [
        {
          "data": {
            "text/plain": [
              "Lagos       Ikeja\n",
              "Kano         Kano\n",
              "Kaduna     Kaduna\n",
              "Abia      Unuahia\n",
              "Imo        Owerri\n",
              "dtype: object"
            ]
          },
          "execution_count": 45,
          "metadata": {},
          "output_type": "execute_result"
        }
      ],
      "source": [
        "#Create a pandas series using a dictionary\n",
        "\n",
        "ser4 = pd.Series({'Lagos': 'Ikeja', 'Kano': 'Kano', 'Kaduna': 'Kaduna','Abia': 'Unuahia', 'Imo': 'Owerri'})\n",
        "ser4"
      ]
    },
    {
      "cell_type": "markdown",
      "metadata": {
        "id": "DGO86fSiF86z"
      },
      "source": [
        "## `3. Creating A Dataframe`\n",
        "We will load a CSV file as a dataframe using Panda's `read_csv`\n",
        "method. This will allow us to use Pandas' dataframe functions to\n",
        "explore the data in the CSV."
      ]
    },
    {
      "cell_type": "code",
      "execution_count": 46,
      "metadata": {
        "colab": {
          "base_uri": "https://localhost:8080/"
        },
        "id": "MBXjXdPqA-8v",
        "outputId": "41728030-b78f-4540-b8b5-a4daaa8ffc5e"
      },
      "outputs": [
        {
          "data": {
            "text/plain": [
              "{'Scores': [76, 77, 64], 'students': ['Emeka', 'Chioma', 'Daniel']}"
            ]
          },
          "execution_count": 46,
          "metadata": {},
          "output_type": "execute_result"
        }
      ],
      "source": [
        "# Create a dataframe using a dictionary\n",
        "num_dict = {'students': ['Emeka', 'Chioma', 'Daniel'],\n",
        "            'Scores': [76, 77, 64]}\n",
        "num_dict"
      ]
    },
    {
      "cell_type": "code",
      "execution_count": 47,
      "metadata": {
        "colab": {
          "base_uri": "https://localhost:8080/",
          "height": 144
        },
        "id": "tA5LTYjABDN2",
        "outputId": "0b031ee0-f492-494b-e4d8-13fc60b4a1d7"
      },
      "outputs": [
        {
          "data": {
            "text/html": [
              "<div>\n",
              "<style scoped>\n",
              "    .dataframe tbody tr th:only-of-type {\n",
              "        vertical-align: middle;\n",
              "    }\n",
              "\n",
              "    .dataframe tbody tr th {\n",
              "        vertical-align: top;\n",
              "    }\n",
              "\n",
              "    .dataframe thead th {\n",
              "        text-align: right;\n",
              "    }\n",
              "</style>\n",
              "<table border=\"1\" class=\"dataframe\">\n",
              "  <thead>\n",
              "    <tr style=\"text-align: right;\">\n",
              "      <th></th>\n",
              "      <th>students</th>\n",
              "      <th>Scores</th>\n",
              "    </tr>\n",
              "  </thead>\n",
              "  <tbody>\n",
              "    <tr>\n",
              "      <th>0</th>\n",
              "      <td>Emeka</td>\n",
              "      <td>76</td>\n",
              "    </tr>\n",
              "    <tr>\n",
              "      <th>1</th>\n",
              "      <td>Chioma</td>\n",
              "      <td>77</td>\n",
              "    </tr>\n",
              "    <tr>\n",
              "      <th>2</th>\n",
              "      <td>Daniel</td>\n",
              "      <td>64</td>\n",
              "    </tr>\n",
              "  </tbody>\n",
              "</table>\n",
              "</div>"
            ],
            "text/plain": [
              "  students  Scores\n",
              "0    Emeka      76\n",
              "1   Chioma      77\n",
              "2   Daniel      64"
            ]
          },
          "execution_count": 47,
          "metadata": {},
          "output_type": "execute_result"
        }
      ],
      "source": [
        "# Dictionary to dataframe\n",
        "df_dict = pd.DataFrame(num_dict)\n",
        "df_dict"
      ]
    },
    {
      "cell_type": "code",
      "execution_count": 48,
      "metadata": {
        "colab": {
          "base_uri": "https://localhost:8080/"
        },
        "id": "9WCXT-OgBYQ8",
        "outputId": "3c82dff0-beb0-4944-c875-038d5df6f88a"
      },
      "outputs": [
        {
          "data": {
            "text/plain": [
              "[{'a': 1, 'b': 2, 'c': 3}, {'a': 4, 'b': 5, 'c': 6}]"
            ]
          },
          "execution_count": 48,
          "metadata": {},
          "output_type": "execute_result"
        }
      ],
      "source": [
        "#Create dataframe using a list\n",
        "num_list = [{'a': 1, 'b': 2, 'c': 3},\n",
        "            {'a': 4, 'b': 5, 'c': 6}]\n",
        "num_list"
      ]
    },
    {
      "cell_type": "code",
      "execution_count": 49,
      "metadata": {
        "colab": {
          "base_uri": "https://localhost:8080/",
          "height": 112
        },
        "id": "Yhrju8xbBiVR",
        "outputId": "9ec65ced-b154-4bfe-dcec-71773f68c3fb"
      },
      "outputs": [
        {
          "data": {
            "text/html": [
              "<div>\n",
              "<style scoped>\n",
              "    .dataframe tbody tr th:only-of-type {\n",
              "        vertical-align: middle;\n",
              "    }\n",
              "\n",
              "    .dataframe tbody tr th {\n",
              "        vertical-align: top;\n",
              "    }\n",
              "\n",
              "    .dataframe thead th {\n",
              "        text-align: right;\n",
              "    }\n",
              "</style>\n",
              "<table border=\"1\" class=\"dataframe\">\n",
              "  <thead>\n",
              "    <tr style=\"text-align: right;\">\n",
              "      <th></th>\n",
              "      <th>a</th>\n",
              "      <th>b</th>\n",
              "      <th>c</th>\n",
              "    </tr>\n",
              "  </thead>\n",
              "  <tbody>\n",
              "    <tr>\n",
              "      <th>0</th>\n",
              "      <td>1</td>\n",
              "      <td>2</td>\n",
              "      <td>3</td>\n",
              "    </tr>\n",
              "    <tr>\n",
              "      <th>1</th>\n",
              "      <td>4</td>\n",
              "      <td>5</td>\n",
              "      <td>6</td>\n",
              "    </tr>\n",
              "  </tbody>\n",
              "</table>\n",
              "</div>"
            ],
            "text/plain": [
              "   a  b  c\n",
              "0  1  2  3\n",
              "1  4  5  6"
            ]
          },
          "execution_count": 49,
          "metadata": {},
          "output_type": "execute_result"
        }
      ],
      "source": [
        "#List to dataframe\n",
        "df_list = pd.DataFrame(num_list)\n",
        "df_list"
      ]
    },
    {
      "cell_type": "code",
      "execution_count": 50,
      "metadata": {
        "id": "MPOj_Wbq2xk_"
      },
      "outputs": [],
      "source": [
        "data_dict = {'Name': ['Ibrahim Musa', 'Emeka Jude', 'Emmanuel Ayomide'],\n",
        "             'Age': [24, 25, 27],\n",
        "             'Sport': ['Football', 'Basketball', 'Volleyball']}"
      ]
    },
    {
      "cell_type": "code",
      "execution_count": 51,
      "metadata": {
        "id": "e-mun9Wj3Dzr"
      },
      "outputs": [],
      "source": [
        "data_dict2 = {'Name': ['Nnamdi Ike', 'Emmanuel Ayomide', 'Ahmed Musa'],\n",
        "             'Age': [24, 27, 28],\n",
        "             'Sport': ['Football', 'Basketball', 'Swimming']}"
      ]
    },
    {
      "cell_type": "code",
      "execution_count": 52,
      "metadata": {
        "id": "1Q-sYZlL3EbK"
      },
      "outputs": [],
      "source": [
        "# Convert data_dict to a DataFrame\n",
        "df1 = pd.DataFrame(data_dict, index = [0, 1, 2])"
      ]
    },
    {
      "cell_type": "code",
      "execution_count": 53,
      "metadata": {
        "colab": {
          "base_uri": "https://localhost:8080/",
          "height": 144
        },
        "id": "W1r6vULkEZe0",
        "outputId": "59200d26-0600-465b-cf46-77906c839ba7"
      },
      "outputs": [
        {
          "data": {
            "text/html": [
              "<div>\n",
              "<style scoped>\n",
              "    .dataframe tbody tr th:only-of-type {\n",
              "        vertical-align: middle;\n",
              "    }\n",
              "\n",
              "    .dataframe tbody tr th {\n",
              "        vertical-align: top;\n",
              "    }\n",
              "\n",
              "    .dataframe thead th {\n",
              "        text-align: right;\n",
              "    }\n",
              "</style>\n",
              "<table border=\"1\" class=\"dataframe\">\n",
              "  <thead>\n",
              "    <tr style=\"text-align: right;\">\n",
              "      <th></th>\n",
              "      <th>Name</th>\n",
              "      <th>Age</th>\n",
              "      <th>Sport</th>\n",
              "    </tr>\n",
              "  </thead>\n",
              "  <tbody>\n",
              "    <tr>\n",
              "      <th>0</th>\n",
              "      <td>Ibrahim Musa</td>\n",
              "      <td>24</td>\n",
              "      <td>Football</td>\n",
              "    </tr>\n",
              "    <tr>\n",
              "      <th>1</th>\n",
              "      <td>Emeka Jude</td>\n",
              "      <td>25</td>\n",
              "      <td>Basketball</td>\n",
              "    </tr>\n",
              "    <tr>\n",
              "      <th>2</th>\n",
              "      <td>Emmanuel Ayomide</td>\n",
              "      <td>27</td>\n",
              "      <td>Volleyball</td>\n",
              "    </tr>\n",
              "  </tbody>\n",
              "</table>\n",
              "</div>"
            ],
            "text/plain": [
              "               Name  Age       Sport\n",
              "0      Ibrahim Musa   24    Football\n",
              "1        Emeka Jude   25  Basketball\n",
              "2  Emmanuel Ayomide   27  Volleyball"
            ]
          },
          "execution_count": 53,
          "metadata": {},
          "output_type": "execute_result"
        }
      ],
      "source": [
        "df1"
      ]
    },
    {
      "cell_type": "code",
      "execution_count": 54,
      "metadata": {
        "id": "pkCNXhwy3VYD"
      },
      "outputs": [],
      "source": [
        "# Convert data_dict2 to a DataFrame\n",
        "df2 = pd.DataFrame(data_dict2, index =[3, 2, 5])"
      ]
    },
    {
      "cell_type": "code",
      "execution_count": 55,
      "metadata": {
        "colab": {
          "base_uri": "https://localhost:8080/",
          "height": 144
        },
        "id": "GVXTQmNwEsE_",
        "outputId": "19d2dcce-8d36-4aaf-f1de-3a9fe4627194"
      },
      "outputs": [
        {
          "data": {
            "text/html": [
              "<div>\n",
              "<style scoped>\n",
              "    .dataframe tbody tr th:only-of-type {\n",
              "        vertical-align: middle;\n",
              "    }\n",
              "\n",
              "    .dataframe tbody tr th {\n",
              "        vertical-align: top;\n",
              "    }\n",
              "\n",
              "    .dataframe thead th {\n",
              "        text-align: right;\n",
              "    }\n",
              "</style>\n",
              "<table border=\"1\" class=\"dataframe\">\n",
              "  <thead>\n",
              "    <tr style=\"text-align: right;\">\n",
              "      <th></th>\n",
              "      <th>Name</th>\n",
              "      <th>Age</th>\n",
              "      <th>Sport</th>\n",
              "    </tr>\n",
              "  </thead>\n",
              "  <tbody>\n",
              "    <tr>\n",
              "      <th>3</th>\n",
              "      <td>Nnamdi Ike</td>\n",
              "      <td>24</td>\n",
              "      <td>Football</td>\n",
              "    </tr>\n",
              "    <tr>\n",
              "      <th>2</th>\n",
              "      <td>Emmanuel Ayomide</td>\n",
              "      <td>27</td>\n",
              "      <td>Basketball</td>\n",
              "    </tr>\n",
              "    <tr>\n",
              "      <th>5</th>\n",
              "      <td>Ahmed Musa</td>\n",
              "      <td>28</td>\n",
              "      <td>Swimming</td>\n",
              "    </tr>\n",
              "  </tbody>\n",
              "</table>\n",
              "</div>"
            ],
            "text/plain": [
              "               Name  Age       Sport\n",
              "3        Nnamdi Ike   24    Football\n",
              "2  Emmanuel Ayomide   27  Basketball\n",
              "5        Ahmed Musa   28    Swimming"
            ]
          },
          "execution_count": 55,
          "metadata": {},
          "output_type": "execute_result"
        }
      ],
      "source": [
        "df2"
      ]
    },
    {
      "cell_type": "code",
      "execution_count": 56,
      "metadata": {
        "colab": {
          "base_uri": "https://localhost:8080/",
          "height": 237
        },
        "id": "bzv9gUzKE0ue",
        "outputId": "587010d5-165c-4f4e-d80e-afa46130c6d9"
      },
      "outputs": [
        {
          "data": {
            "text/html": [
              "<div>\n",
              "<style scoped>\n",
              "    .dataframe tbody tr th:only-of-type {\n",
              "        vertical-align: middle;\n",
              "    }\n",
              "\n",
              "    .dataframe tbody tr th {\n",
              "        vertical-align: top;\n",
              "    }\n",
              "\n",
              "    .dataframe thead th {\n",
              "        text-align: right;\n",
              "    }\n",
              "</style>\n",
              "<table border=\"1\" class=\"dataframe\">\n",
              "  <thead>\n",
              "    <tr style=\"text-align: right;\">\n",
              "      <th></th>\n",
              "      <th>Name</th>\n",
              "      <th>Age</th>\n",
              "      <th>Sport</th>\n",
              "    </tr>\n",
              "  </thead>\n",
              "  <tbody>\n",
              "    <tr>\n",
              "      <th>0</th>\n",
              "      <td>Ibrahim Musa</td>\n",
              "      <td>24</td>\n",
              "      <td>Football</td>\n",
              "    </tr>\n",
              "    <tr>\n",
              "      <th>1</th>\n",
              "      <td>Emeka Jude</td>\n",
              "      <td>25</td>\n",
              "      <td>Basketball</td>\n",
              "    </tr>\n",
              "    <tr>\n",
              "      <th>2</th>\n",
              "      <td>Emmanuel Ayomide</td>\n",
              "      <td>27</td>\n",
              "      <td>Volleyball</td>\n",
              "    </tr>\n",
              "    <tr>\n",
              "      <th>3</th>\n",
              "      <td>Nnamdi Ike</td>\n",
              "      <td>24</td>\n",
              "      <td>Football</td>\n",
              "    </tr>\n",
              "    <tr>\n",
              "      <th>2</th>\n",
              "      <td>Emmanuel Ayomide</td>\n",
              "      <td>27</td>\n",
              "      <td>Basketball</td>\n",
              "    </tr>\n",
              "    <tr>\n",
              "      <th>5</th>\n",
              "      <td>Ahmed Musa</td>\n",
              "      <td>28</td>\n",
              "      <td>Swimming</td>\n",
              "    </tr>\n",
              "  </tbody>\n",
              "</table>\n",
              "</div>"
            ],
            "text/plain": [
              "               Name  Age       Sport\n",
              "0      Ibrahim Musa   24    Football\n",
              "1        Emeka Jude   25  Basketball\n",
              "2  Emmanuel Ayomide   27  Volleyball\n",
              "3        Nnamdi Ike   24    Football\n",
              "2  Emmanuel Ayomide   27  Basketball\n",
              "5        Ahmed Musa   28    Swimming"
            ]
          },
          "execution_count": 56,
          "metadata": {},
          "output_type": "execute_result"
        }
      ],
      "source": [
        "# Joining the two dataframe with concat method\n",
        "pd.concat([df1, df2])"
      ]
    },
    {
      "cell_type": "code",
      "execution_count": 57,
      "metadata": {
        "colab": {
          "base_uri": "https://localhost:8080/",
          "height": 237
        },
        "id": "DkJE4NlLE9_U",
        "outputId": "2039cf29-5178-4f88-8725-079256cebf59"
      },
      "outputs": [
        {
          "data": {
            "text/html": [
              "<div>\n",
              "<style scoped>\n",
              "    .dataframe tbody tr th:only-of-type {\n",
              "        vertical-align: middle;\n",
              "    }\n",
              "\n",
              "    .dataframe tbody tr th {\n",
              "        vertical-align: top;\n",
              "    }\n",
              "\n",
              "    .dataframe thead th {\n",
              "        text-align: right;\n",
              "    }\n",
              "</style>\n",
              "<table border=\"1\" class=\"dataframe\">\n",
              "  <thead>\n",
              "    <tr style=\"text-align: right;\">\n",
              "      <th></th>\n",
              "      <th>Name</th>\n",
              "      <th>Age</th>\n",
              "      <th>Sport</th>\n",
              "    </tr>\n",
              "  </thead>\n",
              "  <tbody>\n",
              "    <tr>\n",
              "      <th>0</th>\n",
              "      <td>Ibrahim Musa</td>\n",
              "      <td>24</td>\n",
              "      <td>Football</td>\n",
              "    </tr>\n",
              "    <tr>\n",
              "      <th>1</th>\n",
              "      <td>Emeka Jude</td>\n",
              "      <td>25</td>\n",
              "      <td>Basketball</td>\n",
              "    </tr>\n",
              "    <tr>\n",
              "      <th>2</th>\n",
              "      <td>Emmanuel Ayomide</td>\n",
              "      <td>27</td>\n",
              "      <td>Volleyball</td>\n",
              "    </tr>\n",
              "    <tr>\n",
              "      <th>3</th>\n",
              "      <td>Nnamdi Ike</td>\n",
              "      <td>24</td>\n",
              "      <td>Football</td>\n",
              "    </tr>\n",
              "    <tr>\n",
              "      <th>2</th>\n",
              "      <td>Emmanuel Ayomide</td>\n",
              "      <td>27</td>\n",
              "      <td>Basketball</td>\n",
              "    </tr>\n",
              "    <tr>\n",
              "      <th>5</th>\n",
              "      <td>Ahmed Musa</td>\n",
              "      <td>28</td>\n",
              "      <td>Swimming</td>\n",
              "    </tr>\n",
              "  </tbody>\n",
              "</table>\n",
              "</div>"
            ],
            "text/plain": [
              "               Name  Age       Sport\n",
              "0      Ibrahim Musa   24    Football\n",
              "1        Emeka Jude   25  Basketball\n",
              "2  Emmanuel Ayomide   27  Volleyball\n",
              "3        Nnamdi Ike   24    Football\n",
              "2  Emmanuel Ayomide   27  Basketball\n",
              "5        Ahmed Musa   28    Swimming"
            ]
          },
          "execution_count": 57,
          "metadata": {},
          "output_type": "execute_result"
        }
      ],
      "source": [
        "# Joining the two dataframe with append method\n",
        "df1.append(df2)"
      ]
    },
    {
      "cell_type": "code",
      "execution_count": 58,
      "metadata": {
        "colab": {
          "base_uri": "https://localhost:8080/",
          "height": 206
        },
        "id": "i92A6m_RFEqP",
        "outputId": "e3866276-0a0c-482e-cacf-e38ca0b9bd9d"
      },
      "outputs": [
        {
          "data": {
            "text/html": [
              "<div>\n",
              "<style scoped>\n",
              "    .dataframe tbody tr th:only-of-type {\n",
              "        vertical-align: middle;\n",
              "    }\n",
              "\n",
              "    .dataframe tbody tr th {\n",
              "        vertical-align: top;\n",
              "    }\n",
              "\n",
              "    .dataframe thead th {\n",
              "        text-align: right;\n",
              "    }\n",
              "</style>\n",
              "<table border=\"1\" class=\"dataframe\">\n",
              "  <thead>\n",
              "    <tr style=\"text-align: right;\">\n",
              "      <th></th>\n",
              "      <th>Name</th>\n",
              "      <th>Age</th>\n",
              "      <th>Sport</th>\n",
              "      <th>Name</th>\n",
              "      <th>Age</th>\n",
              "      <th>Sport</th>\n",
              "    </tr>\n",
              "  </thead>\n",
              "  <tbody>\n",
              "    <tr>\n",
              "      <th>0</th>\n",
              "      <td>Ibrahim Musa</td>\n",
              "      <td>24.0</td>\n",
              "      <td>Football</td>\n",
              "      <td>NaN</td>\n",
              "      <td>NaN</td>\n",
              "      <td>NaN</td>\n",
              "    </tr>\n",
              "    <tr>\n",
              "      <th>1</th>\n",
              "      <td>Emeka Jude</td>\n",
              "      <td>25.0</td>\n",
              "      <td>Basketball</td>\n",
              "      <td>NaN</td>\n",
              "      <td>NaN</td>\n",
              "      <td>NaN</td>\n",
              "    </tr>\n",
              "    <tr>\n",
              "      <th>2</th>\n",
              "      <td>Emmanuel Ayomide</td>\n",
              "      <td>27.0</td>\n",
              "      <td>Volleyball</td>\n",
              "      <td>Emmanuel Ayomide</td>\n",
              "      <td>27.0</td>\n",
              "      <td>Basketball</td>\n",
              "    </tr>\n",
              "    <tr>\n",
              "      <th>3</th>\n",
              "      <td>NaN</td>\n",
              "      <td>NaN</td>\n",
              "      <td>NaN</td>\n",
              "      <td>Nnamdi Ike</td>\n",
              "      <td>24.0</td>\n",
              "      <td>Football</td>\n",
              "    </tr>\n",
              "    <tr>\n",
              "      <th>5</th>\n",
              "      <td>NaN</td>\n",
              "      <td>NaN</td>\n",
              "      <td>NaN</td>\n",
              "      <td>Ahmed Musa</td>\n",
              "      <td>28.0</td>\n",
              "      <td>Swimming</td>\n",
              "    </tr>\n",
              "  </tbody>\n",
              "</table>\n",
              "</div>"
            ],
            "text/plain": [
              "               Name   Age       Sport              Name   Age       Sport\n",
              "0      Ibrahim Musa  24.0    Football               NaN   NaN         NaN\n",
              "1        Emeka Jude  25.0  Basketball               NaN   NaN         NaN\n",
              "2  Emmanuel Ayomide  27.0  Volleyball  Emmanuel Ayomide  27.0  Basketball\n",
              "3               NaN   NaN         NaN        Nnamdi Ike  24.0    Football\n",
              "5               NaN   NaN         NaN        Ahmed Musa  28.0    Swimming"
            ]
          },
          "execution_count": 58,
          "metadata": {},
          "output_type": "execute_result"
        }
      ],
      "source": [
        "# Combinig data across the columns using concat\n",
        "pd.concat([df1, df2], axis = 1)"
      ]
    },
    {
      "cell_type": "markdown",
      "metadata": {
        "id": "FP-A0uIxB07F"
      },
      "source": [
        "## `4. DataFrame Attributes and Methods`"
      ]
    },
    {
      "cell_type": "code",
      "execution_count": 59,
      "metadata": {
        "colab": {
          "base_uri": "https://localhost:8080/"
        },
        "id": "pAdzH1yBCD6A",
        "outputId": "a9207371-6d26-45a6-b920-92a2ff5ee5c3"
      },
      "outputs": [
        {
          "data": {
            "text/plain": [
              "array([[ 0,  1,  2],\n",
              "       [ 3,  4,  5],\n",
              "       [ 6,  7,  8],\n",
              "       [ 9, 10, 11],\n",
              "       [12, 13, 14]])"
            ]
          },
          "execution_count": 59,
          "metadata": {},
          "output_type": "execute_result"
        }
      ],
      "source": [
        "num1_array = np.arange(15).reshape(5, 3)\n",
        "num1_array"
      ]
    },
    {
      "cell_type": "code",
      "execution_count": 60,
      "metadata": {
        "id": "E0DlUB5hB2wH"
      },
      "outputs": [],
      "source": [
        "index = ['A', 'B', 'C', 'D', 'E']\n",
        "columns = ['Col1', 'Col2', 'Col3']"
      ]
    },
    {
      "cell_type": "code",
      "execution_count": 61,
      "metadata": {
        "colab": {
          "base_uri": "https://localhost:8080/",
          "height": 206
        },
        "id": "aK5mMdwbCF2c",
        "outputId": "ae9f7ffb-f1df-466e-8d99-9e71dad2ff26"
      },
      "outputs": [
        {
          "data": {
            "text/html": [
              "<div>\n",
              "<style scoped>\n",
              "    .dataframe tbody tr th:only-of-type {\n",
              "        vertical-align: middle;\n",
              "    }\n",
              "\n",
              "    .dataframe tbody tr th {\n",
              "        vertical-align: top;\n",
              "    }\n",
              "\n",
              "    .dataframe thead th {\n",
              "        text-align: right;\n",
              "    }\n",
              "</style>\n",
              "<table border=\"1\" class=\"dataframe\">\n",
              "  <thead>\n",
              "    <tr style=\"text-align: right;\">\n",
              "      <th></th>\n",
              "      <th>Col1</th>\n",
              "      <th>Col2</th>\n",
              "      <th>Col3</th>\n",
              "    </tr>\n",
              "  </thead>\n",
              "  <tbody>\n",
              "    <tr>\n",
              "      <th>A</th>\n",
              "      <td>0</td>\n",
              "      <td>1</td>\n",
              "      <td>2</td>\n",
              "    </tr>\n",
              "    <tr>\n",
              "      <th>B</th>\n",
              "      <td>3</td>\n",
              "      <td>4</td>\n",
              "      <td>5</td>\n",
              "    </tr>\n",
              "    <tr>\n",
              "      <th>C</th>\n",
              "      <td>6</td>\n",
              "      <td>7</td>\n",
              "      <td>8</td>\n",
              "    </tr>\n",
              "    <tr>\n",
              "      <th>D</th>\n",
              "      <td>9</td>\n",
              "      <td>10</td>\n",
              "      <td>11</td>\n",
              "    </tr>\n",
              "    <tr>\n",
              "      <th>E</th>\n",
              "      <td>12</td>\n",
              "      <td>13</td>\n",
              "      <td>14</td>\n",
              "    </tr>\n",
              "  </tbody>\n",
              "</table>\n",
              "</div>"
            ],
            "text/plain": [
              "   Col1  Col2  Col3\n",
              "A     0     1     2\n",
              "B     3     4     5\n",
              "C     6     7     8\n",
              "D     9    10    11\n",
              "E    12    13    14"
            ]
          },
          "execution_count": 61,
          "metadata": {},
          "output_type": "execute_result"
        }
      ],
      "source": [
        "# Array to DataFrame\n",
        "df1_array = pd.DataFrame(num1_array, index = index, columns = columns)\n",
        "df1_array"
      ]
    },
    {
      "cell_type": "code",
      "execution_count": 62,
      "metadata": {
        "colab": {
          "base_uri": "https://localhost:8080/"
        },
        "id": "Hkwaw_mvCW-5",
        "outputId": "f863faa9-7a18-4e7a-8d2d-0dd51a1b890c"
      },
      "outputs": [
        {
          "data": {
            "text/plain": [
              "Index(['A', 'B', 'C', 'D', 'E'], dtype='object')"
            ]
          },
          "execution_count": 62,
          "metadata": {},
          "output_type": "execute_result"
        }
      ],
      "source": [
        "# Attributes of pandas\n",
        "df1_array.index  #get all the indexes"
      ]
    },
    {
      "cell_type": "code",
      "execution_count": 63,
      "metadata": {
        "colab": {
          "base_uri": "https://localhost:8080/"
        },
        "id": "shiSyBwgCY1M",
        "outputId": "d8872552-173d-4495-ef5f-f22d297ec7fa"
      },
      "outputs": [
        {
          "data": {
            "text/plain": [
              "Index(['Col1', 'Col2', 'Col3'], dtype='object')"
            ]
          },
          "execution_count": 63,
          "metadata": {},
          "output_type": "execute_result"
        }
      ],
      "source": [
        "# get all the columns\n",
        "df1_array.columns"
      ]
    },
    {
      "cell_type": "code",
      "execution_count": 64,
      "metadata": {
        "colab": {
          "base_uri": "https://localhost:8080/"
        },
        "id": "XJVf3QkzCenQ",
        "outputId": "fd38d26f-381d-4a30-9aca-2f506141c32d"
      },
      "outputs": [
        {
          "data": {
            "text/plain": [
              "array([[ 0,  1,  2],\n",
              "       [ 3,  4,  5],\n",
              "       [ 6,  7,  8],\n",
              "       [ 9, 10, 11],\n",
              "       [12, 13, 14]])"
            ]
          },
          "execution_count": 64,
          "metadata": {},
          "output_type": "execute_result"
        }
      ],
      "source": [
        "# get all the values\n",
        "df1_array.values"
      ]
    },
    {
      "cell_type": "code",
      "execution_count": 65,
      "metadata": {
        "colab": {
          "base_uri": "https://localhost:8080/"
        },
        "id": "6slXIrmCChjg",
        "outputId": "4ec7474b-587f-4728-9760-79ab83e46d22"
      },
      "outputs": [
        {
          "data": {
            "text/plain": [
              "Col1    int64\n",
              "Col2    int64\n",
              "Col3    int64\n",
              "dtype: object"
            ]
          },
          "execution_count": 65,
          "metadata": {},
          "output_type": "execute_result"
        }
      ],
      "source": [
        "df1_array.dtypes"
      ]
    },
    {
      "cell_type": "code",
      "execution_count": 66,
      "metadata": {
        "colab": {
          "base_uri": "https://localhost:8080/",
          "height": 144
        },
        "id": "cpXqt0FHCnJM",
        "outputId": "00f71d87-104c-4a3b-c544-59983a24ab2a"
      },
      "outputs": [
        {
          "data": {
            "text/html": [
              "<div>\n",
              "<style scoped>\n",
              "    .dataframe tbody tr th:only-of-type {\n",
              "        vertical-align: middle;\n",
              "    }\n",
              "\n",
              "    .dataframe tbody tr th {\n",
              "        vertical-align: top;\n",
              "    }\n",
              "\n",
              "    .dataframe thead th {\n",
              "        text-align: right;\n",
              "    }\n",
              "</style>\n",
              "<table border=\"1\" class=\"dataframe\">\n",
              "  <thead>\n",
              "    <tr style=\"text-align: right;\">\n",
              "      <th></th>\n",
              "      <th>Col1</th>\n",
              "      <th>Col2</th>\n",
              "      <th>Col3</th>\n",
              "    </tr>\n",
              "  </thead>\n",
              "  <tbody>\n",
              "    <tr>\n",
              "      <th>C</th>\n",
              "      <td>6</td>\n",
              "      <td>7</td>\n",
              "      <td>8</td>\n",
              "    </tr>\n",
              "    <tr>\n",
              "      <th>D</th>\n",
              "      <td>9</td>\n",
              "      <td>10</td>\n",
              "      <td>11</td>\n",
              "    </tr>\n",
              "    <tr>\n",
              "      <th>E</th>\n",
              "      <td>12</td>\n",
              "      <td>13</td>\n",
              "      <td>14</td>\n",
              "    </tr>\n",
              "  </tbody>\n",
              "</table>\n",
              "</div>"
            ],
            "text/plain": [
              "   Col1  Col2  Col3\n",
              "C     6     7     8\n",
              "D     9    10    11\n",
              "E    12    13    14"
            ]
          },
          "execution_count": 66,
          "metadata": {},
          "output_type": "execute_result"
        }
      ],
      "source": [
        "# df1_array.head()\n",
        "df1_array.tail(3)"
      ]
    },
    {
      "cell_type": "markdown",
      "metadata": {
        "id": "V55DDj9kDDQq"
      },
      "source": [
        "## `5. Creating datasets from files`"
      ]
    },
    {
      "cell_type": "markdown",
      "metadata": {
        "id": "aZ_azXm4vN2j"
      },
      "source": [
        "Two different datasets will be used for this section, \n",
        "*   The first is a loan default dataset\n",
        "*   The second is a student profile dataset"
      ]
    },
    {
      "cell_type": "code",
      "execution_count": 67,
      "metadata": {
        "id": "KXZ6d2vwF861"
      },
      "outputs": [],
      "source": [
        "df = pd.read_csv ('data/loan_default.csv')\n",
        "students = pd.read_csv('data/students.csv')"
      ]
    },
    {
      "cell_type": "code",
      "execution_count": 68,
      "metadata": {
        "colab": {
          "base_uri": "https://localhost:8080/",
          "height": 206
        },
        "id": "keUw9ir_JJ-f",
        "outputId": "e5d10228-e392-49f0-b1d7-7a017a92e62e"
      },
      "outputs": [
        {
          "data": {
            "text/html": [
              "<div>\n",
              "<style scoped>\n",
              "    .dataframe tbody tr th:only-of-type {\n",
              "        vertical-align: middle;\n",
              "    }\n",
              "\n",
              "    .dataframe tbody tr th {\n",
              "        vertical-align: top;\n",
              "    }\n",
              "\n",
              "    .dataframe thead th {\n",
              "        text-align: right;\n",
              "    }\n",
              "</style>\n",
              "<table border=\"1\" class=\"dataframe\">\n",
              "  <thead>\n",
              "    <tr style=\"text-align: right;\">\n",
              "      <th></th>\n",
              "      <th>Index</th>\n",
              "      <th>Employed</th>\n",
              "      <th>Bank Balance</th>\n",
              "      <th>Annual Salary</th>\n",
              "      <th>Defaulted?</th>\n",
              "    </tr>\n",
              "  </thead>\n",
              "  <tbody>\n",
              "    <tr>\n",
              "      <th>0</th>\n",
              "      <td>1</td>\n",
              "      <td>1</td>\n",
              "      <td>8754.36</td>\n",
              "      <td>532339.56</td>\n",
              "      <td>0</td>\n",
              "    </tr>\n",
              "    <tr>\n",
              "      <th>1</th>\n",
              "      <td>2</td>\n",
              "      <td>0</td>\n",
              "      <td>9806.16</td>\n",
              "      <td>145273.56</td>\n",
              "      <td>0</td>\n",
              "    </tr>\n",
              "    <tr>\n",
              "      <th>2</th>\n",
              "      <td>3</td>\n",
              "      <td>1</td>\n",
              "      <td>12882.60</td>\n",
              "      <td>381205.68</td>\n",
              "      <td>0</td>\n",
              "    </tr>\n",
              "    <tr>\n",
              "      <th>3</th>\n",
              "      <td>4</td>\n",
              "      <td>1</td>\n",
              "      <td>6351.00</td>\n",
              "      <td>428453.88</td>\n",
              "      <td>0</td>\n",
              "    </tr>\n",
              "    <tr>\n",
              "      <th>4</th>\n",
              "      <td>5</td>\n",
              "      <td>1</td>\n",
              "      <td>9427.92</td>\n",
              "      <td>461562.00</td>\n",
              "      <td>0</td>\n",
              "    </tr>\n",
              "  </tbody>\n",
              "</table>\n",
              "</div>"
            ],
            "text/plain": [
              "   Index  Employed  Bank Balance  Annual Salary  Defaulted?\n",
              "0      1         1       8754.36      532339.56           0\n",
              "1      2         0       9806.16      145273.56           0\n",
              "2      3         1      12882.60      381205.68           0\n",
              "3      4         1       6351.00      428453.88           0\n",
              "4      5         1       9427.92      461562.00           0"
            ]
          },
          "execution_count": 68,
          "metadata": {},
          "output_type": "execute_result"
        }
      ],
      "source": [
        "df.head()"
      ]
    },
    {
      "cell_type": "code",
      "execution_count": 69,
      "metadata": {
        "id": "NopDawOCZyvv"
      },
      "outputs": [],
      "source": [
        "#drop column  index\n",
        "df.drop('Index', axis='columns', inplace=True)"
      ]
    },
    {
      "cell_type": "code",
      "execution_count": 70,
      "metadata": {
        "colab": {
          "base_uri": "https://localhost:8080/",
          "height": 206
        },
        "id": "UUdx_dz9Z-_w",
        "outputId": "5132eab1-cfcf-451b-af74-f689b79c8fb8"
      },
      "outputs": [
        {
          "data": {
            "text/html": [
              "<div>\n",
              "<style scoped>\n",
              "    .dataframe tbody tr th:only-of-type {\n",
              "        vertical-align: middle;\n",
              "    }\n",
              "\n",
              "    .dataframe tbody tr th {\n",
              "        vertical-align: top;\n",
              "    }\n",
              "\n",
              "    .dataframe thead th {\n",
              "        text-align: right;\n",
              "    }\n",
              "</style>\n",
              "<table border=\"1\" class=\"dataframe\">\n",
              "  <thead>\n",
              "    <tr style=\"text-align: right;\">\n",
              "      <th></th>\n",
              "      <th>Employed</th>\n",
              "      <th>Bank Balance</th>\n",
              "      <th>Annual Salary</th>\n",
              "      <th>Defaulted?</th>\n",
              "    </tr>\n",
              "  </thead>\n",
              "  <tbody>\n",
              "    <tr>\n",
              "      <th>0</th>\n",
              "      <td>1</td>\n",
              "      <td>8754.36</td>\n",
              "      <td>532339.56</td>\n",
              "      <td>0</td>\n",
              "    </tr>\n",
              "    <tr>\n",
              "      <th>1</th>\n",
              "      <td>0</td>\n",
              "      <td>9806.16</td>\n",
              "      <td>145273.56</td>\n",
              "      <td>0</td>\n",
              "    </tr>\n",
              "    <tr>\n",
              "      <th>2</th>\n",
              "      <td>1</td>\n",
              "      <td>12882.60</td>\n",
              "      <td>381205.68</td>\n",
              "      <td>0</td>\n",
              "    </tr>\n",
              "    <tr>\n",
              "      <th>3</th>\n",
              "      <td>1</td>\n",
              "      <td>6351.00</td>\n",
              "      <td>428453.88</td>\n",
              "      <td>0</td>\n",
              "    </tr>\n",
              "    <tr>\n",
              "      <th>4</th>\n",
              "      <td>1</td>\n",
              "      <td>9427.92</td>\n",
              "      <td>461562.00</td>\n",
              "      <td>0</td>\n",
              "    </tr>\n",
              "  </tbody>\n",
              "</table>\n",
              "</div>"
            ],
            "text/plain": [
              "   Employed  Bank Balance  Annual Salary  Defaulted?\n",
              "0         1       8754.36      532339.56           0\n",
              "1         0       9806.16      145273.56           0\n",
              "2         1      12882.60      381205.68           0\n",
              "3         1       6351.00      428453.88           0\n",
              "4         1       9427.92      461562.00           0"
            ]
          },
          "execution_count": 70,
          "metadata": {},
          "output_type": "execute_result"
        }
      ],
      "source": [
        "df.head()"
      ]
    },
    {
      "cell_type": "code",
      "execution_count": 71,
      "metadata": {
        "colab": {
          "base_uri": "https://localhost:8080/"
        },
        "id": "qonQOBcQGHEl",
        "outputId": "c02ad960-c27f-4322-ba57-5019a61413e1"
      },
      "outputs": [
        {
          "data": {
            "text/plain": [
              "(10000, 4)"
            ]
          },
          "execution_count": 71,
          "metadata": {},
          "output_type": "execute_result"
        }
      ],
      "source": [
        "df.shape"
      ]
    },
    {
      "cell_type": "code",
      "execution_count": 72,
      "metadata": {
        "colab": {
          "base_uri": "https://localhost:8080/"
        },
        "id": "NcS-ns5pF866",
        "outputId": "7664c514-ca68-4d26-8c53-cf3b9e7685d9"
      },
      "outputs": [
        {
          "data": {
            "text/plain": [
              "Employed           int64\n",
              "Bank Balance     float64\n",
              "Annual Salary    float64\n",
              "Defaulted?         int64\n",
              "dtype: object"
            ]
          },
          "execution_count": 72,
          "metadata": {},
          "output_type": "execute_result"
        }
      ],
      "source": [
        "df.dtypes"
      ]
    },
    {
      "cell_type": "code",
      "execution_count": 73,
      "metadata": {
        "colab": {
          "base_uri": "https://localhost:8080/",
          "height": 300
        },
        "id": "foQTRDgsF87C",
        "outputId": "36610283-4c8c-461e-cd4e-059deaa6ee13"
      },
      "outputs": [
        {
          "data": {
            "text/html": [
              "<div>\n",
              "<style scoped>\n",
              "    .dataframe tbody tr th:only-of-type {\n",
              "        vertical-align: middle;\n",
              "    }\n",
              "\n",
              "    .dataframe tbody tr th {\n",
              "        vertical-align: top;\n",
              "    }\n",
              "\n",
              "    .dataframe thead th {\n",
              "        text-align: right;\n",
              "    }\n",
              "</style>\n",
              "<table border=\"1\" class=\"dataframe\">\n",
              "  <thead>\n",
              "    <tr style=\"text-align: right;\">\n",
              "      <th></th>\n",
              "      <th>Employed</th>\n",
              "      <th>Bank Balance</th>\n",
              "      <th>Annual Salary</th>\n",
              "      <th>Defaulted?</th>\n",
              "    </tr>\n",
              "  </thead>\n",
              "  <tbody>\n",
              "    <tr>\n",
              "      <th>count</th>\n",
              "      <td>10000.000000</td>\n",
              "      <td>9702.000000</td>\n",
              "      <td>10000.000000</td>\n",
              "      <td>10000.000000</td>\n",
              "    </tr>\n",
              "    <tr>\n",
              "      <th>mean</th>\n",
              "      <td>0.705600</td>\n",
              "      <td>10330.852307</td>\n",
              "      <td>402203.782224</td>\n",
              "      <td>0.033300</td>\n",
              "    </tr>\n",
              "    <tr>\n",
              "      <th>std</th>\n",
              "      <td>0.455795</td>\n",
              "      <td>5617.393951</td>\n",
              "      <td>160039.674988</td>\n",
              "      <td>0.179428</td>\n",
              "    </tr>\n",
              "    <tr>\n",
              "      <th>min</th>\n",
              "      <td>0.000000</td>\n",
              "      <td>0.000000</td>\n",
              "      <td>9263.640000</td>\n",
              "      <td>0.000000</td>\n",
              "    </tr>\n",
              "    <tr>\n",
              "      <th>25%</th>\n",
              "      <td>0.000000</td>\n",
              "      <td>6208.080000</td>\n",
              "      <td>256085.520000</td>\n",
              "      <td>0.000000</td>\n",
              "    </tr>\n",
              "    <tr>\n",
              "      <th>50%</th>\n",
              "      <td>1.000000</td>\n",
              "      <td>10102.800000</td>\n",
              "      <td>414631.740000</td>\n",
              "      <td>0.000000</td>\n",
              "    </tr>\n",
              "    <tr>\n",
              "      <th>75%</th>\n",
              "      <td>1.000000</td>\n",
              "      <td>14126.520000</td>\n",
              "      <td>525692.760000</td>\n",
              "      <td>0.000000</td>\n",
              "    </tr>\n",
              "    <tr>\n",
              "      <th>max</th>\n",
              "      <td>1.000000</td>\n",
              "      <td>31851.840000</td>\n",
              "      <td>882650.760000</td>\n",
              "      <td>1.000000</td>\n",
              "    </tr>\n",
              "  </tbody>\n",
              "</table>\n",
              "</div>"
            ],
            "text/plain": [
              "           Employed  Bank Balance  Annual Salary    Defaulted?\n",
              "count  10000.000000   9702.000000   10000.000000  10000.000000\n",
              "mean       0.705600  10330.852307  402203.782224      0.033300\n",
              "std        0.455795   5617.393951  160039.674988      0.179428\n",
              "min        0.000000      0.000000    9263.640000      0.000000\n",
              "25%        0.000000   6208.080000  256085.520000      0.000000\n",
              "50%        1.000000  10102.800000  414631.740000      0.000000\n",
              "75%        1.000000  14126.520000  525692.760000      0.000000\n",
              "max        1.000000  31851.840000  882650.760000      1.000000"
            ]
          },
          "execution_count": 73,
          "metadata": {},
          "output_type": "execute_result"
        }
      ],
      "source": [
        "df.describe()"
      ]
    },
    {
      "cell_type": "markdown",
      "metadata": {
        "id": "8ynkbikN4UmR"
      },
      "source": [
        "## `6. Data Exploration`\n",
        "\n",
        "### `Handling Missing Values`\n"
      ]
    },
    {
      "cell_type": "code",
      "execution_count": 74,
      "metadata": {
        "colab": {
          "base_uri": "https://localhost:8080/"
        },
        "id": "bzOg3TgD4MMn",
        "outputId": "d0d28b9f-4000-4f9b-b134-71b8d507179c"
      },
      "outputs": [
        {
          "data": {
            "text/plain": [
              "298"
            ]
          },
          "execution_count": 74,
          "metadata": {},
          "output_type": "execute_result"
        }
      ],
      "source": [
        "#checking for missing data\n",
        "df.isnull().sum().sum()"
      ]
    },
    {
      "cell_type": "code",
      "execution_count": 75,
      "metadata": {
        "colab": {
          "base_uri": "https://localhost:8080/"
        },
        "id": "-LnlsCBv6Brr",
        "outputId": "63713898-1a72-438c-b75b-3b87276443ed"
      },
      "outputs": [
        {
          "data": {
            "text/plain": [
              "Employed           0\n",
              "Bank Balance     298\n",
              "Annual Salary      0\n",
              "Defaulted?         0\n",
              "dtype: int64"
            ]
          },
          "execution_count": 75,
          "metadata": {},
          "output_type": "execute_result"
        }
      ],
      "source": [
        "df.isnull().sum()"
      ]
    },
    {
      "cell_type": "code",
      "execution_count": 76,
      "metadata": {
        "colab": {
          "base_uri": "https://localhost:8080/",
          "height": 424
        },
        "id": "Yanc4I4X6Dfa",
        "outputId": "6b03dc77-f9ba-4400-b74f-dd97613651d9"
      },
      "outputs": [
        {
          "data": {
            "text/html": [
              "<div>\n",
              "<style scoped>\n",
              "    .dataframe tbody tr th:only-of-type {\n",
              "        vertical-align: middle;\n",
              "    }\n",
              "\n",
              "    .dataframe tbody tr th {\n",
              "        vertical-align: top;\n",
              "    }\n",
              "\n",
              "    .dataframe thead th {\n",
              "        text-align: right;\n",
              "    }\n",
              "</style>\n",
              "<table border=\"1\" class=\"dataframe\">\n",
              "  <thead>\n",
              "    <tr style=\"text-align: right;\">\n",
              "      <th></th>\n",
              "      <th>Employed</th>\n",
              "      <th>Bank Balance</th>\n",
              "      <th>Annual Salary</th>\n",
              "      <th>Defaulted?</th>\n",
              "    </tr>\n",
              "  </thead>\n",
              "  <tbody>\n",
              "    <tr>\n",
              "      <th>0</th>\n",
              "      <td>1</td>\n",
              "      <td>8754.36</td>\n",
              "      <td>532339.56</td>\n",
              "      <td>0</td>\n",
              "    </tr>\n",
              "    <tr>\n",
              "      <th>1</th>\n",
              "      <td>0</td>\n",
              "      <td>9806.16</td>\n",
              "      <td>145273.56</td>\n",
              "      <td>0</td>\n",
              "    </tr>\n",
              "    <tr>\n",
              "      <th>2</th>\n",
              "      <td>1</td>\n",
              "      <td>12882.60</td>\n",
              "      <td>381205.68</td>\n",
              "      <td>0</td>\n",
              "    </tr>\n",
              "    <tr>\n",
              "      <th>3</th>\n",
              "      <td>1</td>\n",
              "      <td>6351.00</td>\n",
              "      <td>428453.88</td>\n",
              "      <td>0</td>\n",
              "    </tr>\n",
              "    <tr>\n",
              "      <th>4</th>\n",
              "      <td>1</td>\n",
              "      <td>9427.92</td>\n",
              "      <td>461562.00</td>\n",
              "      <td>0</td>\n",
              "    </tr>\n",
              "    <tr>\n",
              "      <th>...</th>\n",
              "      <td>...</td>\n",
              "      <td>...</td>\n",
              "      <td>...</td>\n",
              "      <td>...</td>\n",
              "    </tr>\n",
              "    <tr>\n",
              "      <th>9995</th>\n",
              "      <td>1</td>\n",
              "      <td>8538.72</td>\n",
              "      <td>635908.56</td>\n",
              "      <td>0</td>\n",
              "    </tr>\n",
              "    <tr>\n",
              "      <th>9996</th>\n",
              "      <td>1</td>\n",
              "      <td>9095.52</td>\n",
              "      <td>235928.64</td>\n",
              "      <td>0</td>\n",
              "    </tr>\n",
              "    <tr>\n",
              "      <th>9997</th>\n",
              "      <td>1</td>\n",
              "      <td>10144.92</td>\n",
              "      <td>703633.92</td>\n",
              "      <td>0</td>\n",
              "    </tr>\n",
              "    <tr>\n",
              "      <th>9998</th>\n",
              "      <td>1</td>\n",
              "      <td>18828.12</td>\n",
              "      <td>440029.32</td>\n",
              "      <td>0</td>\n",
              "    </tr>\n",
              "    <tr>\n",
              "      <th>9999</th>\n",
              "      <td>0</td>\n",
              "      <td>2411.04</td>\n",
              "      <td>202355.40</td>\n",
              "      <td>0</td>\n",
              "    </tr>\n",
              "  </tbody>\n",
              "</table>\n",
              "<p>9702 rows × 4 columns</p>\n",
              "</div>"
            ],
            "text/plain": [
              "      Employed  Bank Balance  Annual Salary  Defaulted?\n",
              "0            1       8754.36      532339.56           0\n",
              "1            0       9806.16      145273.56           0\n",
              "2            1      12882.60      381205.68           0\n",
              "3            1       6351.00      428453.88           0\n",
              "4            1       9427.92      461562.00           0\n",
              "...        ...           ...            ...         ...\n",
              "9995         1       8538.72      635908.56           0\n",
              "9996         1       9095.52      235928.64           0\n",
              "9997         1      10144.92      703633.92           0\n",
              "9998         1      18828.12      440029.32           0\n",
              "9999         0       2411.04      202355.40           0\n",
              "\n",
              "[9702 rows x 4 columns]"
            ]
          },
          "execution_count": 76,
          "metadata": {},
          "output_type": "execute_result"
        }
      ],
      "source": [
        "#to drop nan values\n",
        "df.dropna()"
      ]
    },
    {
      "cell_type": "code",
      "execution_count": 77,
      "metadata": {
        "colab": {
          "base_uri": "https://localhost:8080/",
          "height": 424
        },
        "id": "f1PErNea6Fb5",
        "outputId": "2d29d009-8aea-431e-f9f5-a8b314dd1f86"
      },
      "outputs": [
        {
          "data": {
            "text/html": [
              "<div>\n",
              "<style scoped>\n",
              "    .dataframe tbody tr th:only-of-type {\n",
              "        vertical-align: middle;\n",
              "    }\n",
              "\n",
              "    .dataframe tbody tr th {\n",
              "        vertical-align: top;\n",
              "    }\n",
              "\n",
              "    .dataframe thead th {\n",
              "        text-align: right;\n",
              "    }\n",
              "</style>\n",
              "<table border=\"1\" class=\"dataframe\">\n",
              "  <thead>\n",
              "    <tr style=\"text-align: right;\">\n",
              "      <th></th>\n",
              "      <th>Employed</th>\n",
              "      <th>Bank Balance</th>\n",
              "      <th>Annual Salary</th>\n",
              "      <th>Defaulted?</th>\n",
              "    </tr>\n",
              "  </thead>\n",
              "  <tbody>\n",
              "    <tr>\n",
              "      <th>0</th>\n",
              "      <td>1</td>\n",
              "      <td>8754.36</td>\n",
              "      <td>532339.56</td>\n",
              "      <td>0</td>\n",
              "    </tr>\n",
              "    <tr>\n",
              "      <th>1</th>\n",
              "      <td>0</td>\n",
              "      <td>9806.16</td>\n",
              "      <td>145273.56</td>\n",
              "      <td>0</td>\n",
              "    </tr>\n",
              "    <tr>\n",
              "      <th>2</th>\n",
              "      <td>1</td>\n",
              "      <td>12882.60</td>\n",
              "      <td>381205.68</td>\n",
              "      <td>0</td>\n",
              "    </tr>\n",
              "    <tr>\n",
              "      <th>3</th>\n",
              "      <td>1</td>\n",
              "      <td>6351.00</td>\n",
              "      <td>428453.88</td>\n",
              "      <td>0</td>\n",
              "    </tr>\n",
              "    <tr>\n",
              "      <th>4</th>\n",
              "      <td>1</td>\n",
              "      <td>9427.92</td>\n",
              "      <td>461562.00</td>\n",
              "      <td>0</td>\n",
              "    </tr>\n",
              "    <tr>\n",
              "      <th>...</th>\n",
              "      <td>...</td>\n",
              "      <td>...</td>\n",
              "      <td>...</td>\n",
              "      <td>...</td>\n",
              "    </tr>\n",
              "    <tr>\n",
              "      <th>9995</th>\n",
              "      <td>1</td>\n",
              "      <td>8538.72</td>\n",
              "      <td>635908.56</td>\n",
              "      <td>0</td>\n",
              "    </tr>\n",
              "    <tr>\n",
              "      <th>9996</th>\n",
              "      <td>1</td>\n",
              "      <td>9095.52</td>\n",
              "      <td>235928.64</td>\n",
              "      <td>0</td>\n",
              "    </tr>\n",
              "    <tr>\n",
              "      <th>9997</th>\n",
              "      <td>1</td>\n",
              "      <td>10144.92</td>\n",
              "      <td>703633.92</td>\n",
              "      <td>0</td>\n",
              "    </tr>\n",
              "    <tr>\n",
              "      <th>9998</th>\n",
              "      <td>1</td>\n",
              "      <td>18828.12</td>\n",
              "      <td>440029.32</td>\n",
              "      <td>0</td>\n",
              "    </tr>\n",
              "    <tr>\n",
              "      <th>9999</th>\n",
              "      <td>0</td>\n",
              "      <td>2411.04</td>\n",
              "      <td>202355.40</td>\n",
              "      <td>0</td>\n",
              "    </tr>\n",
              "  </tbody>\n",
              "</table>\n",
              "<p>10000 rows × 4 columns</p>\n",
              "</div>"
            ],
            "text/plain": [
              "      Employed  Bank Balance  Annual Salary  Defaulted?\n",
              "0            1       8754.36      532339.56           0\n",
              "1            0       9806.16      145273.56           0\n",
              "2            1      12882.60      381205.68           0\n",
              "3            1       6351.00      428453.88           0\n",
              "4            1       9427.92      461562.00           0\n",
              "...        ...           ...            ...         ...\n",
              "9995         1       8538.72      635908.56           0\n",
              "9996         1       9095.52      235928.64           0\n",
              "9997         1      10144.92      703633.92           0\n",
              "9998         1      18828.12      440029.32           0\n",
              "9999         0       2411.04      202355.40           0\n",
              "\n",
              "[10000 rows x 4 columns]"
            ]
          },
          "execution_count": 77,
          "metadata": {},
          "output_type": "execute_result"
        }
      ],
      "source": [
        "#fill nan values with forward fill\n",
        "df.fillna(method='ffill')"
      ]
    },
    {
      "cell_type": "code",
      "execution_count": 78,
      "metadata": {
        "colab": {
          "base_uri": "https://localhost:8080/",
          "height": 424
        },
        "id": "3UGTXQ1X6HNe",
        "outputId": "eb153aff-9fe8-4d2c-fede-fd553a3a7ba6"
      },
      "outputs": [
        {
          "data": {
            "text/html": [
              "<div>\n",
              "<style scoped>\n",
              "    .dataframe tbody tr th:only-of-type {\n",
              "        vertical-align: middle;\n",
              "    }\n",
              "\n",
              "    .dataframe tbody tr th {\n",
              "        vertical-align: top;\n",
              "    }\n",
              "\n",
              "    .dataframe thead th {\n",
              "        text-align: right;\n",
              "    }\n",
              "</style>\n",
              "<table border=\"1\" class=\"dataframe\">\n",
              "  <thead>\n",
              "    <tr style=\"text-align: right;\">\n",
              "      <th></th>\n",
              "      <th>Employed</th>\n",
              "      <th>Bank Balance</th>\n",
              "      <th>Annual Salary</th>\n",
              "      <th>Defaulted?</th>\n",
              "    </tr>\n",
              "  </thead>\n",
              "  <tbody>\n",
              "    <tr>\n",
              "      <th>0</th>\n",
              "      <td>1</td>\n",
              "      <td>8754.36</td>\n",
              "      <td>532339.56</td>\n",
              "      <td>0</td>\n",
              "    </tr>\n",
              "    <tr>\n",
              "      <th>1</th>\n",
              "      <td>0</td>\n",
              "      <td>9806.16</td>\n",
              "      <td>145273.56</td>\n",
              "      <td>0</td>\n",
              "    </tr>\n",
              "    <tr>\n",
              "      <th>2</th>\n",
              "      <td>1</td>\n",
              "      <td>12882.60</td>\n",
              "      <td>381205.68</td>\n",
              "      <td>0</td>\n",
              "    </tr>\n",
              "    <tr>\n",
              "      <th>3</th>\n",
              "      <td>1</td>\n",
              "      <td>6351.00</td>\n",
              "      <td>428453.88</td>\n",
              "      <td>0</td>\n",
              "    </tr>\n",
              "    <tr>\n",
              "      <th>4</th>\n",
              "      <td>1</td>\n",
              "      <td>9427.92</td>\n",
              "      <td>461562.00</td>\n",
              "      <td>0</td>\n",
              "    </tr>\n",
              "    <tr>\n",
              "      <th>...</th>\n",
              "      <td>...</td>\n",
              "      <td>...</td>\n",
              "      <td>...</td>\n",
              "      <td>...</td>\n",
              "    </tr>\n",
              "    <tr>\n",
              "      <th>9995</th>\n",
              "      <td>1</td>\n",
              "      <td>8538.72</td>\n",
              "      <td>635908.56</td>\n",
              "      <td>0</td>\n",
              "    </tr>\n",
              "    <tr>\n",
              "      <th>9996</th>\n",
              "      <td>1</td>\n",
              "      <td>9095.52</td>\n",
              "      <td>235928.64</td>\n",
              "      <td>0</td>\n",
              "    </tr>\n",
              "    <tr>\n",
              "      <th>9997</th>\n",
              "      <td>1</td>\n",
              "      <td>10144.92</td>\n",
              "      <td>703633.92</td>\n",
              "      <td>0</td>\n",
              "    </tr>\n",
              "    <tr>\n",
              "      <th>9998</th>\n",
              "      <td>1</td>\n",
              "      <td>18828.12</td>\n",
              "      <td>440029.32</td>\n",
              "      <td>0</td>\n",
              "    </tr>\n",
              "    <tr>\n",
              "      <th>9999</th>\n",
              "      <td>0</td>\n",
              "      <td>2411.04</td>\n",
              "      <td>202355.40</td>\n",
              "      <td>0</td>\n",
              "    </tr>\n",
              "  </tbody>\n",
              "</table>\n",
              "<p>10000 rows × 4 columns</p>\n",
              "</div>"
            ],
            "text/plain": [
              "      Employed  Bank Balance  Annual Salary  Defaulted?\n",
              "0            1       8754.36      532339.56           0\n",
              "1            0       9806.16      145273.56           0\n",
              "2            1      12882.60      381205.68           0\n",
              "3            1       6351.00      428453.88           0\n",
              "4            1       9427.92      461562.00           0\n",
              "...        ...           ...            ...         ...\n",
              "9995         1       8538.72      635908.56           0\n",
              "9996         1       9095.52      235928.64           0\n",
              "9997         1      10144.92      703633.92           0\n",
              "9998         1      18828.12      440029.32           0\n",
              "9999         0       2411.04      202355.40           0\n",
              "\n",
              "[10000 rows x 4 columns]"
            ]
          },
          "execution_count": 78,
          "metadata": {},
          "output_type": "execute_result"
        }
      ],
      "source": [
        "#fill nan values with backward fill\n",
        "df.fillna(method='bfill')"
      ]
    },
    {
      "cell_type": "code",
      "execution_count": 79,
      "metadata": {
        "colab": {
          "base_uri": "https://localhost:8080/",
          "height": 424
        },
        "id": "7az0kDJd0KN2",
        "outputId": "e268d490-9bd2-4315-8aa0-4d185907bf24"
      },
      "outputs": [
        {
          "data": {
            "text/html": [
              "<div>\n",
              "<style scoped>\n",
              "    .dataframe tbody tr th:only-of-type {\n",
              "        vertical-align: middle;\n",
              "    }\n",
              "\n",
              "    .dataframe tbody tr th {\n",
              "        vertical-align: top;\n",
              "    }\n",
              "\n",
              "    .dataframe thead th {\n",
              "        text-align: right;\n",
              "    }\n",
              "</style>\n",
              "<table border=\"1\" class=\"dataframe\">\n",
              "  <thead>\n",
              "    <tr style=\"text-align: right;\">\n",
              "      <th></th>\n",
              "      <th>Employed</th>\n",
              "      <th>Bank Balance</th>\n",
              "      <th>Annual Salary</th>\n",
              "      <th>Defaulted?</th>\n",
              "    </tr>\n",
              "  </thead>\n",
              "  <tbody>\n",
              "    <tr>\n",
              "      <th>0</th>\n",
              "      <td>1</td>\n",
              "      <td>8754.36</td>\n",
              "      <td>532339.56</td>\n",
              "      <td>0</td>\n",
              "    </tr>\n",
              "    <tr>\n",
              "      <th>1</th>\n",
              "      <td>0</td>\n",
              "      <td>9806.16</td>\n",
              "      <td>145273.56</td>\n",
              "      <td>0</td>\n",
              "    </tr>\n",
              "    <tr>\n",
              "      <th>2</th>\n",
              "      <td>1</td>\n",
              "      <td>12882.60</td>\n",
              "      <td>381205.68</td>\n",
              "      <td>0</td>\n",
              "    </tr>\n",
              "    <tr>\n",
              "      <th>3</th>\n",
              "      <td>1</td>\n",
              "      <td>6351.00</td>\n",
              "      <td>428453.88</td>\n",
              "      <td>0</td>\n",
              "    </tr>\n",
              "    <tr>\n",
              "      <th>4</th>\n",
              "      <td>1</td>\n",
              "      <td>9427.92</td>\n",
              "      <td>461562.00</td>\n",
              "      <td>0</td>\n",
              "    </tr>\n",
              "    <tr>\n",
              "      <th>...</th>\n",
              "      <td>...</td>\n",
              "      <td>...</td>\n",
              "      <td>...</td>\n",
              "      <td>...</td>\n",
              "    </tr>\n",
              "    <tr>\n",
              "      <th>9995</th>\n",
              "      <td>1</td>\n",
              "      <td>8538.72</td>\n",
              "      <td>635908.56</td>\n",
              "      <td>0</td>\n",
              "    </tr>\n",
              "    <tr>\n",
              "      <th>9996</th>\n",
              "      <td>1</td>\n",
              "      <td>9095.52</td>\n",
              "      <td>235928.64</td>\n",
              "      <td>0</td>\n",
              "    </tr>\n",
              "    <tr>\n",
              "      <th>9997</th>\n",
              "      <td>1</td>\n",
              "      <td>10144.92</td>\n",
              "      <td>703633.92</td>\n",
              "      <td>0</td>\n",
              "    </tr>\n",
              "    <tr>\n",
              "      <th>9998</th>\n",
              "      <td>1</td>\n",
              "      <td>18828.12</td>\n",
              "      <td>440029.32</td>\n",
              "      <td>0</td>\n",
              "    </tr>\n",
              "    <tr>\n",
              "      <th>9999</th>\n",
              "      <td>0</td>\n",
              "      <td>2411.04</td>\n",
              "      <td>202355.40</td>\n",
              "      <td>0</td>\n",
              "    </tr>\n",
              "  </tbody>\n",
              "</table>\n",
              "<p>10000 rows × 4 columns</p>\n",
              "</div>"
            ],
            "text/plain": [
              "      Employed  Bank Balance  Annual Salary  Defaulted?\n",
              "0            1       8754.36      532339.56           0\n",
              "1            0       9806.16      145273.56           0\n",
              "2            1      12882.60      381205.68           0\n",
              "3            1       6351.00      428453.88           0\n",
              "4            1       9427.92      461562.00           0\n",
              "...        ...           ...            ...         ...\n",
              "9995         1       8538.72      635908.56           0\n",
              "9996         1       9095.52      235928.64           0\n",
              "9997         1      10144.92      703633.92           0\n",
              "9998         1      18828.12      440029.32           0\n",
              "9999         0       2411.04      202355.40           0\n",
              "\n",
              "[10000 rows x 4 columns]"
            ]
          },
          "execution_count": 79,
          "metadata": {},
          "output_type": "execute_result"
        }
      ],
      "source": [
        "#Use the ‘mean’ from each column\n",
        "df.fillna(df.mean(axis=0))"
      ]
    },
    {
      "cell_type": "code",
      "execution_count": null,
      "metadata": {},
      "outputs": [],
      "source": [
        "students.head()"
      ]
    },
    {
      "cell_type": "markdown",
      "metadata": {},
      "source": [
        "# Using isnull().sum() to get the summary of all null values\n",
        "students.isnull().sum()"
      ]
    },
    {
      "cell_type": "code",
      "execution_count": null,
      "metadata": {},
      "outputs": [],
      "source": [
        "# Using fillna() to fill all null values\n",
        "students.fillna(value= 0) #fill with zeros(0)"
      ]
    },
    {
      "cell_type": "code",
      "execution_count": null,
      "metadata": {},
      "outputs": [],
      "source": [
        "# Use forward fill(ffill) to fill the null values\n",
        "students.fillna(method= 'ffill')"
      ]
    },
    {
      "cell_type": "code",
      "execution_count": null,
      "metadata": {},
      "outputs": [],
      "source": [
        "# To drop missing Data\n",
        "students.dropna()"
      ]
    },
    {
      "cell_type": "code",
      "execution_count": null,
      "metadata": {},
      "outputs": [],
      "source": [
        "#using groupby to get the total amount paid per gender\n",
        "students.groupby(['Gender'])['amount_paid'].sum()"
      ]
    },
    {
      "cell_type": "markdown",
      "metadata": {
        "id": "dQ_Ar64Axd9G"
      },
      "source": [
        "## `7. Indexing`"
      ]
    },
    {
      "cell_type": "code",
      "execution_count": 80,
      "metadata": {
        "colab": {
          "base_uri": "https://localhost:8080/"
        },
        "id": "e3yTLEm6F87W",
        "outputId": "bdf16674-5af7-4456-b180-1ba45783c37d"
      },
      "outputs": [
        {
          "data": {
            "text/plain": [
              "0    1\n",
              "1    0\n",
              "2    1\n",
              "3    1\n",
              "4    1\n",
              "Name: Employed, dtype: int64"
            ]
          },
          "execution_count": 80,
          "metadata": {},
          "output_type": "execute_result"
        }
      ],
      "source": [
        "df['Employed'].head()"
      ]
    },
    {
      "cell_type": "code",
      "execution_count": 81,
      "metadata": {
        "colab": {
          "base_uri": "https://localhost:8080/",
          "height": 112
        },
        "id": "IE-bED8PF87f",
        "outputId": "be4c1336-f13e-409d-c831-8e8bd7d3bc7c"
      },
      "outputs": [
        {
          "data": {
            "text/html": [
              "<div>\n",
              "<style scoped>\n",
              "    .dataframe tbody tr th:only-of-type {\n",
              "        vertical-align: middle;\n",
              "    }\n",
              "\n",
              "    .dataframe tbody tr th {\n",
              "        vertical-align: top;\n",
              "    }\n",
              "\n",
              "    .dataframe thead th {\n",
              "        text-align: right;\n",
              "    }\n",
              "</style>\n",
              "<table border=\"1\" class=\"dataframe\">\n",
              "  <thead>\n",
              "    <tr style=\"text-align: right;\">\n",
              "      <th></th>\n",
              "      <th>Employed</th>\n",
              "      <th>Bank Balance</th>\n",
              "      <th>Annual Salary</th>\n",
              "      <th>Defaulted?</th>\n",
              "    </tr>\n",
              "  </thead>\n",
              "  <tbody>\n",
              "    <tr>\n",
              "      <th>1</th>\n",
              "      <td>0</td>\n",
              "      <td>9806.16</td>\n",
              "      <td>145273.56</td>\n",
              "      <td>0</td>\n",
              "    </tr>\n",
              "    <tr>\n",
              "      <th>2</th>\n",
              "      <td>1</td>\n",
              "      <td>12882.60</td>\n",
              "      <td>381205.68</td>\n",
              "      <td>0</td>\n",
              "    </tr>\n",
              "  </tbody>\n",
              "</table>\n",
              "</div>"
            ],
            "text/plain": [
              "   Employed  Bank Balance  Annual Salary  Defaulted?\n",
              "1         0       9806.16      145273.56           0\n",
              "2         1      12882.60      381205.68           0"
            ]
          },
          "execution_count": 81,
          "metadata": {},
          "output_type": "execute_result"
        }
      ],
      "source": [
        "# Get rows 1 through 3 and columns 0 through 5.\n",
        "df.iloc[1:3,:5]"
      ]
    },
    {
      "cell_type": "code",
      "execution_count": 82,
      "metadata": {
        "colab": {
          "base_uri": "https://localhost:8080/",
          "height": 144
        },
        "id": "TML9OVklF87j",
        "outputId": "7ee7a5f0-2375-49bc-c9bd-04ce214a29f2"
      },
      "outputs": [
        {
          "data": {
            "text/html": [
              "<div>\n",
              "<style scoped>\n",
              "    .dataframe tbody tr th:only-of-type {\n",
              "        vertical-align: middle;\n",
              "    }\n",
              "\n",
              "    .dataframe tbody tr th {\n",
              "        vertical-align: top;\n",
              "    }\n",
              "\n",
              "    .dataframe thead th {\n",
              "        text-align: right;\n",
              "    }\n",
              "</style>\n",
              "<table border=\"1\" class=\"dataframe\">\n",
              "  <thead>\n",
              "    <tr style=\"text-align: right;\">\n",
              "      <th></th>\n",
              "      <th>Bank Balance</th>\n",
              "      <th>Employed</th>\n",
              "    </tr>\n",
              "  </thead>\n",
              "  <tbody>\n",
              "    <tr>\n",
              "      <th>2</th>\n",
              "      <td>12882.60</td>\n",
              "      <td>1</td>\n",
              "    </tr>\n",
              "    <tr>\n",
              "      <th>3</th>\n",
              "      <td>6351.00</td>\n",
              "      <td>1</td>\n",
              "    </tr>\n",
              "    <tr>\n",
              "      <th>4</th>\n",
              "      <td>9427.92</td>\n",
              "      <td>1</td>\n",
              "    </tr>\n",
              "  </tbody>\n",
              "</table>\n",
              "</div>"
            ],
            "text/plain": [
              "   Bank Balance  Employed\n",
              "2      12882.60         1\n",
              "3       6351.00         1\n",
              "4       9427.92         1"
            ]
          },
          "execution_count": 82,
          "metadata": {},
          "output_type": "execute_result"
        }
      ],
      "source": [
        "# Get rows with index values of 2-4 and the columns basket_amount and activity\n",
        "df.loc[2:4, [\"Bank Balance\", \"Employed\"]]"
      ]
    },
    {
      "cell_type": "markdown",
      "metadata": {},
      "source": [
        "## `8. Aggregation and Transformation`"
      ]
    },
    {
      "cell_type": "code",
      "execution_count": 83,
      "metadata": {
        "colab": {
          "base_uri": "https://localhost:8080/"
        },
        "id": "2CvWopdf166r",
        "outputId": "c53486a1-675c-45e9-dcbb-4f8b167c0e69"
      },
      "outputs": [
        {
          "data": {
            "text/plain": [
              "Employed\n",
              "0    34882586.16\n",
              "1    65347342.92\n",
              "Name: Bank Balance, dtype: float64"
            ]
          },
          "execution_count": 83,
          "metadata": {},
          "output_type": "execute_result"
        }
      ],
      "source": [
        "#using groupby to get the Bank balance of the Employed and Unemployed\n",
        "df.groupby(['Employed'])['Bank Balance'].sum()"
      ]
    },
    {
      "cell_type": "code",
      "execution_count": 84,
      "metadata": {
        "colab": {
          "base_uri": "https://localhost:8080/"
        },
        "id": "hT3NgLhK5Bvc",
        "outputId": "d1ce2a30-0033-4762-ac7f-47810c01a57f"
      },
      "outputs": [
        {
          "data": {
            "text/plain": [
              "Defaulted?\n",
              "0    93245634.24\n",
              "1     6984294.84\n",
              "Name: Bank Balance, dtype: float64"
            ]
          },
          "execution_count": 84,
          "metadata": {},
          "output_type": "execute_result"
        }
      ],
      "source": [
        "#using groupby to get the Bank balance of the Defaulters and Non-defaulters\n",
        "df.groupby(['Defaulted?'])['Bank Balance'].sum()"
      ]
    },
    {
      "cell_type": "code",
      "execution_count": 85,
      "metadata": {
        "colab": {
          "base_uri": "https://localhost:8080/",
          "height": 144
        },
        "id": "dBnFkihR6QCc",
        "outputId": "9fcebd58-db93-4f16-c1c8-e78a44b81572"
      },
      "outputs": [
        {
          "data": {
            "text/html": [
              "<div>\n",
              "<style scoped>\n",
              "    .dataframe tbody tr th:only-of-type {\n",
              "        vertical-align: middle;\n",
              "    }\n",
              "\n",
              "    .dataframe tbody tr th {\n",
              "        vertical-align: top;\n",
              "    }\n",
              "\n",
              "    .dataframe thead th {\n",
              "        text-align: right;\n",
              "    }\n",
              "</style>\n",
              "<table border=\"1\" class=\"dataframe\">\n",
              "  <thead>\n",
              "    <tr style=\"text-align: right;\">\n",
              "      <th></th>\n",
              "      <th>Employed</th>\n",
              "      <th>Bank Balance</th>\n",
              "      <th>Annual Salary</th>\n",
              "      <th>Defaulted?</th>\n",
              "    </tr>\n",
              "  </thead>\n",
              "  <tbody>\n",
              "    <tr>\n",
              "      <th>sum</th>\n",
              "      <td>7056</td>\n",
              "      <td>1.002299e+08</td>\n",
              "      <td>4.022038e+09</td>\n",
              "      <td>333</td>\n",
              "    </tr>\n",
              "    <tr>\n",
              "      <th>min</th>\n",
              "      <td>0</td>\n",
              "      <td>0.000000e+00</td>\n",
              "      <td>9.263640e+03</td>\n",
              "      <td>0</td>\n",
              "    </tr>\n",
              "    <tr>\n",
              "      <th>max</th>\n",
              "      <td>1</td>\n",
              "      <td>3.185184e+04</td>\n",
              "      <td>8.826508e+05</td>\n",
              "      <td>1</td>\n",
              "    </tr>\n",
              "  </tbody>\n",
              "</table>\n",
              "</div>"
            ],
            "text/plain": [
              "     Employed  Bank Balance  Annual Salary  Defaulted?\n",
              "sum      7056  1.002299e+08   4.022038e+09         333\n",
              "min         0  0.000000e+00   9.263640e+03           0\n",
              "max         1  3.185184e+04   8.826508e+05           1"
            ]
          },
          "execution_count": 85,
          "metadata": {},
          "output_type": "execute_result"
        }
      ],
      "source": [
        "#Aggregate our data using one or more operations over a specified axis\n",
        "df.agg(['sum', 'min', 'max'])"
      ]
    },
    {
      "cell_type": "code",
      "execution_count": 86,
      "metadata": {
        "colab": {
          "base_uri": "https://localhost:8080/",
          "height": 455
        },
        "id": "j5Sc4W4Y_BFj",
        "outputId": "226b0fb4-6cb6-4d9a-9500-65218f50cbd0"
      },
      "outputs": [
        {
          "data": {
            "text/html": [
              "<div>\n",
              "<style scoped>\n",
              "    .dataframe tbody tr th:only-of-type {\n",
              "        vertical-align: middle;\n",
              "    }\n",
              "\n",
              "    .dataframe tbody tr th {\n",
              "        vertical-align: top;\n",
              "    }\n",
              "\n",
              "    .dataframe thead tr th {\n",
              "        text-align: left;\n",
              "    }\n",
              "</style>\n",
              "<table border=\"1\" class=\"dataframe\">\n",
              "  <thead>\n",
              "    <tr>\n",
              "      <th></th>\n",
              "      <th colspan=\"2\" halign=\"left\">Employed</th>\n",
              "      <th colspan=\"2\" halign=\"left\">Bank Balance</th>\n",
              "      <th colspan=\"2\" halign=\"left\">Annual Salary</th>\n",
              "      <th colspan=\"2\" halign=\"left\">Defaulted?</th>\n",
              "    </tr>\n",
              "    <tr>\n",
              "      <th></th>\n",
              "      <th>sqrt</th>\n",
              "      <th>exp</th>\n",
              "      <th>sqrt</th>\n",
              "      <th>exp</th>\n",
              "      <th>sqrt</th>\n",
              "      <th>exp</th>\n",
              "      <th>sqrt</th>\n",
              "      <th>exp</th>\n",
              "    </tr>\n",
              "  </thead>\n",
              "  <tbody>\n",
              "    <tr>\n",
              "      <th>0</th>\n",
              "      <td>1.0</td>\n",
              "      <td>2.718282</td>\n",
              "      <td>93.564737</td>\n",
              "      <td>inf</td>\n",
              "      <td>729.616036</td>\n",
              "      <td>inf</td>\n",
              "      <td>0.0</td>\n",
              "      <td>1.0</td>\n",
              "    </tr>\n",
              "    <tr>\n",
              "      <th>1</th>\n",
              "      <td>0.0</td>\n",
              "      <td>1.000000</td>\n",
              "      <td>99.026057</td>\n",
              "      <td>inf</td>\n",
              "      <td>381.147688</td>\n",
              "      <td>inf</td>\n",
              "      <td>0.0</td>\n",
              "      <td>1.0</td>\n",
              "    </tr>\n",
              "    <tr>\n",
              "      <th>2</th>\n",
              "      <td>1.0</td>\n",
              "      <td>2.718282</td>\n",
              "      <td>113.501542</td>\n",
              "      <td>inf</td>\n",
              "      <td>617.418561</td>\n",
              "      <td>inf</td>\n",
              "      <td>0.0</td>\n",
              "      <td>1.0</td>\n",
              "    </tr>\n",
              "    <tr>\n",
              "      <th>3</th>\n",
              "      <td>1.0</td>\n",
              "      <td>2.718282</td>\n",
              "      <td>79.693162</td>\n",
              "      <td>inf</td>\n",
              "      <td>654.563885</td>\n",
              "      <td>inf</td>\n",
              "      <td>0.0</td>\n",
              "      <td>1.0</td>\n",
              "    </tr>\n",
              "    <tr>\n",
              "      <th>4</th>\n",
              "      <td>1.0</td>\n",
              "      <td>2.718282</td>\n",
              "      <td>97.097477</td>\n",
              "      <td>inf</td>\n",
              "      <td>679.383544</td>\n",
              "      <td>inf</td>\n",
              "      <td>0.0</td>\n",
              "      <td>1.0</td>\n",
              "    </tr>\n",
              "    <tr>\n",
              "      <th>...</th>\n",
              "      <td>...</td>\n",
              "      <td>...</td>\n",
              "      <td>...</td>\n",
              "      <td>...</td>\n",
              "      <td>...</td>\n",
              "      <td>...</td>\n",
              "      <td>...</td>\n",
              "      <td>...</td>\n",
              "    </tr>\n",
              "    <tr>\n",
              "      <th>9995</th>\n",
              "      <td>1.0</td>\n",
              "      <td>2.718282</td>\n",
              "      <td>92.405195</td>\n",
              "      <td>inf</td>\n",
              "      <td>797.438750</td>\n",
              "      <td>inf</td>\n",
              "      <td>0.0</td>\n",
              "      <td>1.0</td>\n",
              "    </tr>\n",
              "    <tr>\n",
              "      <th>9996</th>\n",
              "      <td>1.0</td>\n",
              "      <td>2.718282</td>\n",
              "      <td>95.370436</td>\n",
              "      <td>inf</td>\n",
              "      <td>485.724860</td>\n",
              "      <td>inf</td>\n",
              "      <td>0.0</td>\n",
              "      <td>1.0</td>\n",
              "    </tr>\n",
              "    <tr>\n",
              "      <th>9997</th>\n",
              "      <td>1.0</td>\n",
              "      <td>2.718282</td>\n",
              "      <td>100.721994</td>\n",
              "      <td>inf</td>\n",
              "      <td>838.828898</td>\n",
              "      <td>inf</td>\n",
              "      <td>0.0</td>\n",
              "      <td>1.0</td>\n",
              "    </tr>\n",
              "    <tr>\n",
              "      <th>9998</th>\n",
              "      <td>1.0</td>\n",
              "      <td>2.718282</td>\n",
              "      <td>137.215597</td>\n",
              "      <td>inf</td>\n",
              "      <td>663.347058</td>\n",
              "      <td>inf</td>\n",
              "      <td>0.0</td>\n",
              "      <td>1.0</td>\n",
              "    </tr>\n",
              "    <tr>\n",
              "      <th>9999</th>\n",
              "      <td>0.0</td>\n",
              "      <td>1.000000</td>\n",
              "      <td>49.102342</td>\n",
              "      <td>inf</td>\n",
              "      <td>449.839305</td>\n",
              "      <td>inf</td>\n",
              "      <td>0.0</td>\n",
              "      <td>1.0</td>\n",
              "    </tr>\n",
              "  </tbody>\n",
              "</table>\n",
              "<p>10000 rows × 8 columns</p>\n",
              "</div>"
            ],
            "text/plain": [
              "     Employed           Bank Balance      Annual Salary      Defaulted?     \n",
              "         sqrt       exp         sqrt  exp          sqrt  exp       sqrt  exp\n",
              "0         1.0  2.718282    93.564737  inf    729.616036  inf        0.0  1.0\n",
              "1         0.0  1.000000    99.026057  inf    381.147688  inf        0.0  1.0\n",
              "2         1.0  2.718282   113.501542  inf    617.418561  inf        0.0  1.0\n",
              "3         1.0  2.718282    79.693162  inf    654.563885  inf        0.0  1.0\n",
              "4         1.0  2.718282    97.097477  inf    679.383544  inf        0.0  1.0\n",
              "...       ...       ...          ...  ...           ...  ...        ...  ...\n",
              "9995      1.0  2.718282    92.405195  inf    797.438750  inf        0.0  1.0\n",
              "9996      1.0  2.718282    95.370436  inf    485.724860  inf        0.0  1.0\n",
              "9997      1.0  2.718282   100.721994  inf    838.828898  inf        0.0  1.0\n",
              "9998      1.0  2.718282   137.215597  inf    663.347058  inf        0.0  1.0\n",
              "9999      0.0  1.000000    49.102342  inf    449.839305  inf        0.0  1.0\n",
              "\n",
              "[10000 rows x 8 columns]"
            ]
          },
          "execution_count": 86,
          "metadata": {},
          "output_type": "execute_result"
        }
      ],
      "source": [
        "#Using some python functions to transform our data\n",
        "df.transform([np.sqrt, np.exp])"
      ]
    },
    {
      "cell_type": "code",
      "execution_count": 87,
      "metadata": {
        "colab": {
          "base_uri": "https://localhost:8080/"
        },
        "id": "_DPhM9_g9w5Y",
        "outputId": "7d210056-6594-4f9f-9d5b-b9b2c6dfba0d"
      },
      "outputs": [
        {
          "data": {
            "text/plain": [
              "Employed         7.056000e+03\n",
              "Bank Balance     1.002299e+08\n",
              "Annual Salary    4.022038e+09\n",
              "Defaulted?       3.330000e+02\n",
              "dtype: float64"
            ]
          },
          "execution_count": 87,
          "metadata": {},
          "output_type": "execute_result"
        }
      ],
      "source": [
        "#Apply a function along an axis of the DataFrame\n",
        "df.apply(np.sum, axis=0)"
      ]
    },
    {
      "cell_type": "code",
      "execution_count": 88,
      "metadata": {
        "colab": {
          "base_uri": "https://localhost:8080/"
        },
        "id": "TYYadb2H97ko",
        "outputId": "0e2386e4-6054-459a-86d6-a3a8de186785"
      },
      "outputs": [
        {
          "data": {
            "text/plain": [
              "0       541094.92\n",
              "1       155079.72\n",
              "2       394089.28\n",
              "3       434805.88\n",
              "4       470990.92\n",
              "          ...    \n",
              "9995    644448.28\n",
              "9996    245025.16\n",
              "9997    713779.84\n",
              "9998    458858.44\n",
              "9999    204766.44\n",
              "Length: 10000, dtype: float64"
            ]
          },
          "execution_count": 88,
          "metadata": {},
          "output_type": "execute_result"
        }
      ],
      "source": [
        "#Applying a function along an axis of the DataFrame using 'apply'\n",
        "df.apply(np.sum, axis=1)"
      ]
    },
    {
      "cell_type": "markdown",
      "metadata": {
        "id": "cZ9CibIV5BzA"
      },
      "source": [
        "## `8. Visualisation`\n",
        "\n",
        "### `Bar Plot`\n",
        "Barplot is a plot that represent categorical data with rectangular bar with lengths proportional to the values that the represents"
      ]
    },
    {
      "cell_type": "code",
      "execution_count": 96,
      "metadata": {
        "colab": {
          "base_uri": "https://localhost:8080/",
          "height": 305
        },
        "id": "tUgGtd0P5DZW",
        "outputId": "ffb3a11f-653f-42ba-acab-96359e867e5f"
      },
      "outputs": [
        {
          "data": {
            "image/png": "[encoded data removed]",
            "text/plain": [
              "<Figure size 432x288 with 1 Axes>"
            ]
          },
          "metadata": {
            "needs_background": "light"
          },
          "output_type": "display_data"
        }
      ],
      "source": [
        "#Using barplot to represent the total amount paid per gender\n",
        "students.groupby(['Gender'])['amount_paid'].sum().plot.bar();"
      ]
    },
    {
      "cell_type": "markdown",
      "metadata": {
        "id": "BGjD7vqE5YV-"
      },
      "source": [
        "### `Histogram`\n",
        "A Histogram is a representation of the distribution of data. \n",
        "\n",
        "#### `Difference between bar charts and histograms`\n",
        "Bar charts are used to visualise categorical variable while histograms are used to vidualise the frequency of numerical data. Here's a great article about this: "
      ]
    },
    {
      "cell_type": "code",
      "execution_count": 97,
      "metadata": {
        "colab": {
          "base_uri": "https://localhost:8080/",
          "height": 265
        },
        "id": "D_x2CUQe5HMe",
        "outputId": "67096ca8-fc92-43a9-cbd7-c21525b1557a"
      },
      "outputs": [
        {
          "data": {
            "image/png": "[encoded data removed]",
            "text/plain": [
              "<Figure size 432x288 with 1 Axes>"
            ]
          },
          "metadata": {
            "needs_background": "light"
          },
          "output_type": "display_data"
        }
      ],
      "source": [
        "# Histogram plot\n",
        "students['amount_paid'].plot.hist();"
      ]
    },
    {
      "cell_type": "markdown",
      "metadata": {
        "id": "lW79fTdm56gz"
      },
      "source": [
        "### `Line plot`\n",
        "This function is useful to plot lines using DataFrame's values as coordinates"
      ]
    },
    {
      "cell_type": "code",
      "execution_count": 98,
      "metadata": {
        "colab": {
          "base_uri": "https://localhost:8080/",
          "height": 280
        },
        "id": "CBfjQShM5dUV",
        "outputId": "c9936323-9033-4ae6-8379-4cfba8107ff8"
      },
      "outputs": [
        {
          "data": {
            "image/png": "[encoded data removed]",
            "text/plain": [
              "<Figure size 432x288 with 1 Axes>"
            ]
          },
          "metadata": {
            "needs_background": "light"
          },
          "output_type": "display_data"
        }
      ],
      "source": [
        "students.plot.line(x = 'student_id', y = 'amount_paid');"
      ]
    },
    {
      "cell_type": "markdown",
      "metadata": {
        "id": "ID-LP4sI6NVt"
      },
      "source": [
        "### `Scatter Plot`\n",
        "\n",
        "Let us create a dataset of random values then visualize it.  "
      ]
    },
    {
      "cell_type": "code",
      "execution_count": 99,
      "metadata": {
        "id": "YPLklg1n5_9Q"
      },
      "outputs": [],
      "source": [
        "df = pd.DataFrame(np.random.randn(1000, 4), columns = list('ABCD'))"
      ]
    },
    {
      "cell_type": "code",
      "execution_count": 100,
      "metadata": {
        "colab": {
          "base_uri": "https://localhost:8080/",
          "height": 279
        },
        "id": "VGCI4Z-c6SKP",
        "outputId": "95e73603-826a-43d7-d414-fcabace7cc53"
      },
      "outputs": [
        {
          "data": {
            "image/png": "[encoded data removed]",
            "text/plain": [
              "<Figure size 432x288 with 1 Axes>"
            ]
          },
          "metadata": {
            "needs_background": "light"
          },
          "output_type": "display_data"
        }
      ],
      "source": [
        "df.plot.scatter(x = 'A', y = 'B');"
      ]
    },
    {
      "cell_type": "code",
      "execution_count": 101,
      "metadata": {
        "colab": {
          "base_uri": "https://localhost:8080/",
          "height": 279
        },
        "id": "yfB808ct6hXi",
        "outputId": "6c30c97c-e510-4211-9f2e-df017f82cdce"
      },
      "outputs": [
        {
          "data": {
            "image/png": "[encoded data removed]",
            "text/plain": [
              "<Figure size 432x288 with 1 Axes>"
            ]
          },
          "metadata": {
            "needs_background": "light"
          },
          "output_type": "display_data"
        }
      ],
      "source": [
        "#let's change the color by passing in the 'c' parameter\n",
        "df.plot.scatter(x = 'A', y = 'B', c = 'darkgreen');   #we can change the color to our taste"
      ]
    },
    {
      "cell_type": "code",
      "execution_count": 102,
      "metadata": {
        "colab": {
          "base_uri": "https://localhost:8080/",
          "height": 252
        },
        "id": "ekpvPoCy6kru",
        "outputId": "3a8f8319-dfce-41cf-a317-7fe3c157ddac"
      },
      "outputs": [
        {
          "data": {
            "image/png": "[encoded data removed]",
            "text/plain": [
              "<Figure size 432x288 with 2 Axes>"
            ]
          },
          "metadata": {
            "needs_background": "light"
          },
          "output_type": "display_data"
        }
      ],
      "source": [
        "#We can also use a column as the color, this will generate a heatmap\n",
        "df.plot.scatter(x = 'A', y = 'B', c = 'C');"
      ]
    },
    {
      "cell_type": "markdown",
      "metadata": {
        "id": "kY1URTt96ois"
      },
      "source": [
        "## `Conclusion`\n",
        "\n",
        "That's it. We've looked at only a handful of the things we can do with Pandas\n",
        "* Creating Pandas Series\n",
        "* Creating Pandas DataFrame\n",
        "* Creating datasets from files\n",
        "* Data Exploration\n",
        "* Indexing\n",
        "* Aggregation & Transformation\n",
        "* Visualisation\n",
        "\n",
        "There are still of methods available to us through Pandas which we have not explored in this notebook. There's also concepts like hierarchical indexing which is incredibly useful for working with higher dimensionsal data. You can read about this here - [MultiIndex / advanced indexing](https://pandas.pydata.org/pandas-docs/stable/user_guide/advanced.html#multiindex-advanced-indexing) and here [Hierarchical Indexing](https://jakevdp.github.io/PythonDataScienceHandbook/03.05-hierarchical-indexing.html)"
      ]
    },
    {
      "cell_type": "markdown",
      "metadata": {},
      "source": []
    }
  ],
  "metadata": {
    "accelerator": "GPU",
    "colab": {
      "collapsed_sections": [],
      "name": "Pandas notebook",
      "provenance": []
    },
    "interpreter": {
      "hash": "60adf44524369d28879ffaeaaf97c415106b0a87f2ed277ea1e28d760cf61442"
    },
    "kernelspec": {
      "display_name": "Python 3.9.6 64-bit ('proto': conda)",
      "name": "python3"
    },
    "language_info": {
      "codemirror_mode": {
        "name": "ipython",
        "version": 3
      },
      "file_extension": ".py",
      "mimetype": "text/x-python",
      "name": "python",
      "nbconvert_exporter": "python",
      "pygments_lexer": "ipython3",
      "version": "3.9.6"
    }
  },
  "nbformat": 4,
  "nbformat_minor": 0
}
