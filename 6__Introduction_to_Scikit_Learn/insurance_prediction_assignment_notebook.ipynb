{
 "cells": [
  {
   "cell_type": "markdown",
   "metadata": {},
   "source": [
    "# Introduction\n",
    "\n",
    "This notebook serves as a guide to successfully excute the given task covering introduction to sklearn. It should be used together with the \n",
    "\n",
    "- `Scikit_Learn_Practical_Feature_Engineering_and Model_Building.ipynb`\n",
    "- `insurance_prediction_starter_notebook.ipynb`\n"
   ]
  },
  {
   "cell_type": "markdown",
   "metadata": {},
   "source": [
    "# Here is the competition link\n",
    "\n",
    "- https://zindi.africa/competitions/data-science-nigeria-2019-challenge-1-insurance-prediction/\n",
    "\n",
    "- You can join the competition (make sure you are registered on zindi before hand) and download the data here\n",
    "\n",
    "- https://zindi.africa/competitions/data-science-nigeria-2019-challenge-1-insurance-prediction/data\n",
    "\n",
    "- Also make submissions on\n",
    "\n",
    "- https://zindi.africa/competitions/data-science-nigeria-2019-challenge-1-insurance-prediction/submissions\n",
    "\n",
    "- Upload your csv submission file to make submission"
   ]
  },
  {
   "cell_type": "code",
   "execution_count": null,
   "metadata": {},
   "outputs": [],
   "source": []
  },
  {
   "cell_type": "markdown",
   "metadata": {},
   "source": [
    "# Import the libraries needed to read-in and manipulate the data"
   ]
  },
  {
   "cell_type": "code",
   "execution_count": null,
   "metadata": {},
   "outputs": [],
   "source": []
  },
  {
   "cell_type": "markdown",
   "metadata": {},
   "source": [
    "# Set a random seed to ensure the reproducibility of your notebook"
   ]
  },
  {
   "cell_type": "code",
   "execution_count": null,
   "metadata": {},
   "outputs": [],
   "source": []
  },
  {
   "cell_type": "markdown",
   "metadata": {},
   "source": [
    "# Read in your train, test, variable definition and sample submission datasets using pandas"
   ]
  },
  {
   "cell_type": "code",
   "execution_count": null,
   "metadata": {},
   "outputs": [],
   "source": []
  },
  {
   "cell_type": "markdown",
   "metadata": {},
   "source": [
    "# Explore the training and test datasets checking their head, info, description, shape, value counts etc. Take pointers from the sklearn pratical notebook"
   ]
  },
  {
   "cell_type": "code",
   "execution_count": null,
   "metadata": {},
   "outputs": [],
   "source": []
  },
  {
   "cell_type": "markdown",
   "metadata": {},
   "source": [
    "# Note that any changes been made to your training dataset shouldbe replicates to the test dataset to ensure they both match"
   ]
  },
  {
   "cell_type": "markdown",
   "metadata": {},
   "source": [
    "# Check for duplicate values and remove them (if any)"
   ]
  },
  {
   "cell_type": "code",
   "execution_count": null,
   "metadata": {},
   "outputs": [],
   "source": []
  },
  {
   "cell_type": "markdown",
   "metadata": {},
   "source": [
    "# Remove any column which doesnt contribute toward predicting our churn value (Note: this should be done in both training and test dataset)"
   ]
  },
  {
   "cell_type": "code",
   "execution_count": null,
   "metadata": {},
   "outputs": [],
   "source": []
  },
  {
   "cell_type": "code",
   "execution_count": null,
   "metadata": {},
   "outputs": [],
   "source": []
  },
  {
   "cell_type": "markdown",
   "metadata": {},
   "source": [
    "# Check for the presence of missing variables and  also identify the categorical columns within your training and test dataset"
   ]
  },
  {
   "cell_type": "code",
   "execution_count": null,
   "metadata": {},
   "outputs": [],
   "source": []
  },
  {
   "cell_type": "markdown",
   "metadata": {},
   "source": [
    "# Handle the missing variables in the categorical columns in your training and test dataset\n",
    "\n",
    "- There are several ways to fill missing values: mode, mean, median. Sometimes, you may even fill with the mean, median or mode of a particular group of you data.\n",
    "- There are some resources shared to help you explore missing data here. "
   ]
  },
  {
   "cell_type": "code",
   "execution_count": null,
   "metadata": {},
   "outputs": [],
   "source": []
  },
  {
   "cell_type": "markdown",
   "metadata": {},
   "source": [
    "# Handle the missing variables in the numerical columns using any method of your choice (within both your training and test dataset)"
   ]
  },
  {
   "cell_type": "code",
   "execution_count": null,
   "metadata": {},
   "outputs": [],
   "source": []
  },
  {
   "cell_type": "markdown",
   "metadata": {
    "ExecuteTime": {
     "end_time": "2021-11-13T19:57:41.207854Z",
     "start_time": "2021-11-13T19:57:41.178508Z"
    }
   },
   "source": [
    "# Encode the categorical Columns present in your training and test dataset\n",
    "- There are several ways to encode categorical columns. (How to Win a Data Science Competition)[https://www.coursera.org/learn/competitive-data-science] includes some interesting methods.\n",
    "- There are some algorithms that can handle categorical columns automatically. An example is `catboost`. "
   ]
  },
  {
   "cell_type": "code",
   "execution_count": null,
   "metadata": {},
   "outputs": [],
   "source": []
  },
  {
   "cell_type": "markdown",
   "metadata": {},
   "source": [
    "# Check that all columns are of a numerical type (float or int) and ensure there are no missing values (nan) in your training and test dataset"
   ]
  },
  {
   "cell_type": "code",
   "execution_count": null,
   "metadata": {},
   "outputs": [],
   "source": []
  },
  {
   "cell_type": "markdown",
   "metadata": {},
   "source": [
    "# Split your train data into X and y"
   ]
  },
  {
   "cell_type": "code",
   "execution_count": null,
   "metadata": {},
   "outputs": [],
   "source": []
  },
  {
   "cell_type": "markdown",
   "metadata": {},
   "source": [
    "# Import all libraries you would need for the modelling stage"
   ]
  },
  {
   "cell_type": "code",
   "execution_count": null,
   "metadata": {},
   "outputs": [],
   "source": []
  },
  {
   "cell_type": "markdown",
   "metadata": {
    "ExecuteTime": {
     "end_time": "2021-11-13T20:15:09.185625Z",
     "start_time": "2021-11-13T20:15:09.159615Z"
    }
   },
   "source": [
    "# Split your train data using train test split for use in identifying the best model"
   ]
  },
  {
   "cell_type": "code",
   "execution_count": null,
   "metadata": {},
   "outputs": [],
   "source": []
  },
  {
   "cell_type": "markdown",
   "metadata": {},
   "source": [
    "# Train 4 different machine learning models using the data above\n",
    "\n",
    "- Take pointers from the intro to sklearn pratical notebook as well as the starter notebook for the competition\n",
    "- Choose the appropriate model type for the problem at hand (Classification problem)\n",
    "- When predicting with the models use predict_probablity method instead of of the predict method and isolate the predictions for the positive or \"1\" Class. This is because of the `roc_auc` metric. \n",
    "- the evaluation matrix being used for this competition is the `roc_auc` metric available in sklearn. Use it to evaluate your model performance on the X_test."
   ]
  },
  {
   "cell_type": "code",
   "execution_count": null,
   "metadata": {},
   "outputs": [],
   "source": [
    "# example for logistic regression model\n",
    "\n",
    "lg = LogisticRegression(max_iter=10000, random_state=5, n_jobs=-1, verbose=5)\n",
    "lg.fit(X_train, y_train)\n",
    "pred = lg.predict_proba(X_test)\n",
    "pred = [x[1] for x in pred]\n",
    "print(roc_auc_score(y_test, pred))"
   ]
  },
  {
   "cell_type": "code",
   "execution_count": null,
   "metadata": {},
   "outputs": [],
   "source": []
  },
  {
   "cell_type": "markdown",
   "metadata": {},
   "source": [
    "# Identify the best performing model"
   ]
  },
  {
   "cell_type": "code",
   "execution_count": null,
   "metadata": {},
   "outputs": [],
   "source": [
    "# make prediction on the test data using stratified Kfold cross validation\n",
    "- Determine the number of folds"
   ]
  },
  {
   "cell_type": "markdown",
   "metadata": {},
   "source": []
  },
  {
   "cell_type": "markdown",
   "metadata": {},
   "source": [
    "# Save your predictions for each model and make your submissions\n",
    "\n",
    "- Save it to a csv file and make your submission using the csv file on zindi\n",
    "- hint: Check starter notebook"
   ]
  },
  {
   "cell_type": "code",
   "execution_count": null,
   "metadata": {},
   "outputs": [],
   "source": []
  },
  {
   "cell_type": "markdown",
   "metadata": {},
   "source": [
    "# Ensemble your model using a VotingClassifier and make another submisison\n"
   ]
  },
  {
   "cell_type": "code",
   "execution_count": null,
   "metadata": {},
   "outputs": [],
   "source": []
  },
  {
   "cell_type": "markdown",
   "metadata": {},
   "source": [
    "# Improve your model by\n",
    "\n",
    "- Tuning hyperparameters\n",
    "- Feature Selection\n",
    "- Feature Engineering etc.\n",
    " \n",
    "- Then submit the new csv file. repeat this until you get the best score....you can check the top performing score on the leaderboard"
   ]
  },
  {
   "cell_type": "markdown",
   "metadata": {},
   "source": [
    "# Good Luck!!!"
   ]
  }
 ],
 "metadata": {
  "kernelspec": {
   "display_name": "Python [conda env:tf_gpu]",
   "language": "python",
   "name": "conda-env-tf_gpu-py"
  },
  "language_info": {
   "codemirror_mode": {
    "name": "ipython",
    "version": 3
   },
   "file_extension": ".py",
   "mimetype": "text/x-python",
   "name": "python",
   "nbconvert_exporter": "python",
   "pygments_lexer": "ipython3",
   "version": "3.7.9"
  },
  "toc": {
   "base_numbering": 1,
   "nav_menu": {},
   "number_sections": true,
   "sideBar": true,
   "skip_h1_title": false,
   "title_cell": "Table of Contents",
   "title_sidebar": "Contents",
   "toc_cell": false,
   "toc_position": {},
   "toc_section_display": true,
   "toc_window_display": false
  },
  "varInspector": {
   "cols": {
    "lenName": 16,
    "lenType": 16,
    "lenVar": 40
   },
   "kernels_config": {
    "python": {
     "delete_cmd_postfix": "",
     "delete_cmd_prefix": "del ",
     "library": "var_list.py",
     "varRefreshCmd": "print(var_dic_list())"
    },
    "r": {
     "delete_cmd_postfix": ") ",
     "delete_cmd_prefix": "rm(",
     "library": "var_list.r",
     "varRefreshCmd": "cat(var_dic_list()) "
    }
   },
   "types_to_exclude": [
    "module",
    "function",
    "builtin_function_or_method",
    "instance",
    "_Feature"
   ],
   "window_display": false
  }
 },
 "nbformat": 4,
 "nbformat_minor": 4
}
